{
  "nbformat": 4,
  "nbformat_minor": 0,
  "metadata": {
    "colab": {
      "name": "Get_risk_score.ipynb",
      "provenance": [],
      "toc_visible": true,
      "authorship_tag": "ABX9TyO1Q7uPB+5+gU9++yHyk5bA",
      "include_colab_link": true
    },
    "kernelspec": {
      "name": "python3",
      "display_name": "Python 3"
    }
  },
  "cells": [
    {
      "cell_type": "markdown",
      "metadata": {
        "id": "view-in-github",
        "colab_type": "text"
      },
      "source": [
        "<a href=\"https://colab.research.google.com/github/wujj0326/COVID_Risk_Competition/blob/master/Get_risk_score.ipynb\" target=\"_parent\"><img src=\"https://colab.research.google.com/assets/colab-badge.svg\" alt=\"Open In Colab\"/></a>"
      ]
    },
    {
      "cell_type": "markdown",
      "metadata": {
        "id": "Bbary_cfvYlP",
        "colab_type": "text"
      },
      "source": [
        "# LA County Risk Score"
      ]
    },
    {
      "cell_type": "markdown",
      "metadata": {
        "id": "NONYUqBXlanq",
        "colab_type": "text"
      },
      "source": [
        "## import risk data"
      ]
    },
    {
      "cell_type": "code",
      "metadata": {
        "id": "9KzdHo-ek83u",
        "colab_type": "code",
        "colab": {}
      },
      "source": [
        "import pandas as pd\n",
        "import numpy as np\n",
        "from sklearn.preprocessing import MinMaxScaler"
      ],
      "execution_count": 7,
      "outputs": []
    },
    {
      "cell_type": "code",
      "metadata": {
        "id": "FHY27pqVYSJc",
        "colab_type": "code",
        "colab": {}
      },
      "source": [
        "risk = pd.read_csv('https://raw.githubusercontent.com/wujj0326/COVID_Risk_Competition/master/Data/risk_confirmed.csv')"
      ],
      "execution_count": 34,
      "outputs": []
    },
    {
      "cell_type": "code",
      "metadata": {
        "id": "fk39WCo6a66R",
        "colab_type": "code",
        "colab": {
          "base_uri": "https://localhost:8080/",
          "height": 195
        },
        "outputId": "eb0568e1-e6e1-430d-a5af-c6473b63a196"
      },
      "source": [
        "risk.head()"
      ],
      "execution_count": 35,
      "outputs": [
        {
          "output_type": "execute_result",
          "data": {
            "text/html": [
              "<div>\n",
              "<style scoped>\n",
              "    .dataframe tbody tr th:only-of-type {\n",
              "        vertical-align: middle;\n",
              "    }\n",
              "\n",
              "    .dataframe tbody tr th {\n",
              "        vertical-align: top;\n",
              "    }\n",
              "\n",
              "    .dataframe thead th {\n",
              "        text-align: right;\n",
              "    }\n",
              "</style>\n",
              "<table border=\"1\" class=\"dataframe\">\n",
              "  <thead>\n",
              "    <tr style=\"text-align: right;\">\n",
              "      <th></th>\n",
              "      <th>City</th>\n",
              "      <th>confirmed_cases</th>\n",
              "      <th>death_cases</th>\n",
              "      <th>pop2010</th>\n",
              "      <th>avg_traffic</th>\n",
              "      <th>avg_asthma</th>\n",
              "      <th>avg_cardiovascular</th>\n",
              "      <th>avg_poverty</th>\n",
              "      <th>avg_elderly</th>\n",
              "      <th>pop_dens</th>\n",
              "    </tr>\n",
              "  </thead>\n",
              "  <tbody>\n",
              "    <tr>\n",
              "      <th>0</th>\n",
              "      <td>Acton</td>\n",
              "      <td>11</td>\n",
              "      <td>1</td>\n",
              "      <td>53654</td>\n",
              "      <td>1058.69</td>\n",
              "      <td>73.62</td>\n",
              "      <td>11.00</td>\n",
              "      <td>70.81</td>\n",
              "      <td>5.24</td>\n",
              "      <td>120974.0</td>\n",
              "    </tr>\n",
              "    <tr>\n",
              "      <th>1</th>\n",
              "      <td>Agoura Hills</td>\n",
              "      <td>35</td>\n",
              "      <td>1</td>\n",
              "      <td>60009</td>\n",
              "      <td>1023.45</td>\n",
              "      <td>77.60</td>\n",
              "      <td>10.95</td>\n",
              "      <td>72.49</td>\n",
              "      <td>5.45</td>\n",
              "      <td>177875.5</td>\n",
              "    </tr>\n",
              "    <tr>\n",
              "      <th>2</th>\n",
              "      <td>Alhambra</td>\n",
              "      <td>226</td>\n",
              "      <td>8</td>\n",
              "      <td>112060</td>\n",
              "      <td>1816.86</td>\n",
              "      <td>47.43</td>\n",
              "      <td>7.17</td>\n",
              "      <td>46.00</td>\n",
              "      <td>10.40</td>\n",
              "      <td>551582.0</td>\n",
              "    </tr>\n",
              "    <tr>\n",
              "      <th>3</th>\n",
              "      <td>Altadena</td>\n",
              "      <td>157</td>\n",
              "      <td>5</td>\n",
              "      <td>69531</td>\n",
              "      <td>1379.59</td>\n",
              "      <td>34.64</td>\n",
              "      <td>5.34</td>\n",
              "      <td>55.34</td>\n",
              "      <td>10.67</td>\n",
              "      <td>864902.9</td>\n",
              "    </tr>\n",
              "    <tr>\n",
              "      <th>4</th>\n",
              "      <td>Arcadia</td>\n",
              "      <td>104</td>\n",
              "      <td>7</td>\n",
              "      <td>70416</td>\n",
              "      <td>1305.56</td>\n",
              "      <td>49.61</td>\n",
              "      <td>6.12</td>\n",
              "      <td>73.43</td>\n",
              "      <td>8.78</td>\n",
              "      <td>755363.9</td>\n",
              "    </tr>\n",
              "  </tbody>\n",
              "</table>\n",
              "</div>"
            ],
            "text/plain": [
              "           City  confirmed_cases  ...  avg_elderly  pop_dens\n",
              "0         Acton               11  ...         5.24  120974.0\n",
              "1  Agoura Hills               35  ...         5.45  177875.5\n",
              "2      Alhambra              226  ...        10.40  551582.0\n",
              "3      Altadena              157  ...        10.67  864902.9\n",
              "4       Arcadia              104  ...         8.78  755363.9\n",
              "\n",
              "[5 rows x 10 columns]"
            ]
          },
          "metadata": {
            "tags": []
          },
          "execution_count": 35
        }
      ]
    },
    {
      "cell_type": "code",
      "metadata": {
        "id": "37ARkXndbAi3",
        "colab_type": "code",
        "colab": {}
      },
      "source": [
        "# normalize the scale by using minmaxscaler\n",
        "scale_risk = MinMaxScaler(feature_range=(0, 1))\n",
        "features = scale_risk.fit_transform(risk.iloc[:,3:-1])\n",
        "\n",
        "#  vulnerable factors related to death cases\n",
        "\n",
        "# •       elderly\n",
        "\n",
        "# •       asthma\n",
        "\n",
        "# •       cardiovascular\n",
        "\n",
        "#  vulnearble factors related to infected cases\n",
        "\n",
        "# •       poverty: the higher the value the poorer the area\n",
        "\n",
        "# •       traffic\n",
        "\n",
        "# •       population\n",
        "\n",
        "confirm_feat = np.sum(features[:,np.r_[0,1,4]],axis=1)\n",
        "death_feat = np.sum(features[:,np.r_[2,3,5]],axis=1)"
      ],
      "execution_count": 10,
      "outputs": []
    },
    {
      "cell_type": "code",
      "metadata": {
        "id": "bTzemSyPew_4",
        "colab_type": "code",
        "colab": {}
      },
      "source": [
        "# apply sigmoid function to confirm feature and death feature\n",
        "sig_confirmed = 1/(1 + np.exp(confirm_feat)) \n",
        "sig_death = 1/(1 + np.exp(death_feat)) "
      ],
      "execution_count": 11,
      "outputs": []
    },
    {
      "cell_type": "code",
      "metadata": {
        "id": "W272iqdUfO-7",
        "colab_type": "code",
        "colab": {}
      },
      "source": [
        "risk['confirmed_score'] = sig_confirmed\n",
        "risk['death_score'] = sig_death"
      ],
      "execution_count": 12,
      "outputs": []
    },
    {
      "cell_type": "code",
      "metadata": {
        "id": "6EPtgpXrO-zn",
        "colab_type": "code",
        "colab": {}
      },
      "source": [
        "risk_score = risk.iloc[:,np.r_[0,-2,-1]]"
      ],
      "execution_count": 13,
      "outputs": []
    },
    {
      "cell_type": "markdown",
      "metadata": {
        "id": "Kh6Em0LnlQyV",
        "colab_type": "text"
      },
      "source": [
        "## import the predicted data"
      ]
    },
    {
      "cell_type": "code",
      "metadata": {
        "id": "ApE9l80FGrIk",
        "colab_type": "code",
        "colab": {}
      },
      "source": [
        "case_fit = pd.read_csv('https://raw.githubusercontent.com/wujj0326/COVID_Risk_Competition/master/Data/cases_prediction.csv')"
      ],
      "execution_count": 32,
      "outputs": []
    },
    {
      "cell_type": "code",
      "metadata": {
        "id": "G--v1G-2Y1vc",
        "colab_type": "code",
        "colab": {
          "base_uri": "https://localhost:8080/",
          "height": 254
        },
        "outputId": "6973be3b-1b4a-4d37-ae22-7f6b91979f92"
      },
      "source": [
        "case_fit"
      ],
      "execution_count": 33,
      "outputs": [
        {
          "output_type": "execute_result",
          "data": {
            "text/html": [
              "<div>\n",
              "<style scoped>\n",
              "    .dataframe tbody tr th:only-of-type {\n",
              "        vertical-align: middle;\n",
              "    }\n",
              "\n",
              "    .dataframe tbody tr th {\n",
              "        vertical-align: top;\n",
              "    }\n",
              "\n",
              "    .dataframe thead th {\n",
              "        text-align: right;\n",
              "    }\n",
              "</style>\n",
              "<table border=\"1\" class=\"dataframe\">\n",
              "  <thead>\n",
              "    <tr style=\"text-align: right;\">\n",
              "      <th></th>\n",
              "      <th>time</th>\n",
              "      <th>positive</th>\n",
              "      <th>positive_low</th>\n",
              "      <th>positive_high</th>\n",
              "    </tr>\n",
              "  </thead>\n",
              "  <tbody>\n",
              "    <tr>\n",
              "      <th>0</th>\n",
              "      <td>7/29/2020</td>\n",
              "      <td>181121.1035</td>\n",
              "      <td>179840.8907</td>\n",
              "      <td>182761.2016</td>\n",
              "    </tr>\n",
              "    <tr>\n",
              "      <th>1</th>\n",
              "      <td>7/30/2020</td>\n",
              "      <td>183586.7964</td>\n",
              "      <td>182180.9785</td>\n",
              "      <td>185600.7594</td>\n",
              "    </tr>\n",
              "    <tr>\n",
              "      <th>2</th>\n",
              "      <td>7/31/2020</td>\n",
              "      <td>186078.0061</td>\n",
              "      <td>184542.7771</td>\n",
              "      <td>188478.2714</td>\n",
              "    </tr>\n",
              "    <tr>\n",
              "      <th>3</th>\n",
              "      <td>8/1/2020</td>\n",
              "      <td>188595.2395</td>\n",
              "      <td>186926.7146</td>\n",
              "      <td>191394.5058</td>\n",
              "    </tr>\n",
              "    <tr>\n",
              "      <th>4</th>\n",
              "      <td>8/2/2020</td>\n",
              "      <td>191139.0128</td>\n",
              "      <td>189333.2267</td>\n",
              "      <td>194350.2463</td>\n",
              "    </tr>\n",
              "    <tr>\n",
              "      <th>5</th>\n",
              "      <td>8/3/2020</td>\n",
              "      <td>193709.8516</td>\n",
              "      <td>191762.7570</td>\n",
              "      <td>197346.2921</td>\n",
              "    </tr>\n",
              "    <tr>\n",
              "      <th>6</th>\n",
              "      <td>8/4/2020</td>\n",
              "      <td>196308.2903</td>\n",
              "      <td>194215.7553</td>\n",
              "      <td>200383.4582</td>\n",
              "    </tr>\n",
              "  </tbody>\n",
              "</table>\n",
              "</div>"
            ],
            "text/plain": [
              "        time     positive  positive_low  positive_high\n",
              "0  7/29/2020  181121.1035   179840.8907    182761.2016\n",
              "1  7/30/2020  183586.7964   182180.9785    185600.7594\n",
              "2  7/31/2020  186078.0061   184542.7771    188478.2714\n",
              "3   8/1/2020  188595.2395   186926.7146    191394.5058\n",
              "4   8/2/2020  191139.0128   189333.2267    194350.2463\n",
              "5   8/3/2020  193709.8516   191762.7570    197346.2921\n",
              "6   8/4/2020  196308.2903   194215.7553    200383.4582"
            ]
          },
          "metadata": {
            "tags": []
          },
          "execution_count": 33
        }
      ]
    },
    {
      "cell_type": "code",
      "metadata": {
        "id": "ti9Ui4agdijI",
        "colab_type": "code",
        "colab": {}
      },
      "source": [
        "death = pd.read_csv('https://raw.githubusercontent.com/wujj0326/COVID_Risk_Competition/master/Data/deaths_prediction.csv')"
      ],
      "execution_count": 30,
      "outputs": []
    },
    {
      "cell_type": "code",
      "metadata": {
        "id": "uwtIjENzdodK",
        "colab_type": "code",
        "colab": {
          "base_uri": "https://localhost:8080/",
          "height": 254
        },
        "outputId": "e491dae3-7baf-4e7e-ce6f-788c458fc841"
      },
      "source": [
        "death"
      ],
      "execution_count": 31,
      "outputs": [
        {
          "output_type": "execute_result",
          "data": {
            "text/html": [
              "<div>\n",
              "<style scoped>\n",
              "    .dataframe tbody tr th:only-of-type {\n",
              "        vertical-align: middle;\n",
              "    }\n",
              "\n",
              "    .dataframe tbody tr th {\n",
              "        vertical-align: top;\n",
              "    }\n",
              "\n",
              "    .dataframe thead th {\n",
              "        text-align: right;\n",
              "    }\n",
              "</style>\n",
              "<table border=\"1\" class=\"dataframe\">\n",
              "  <thead>\n",
              "    <tr style=\"text-align: right;\">\n",
              "      <th></th>\n",
              "      <th>time</th>\n",
              "      <th>dead</th>\n",
              "      <th>dead_low</th>\n",
              "      <th>dead_high</th>\n",
              "    </tr>\n",
              "  </thead>\n",
              "  <tbody>\n",
              "    <tr>\n",
              "      <th>0</th>\n",
              "      <td>7/29/2020</td>\n",
              "      <td>4457.672053</td>\n",
              "      <td>4442.130056</td>\n",
              "      <td>4472.148723</td>\n",
              "    </tr>\n",
              "    <tr>\n",
              "      <th>1</th>\n",
              "      <td>7/30/2020</td>\n",
              "      <td>4489.281939</td>\n",
              "      <td>4470.465939</td>\n",
              "      <td>4506.684092</td>\n",
              "    </tr>\n",
              "    <tr>\n",
              "      <th>2</th>\n",
              "      <td>7/31/2020</td>\n",
              "      <td>4520.776952</td>\n",
              "      <td>4498.364630</td>\n",
              "      <td>4541.215381</td>\n",
              "    </tr>\n",
              "    <tr>\n",
              "      <th>3</th>\n",
              "      <td>8/1/2020</td>\n",
              "      <td>4552.160918</td>\n",
              "      <td>4526.103289</td>\n",
              "      <td>4575.747185</td>\n",
              "    </tr>\n",
              "    <tr>\n",
              "      <th>4</th>\n",
              "      <td>8/2/2020</td>\n",
              "      <td>4583.437635</td>\n",
              "      <td>4553.685923</td>\n",
              "      <td>4610.284097</td>\n",
              "    </tr>\n",
              "    <tr>\n",
              "      <th>5</th>\n",
              "      <td>8/3/2020</td>\n",
              "      <td>4614.610869</td>\n",
              "      <td>4581.116484</td>\n",
              "      <td>4644.830712</td>\n",
              "    </tr>\n",
              "    <tr>\n",
              "      <th>6</th>\n",
              "      <td>8/4/2020</td>\n",
              "      <td>4645.684357</td>\n",
              "      <td>4608.398865</td>\n",
              "      <td>4679.391622</td>\n",
              "    </tr>\n",
              "  </tbody>\n",
              "</table>\n",
              "</div>"
            ],
            "text/plain": [
              "        time         dead     dead_low    dead_high\n",
              "0  7/29/2020  4457.672053  4442.130056  4472.148723\n",
              "1  7/30/2020  4489.281939  4470.465939  4506.684092\n",
              "2  7/31/2020  4520.776952  4498.364630  4541.215381\n",
              "3   8/1/2020  4552.160918  4526.103289  4575.747185\n",
              "4   8/2/2020  4583.437635  4553.685923  4610.284097\n",
              "5   8/3/2020  4614.610869  4581.116484  4644.830712\n",
              "6   8/4/2020  4645.684357  4608.398865  4679.391622"
            ]
          },
          "metadata": {
            "tags": []
          },
          "execution_count": 31
        }
      ]
    },
    {
      "cell_type": "markdown",
      "metadata": {
        "id": "oluPMGX_lh3p",
        "colab_type": "text"
      },
      "source": [
        "## Get Hazard Score\n"
      ]
    },
    {
      "cell_type": "code",
      "metadata": {
        "id": "HJAX39nBdsmf",
        "colab_type": "code",
        "colab": {}
      },
      "source": [
        "prediction = pd.merge(case_fit, death, left_on='time', right_on='time')"
      ],
      "execution_count": 18,
      "outputs": []
    },
    {
      "cell_type": "code",
      "metadata": {
        "id": "61LTipHmGvdz",
        "colab_type": "code",
        "colab": {}
      },
      "source": [
        "prediction = prediction.iloc[:,[0,1,4]]"
      ],
      "execution_count": 19,
      "outputs": []
    },
    {
      "cell_type": "code",
      "metadata": {
        "id": "wrGPXHBmGwfg",
        "colab_type": "code",
        "colab": {}
      },
      "source": [
        "prediction['positive_increase'] = prediction['positive'].diff()\n",
        "prediction['dead_increase'] = prediction['dead'].diff()"
      ],
      "execution_count": 20,
      "outputs": []
    },
    {
      "cell_type": "code",
      "metadata": {
        "id": "sSxEkEBFZVIy",
        "colab_type": "code",
        "colab": {}
      },
      "source": [
        "prediction = prediction.iloc[1:,[0,3,4]].reset_index(drop=True)"
      ],
      "execution_count": 21,
      "outputs": []
    },
    {
      "cell_type": "code",
      "metadata": {
        "id": "tpPGl8eHfAoP",
        "colab_type": "code",
        "colab": {}
      },
      "source": [
        "def norm_hazard(alpha,data):\n",
        "  alpha = alpha\n",
        "  data['hazard'] = data['positive_increase']*alpha + data['dead_increase']*(1-alpha)\n",
        "  return data"
      ],
      "execution_count": 22,
      "outputs": []
    },
    {
      "cell_type": "code",
      "metadata": {
        "id": "5kvfrMhagWKj",
        "colab_type": "code",
        "colab": {}
      },
      "source": [
        "pred_haz = norm_hazard(0.012,prediction).iloc[:,[0,-1]]"
      ],
      "execution_count": 23,
      "outputs": []
    },
    {
      "cell_type": "markdown",
      "metadata": {
        "id": "SzvcZHSFlrHS",
        "colab_type": "text"
      },
      "source": [
        "## Get Risk Score"
      ]
    },
    {
      "cell_type": "code",
      "metadata": {
        "id": "WV7EVu1XRIOy",
        "colab_type": "code",
        "colab": {
          "base_uri": "https://localhost:8080/",
          "height": 455
        },
        "outputId": "fcee95f5-c4d5-425b-d1b4-1728e97a1edc"
      },
      "source": [
        "risk_score['risk_{}'.format(pred_haz['time'][0])] = risk_score['confirmed_score']*pred_haz['hazard'][0]\n",
        "risk_score['risk_{}'.format(pred_haz['time'][1])] = risk_score['confirmed_score']*pred_haz['hazard'][1]\n",
        "risk_score['risk_{}'.format(pred_haz['time'][2])] = risk_score['confirmed_score']*pred_haz['hazard'][2]\n",
        "risk_score['risk_{}'.format(pred_haz['time'][3])] = risk_score['confirmed_score']*pred_haz['hazard'][3]\n",
        "risk_score['risk_{}'.format(pred_haz['time'][4])] = risk_score['confirmed_score']*pred_haz['hazard'][4]\n",
        "risk_score['risk_{}'.format(pred_haz['time'][5])] = risk_score['confirmed_score']*pred_haz['hazard'][5]"
      ],
      "execution_count": 29,
      "outputs": [
        {
          "output_type": "execute_result",
          "data": {
            "text/html": [
              "<div>\n",
              "<style scoped>\n",
              "    .dataframe tbody tr th:only-of-type {\n",
              "        vertical-align: middle;\n",
              "    }\n",
              "\n",
              "    .dataframe tbody tr th {\n",
              "        vertical-align: top;\n",
              "    }\n",
              "\n",
              "    .dataframe thead th {\n",
              "        text-align: right;\n",
              "    }\n",
              "</style>\n",
              "<table border=\"1\" class=\"dataframe\">\n",
              "  <thead>\n",
              "    <tr style=\"text-align: right;\">\n",
              "      <th></th>\n",
              "      <th>City</th>\n",
              "      <th>confirmed_score</th>\n",
              "      <th>death_score</th>\n",
              "      <th>risk_7/30/2020</th>\n",
              "      <th>risk_7/31/2020</th>\n",
              "      <th>risk_8/1/2020</th>\n",
              "      <th>risk_8/2/2020</th>\n",
              "      <th>risk_8/3/2020</th>\n",
              "      <th>risk_8/4/2020</th>\n",
              "      <th>weekly_score</th>\n",
              "    </tr>\n",
              "  </thead>\n",
              "  <tbody>\n",
              "    <tr>\n",
              "      <th>0</th>\n",
              "      <td>Acton</td>\n",
              "      <td>0.189272</td>\n",
              "      <td>0.220192</td>\n",
              "      <td>11.511339</td>\n",
              "      <td>11.547813</td>\n",
              "      <td>11.586154</td>\n",
              "      <td>11.626378</td>\n",
              "      <td>11.668499</td>\n",
              "      <td>11.712534</td>\n",
              "      <td>11.608786</td>\n",
              "    </tr>\n",
              "    <tr>\n",
              "      <th>1</th>\n",
              "      <td>Agoura Hills</td>\n",
              "      <td>0.181774</td>\n",
              "      <td>0.213950</td>\n",
              "      <td>11.055304</td>\n",
              "      <td>11.090333</td>\n",
              "      <td>11.127155</td>\n",
              "      <td>11.165785</td>\n",
              "      <td>11.206238</td>\n",
              "      <td>11.248528</td>\n",
              "      <td>11.148890</td>\n",
              "    </tr>\n",
              "    <tr>\n",
              "      <th>2</th>\n",
              "      <td>Alhambra</td>\n",
              "      <td>0.144250</td>\n",
              "      <td>0.270825</td>\n",
              "      <td>8.773122</td>\n",
              "      <td>8.800920</td>\n",
              "      <td>8.830141</td>\n",
              "      <td>8.860796</td>\n",
              "      <td>8.892898</td>\n",
              "      <td>8.926458</td>\n",
              "      <td>8.847389</td>\n",
              "    </tr>\n",
              "    <tr>\n",
              "      <th>3</th>\n",
              "      <td>Altadena</td>\n",
              "      <td>0.187301</td>\n",
              "      <td>0.329177</td>\n",
              "      <td>11.391408</td>\n",
              "      <td>11.427503</td>\n",
              "      <td>11.465444</td>\n",
              "      <td>11.505249</td>\n",
              "      <td>11.546931</td>\n",
              "      <td>11.590507</td>\n",
              "      <td>11.487840</td>\n",
              "    </tr>\n",
              "    <tr>\n",
              "      <th>4</th>\n",
              "      <td>Arcadia</td>\n",
              "      <td>0.155135</td>\n",
              "      <td>0.314134</td>\n",
              "      <td>9.435108</td>\n",
              "      <td>9.465004</td>\n",
              "      <td>9.496429</td>\n",
              "      <td>9.529398</td>\n",
              "      <td>9.563922</td>\n",
              "      <td>9.600014</td>\n",
              "      <td>9.514979</td>\n",
              "    </tr>\n",
              "    <tr>\n",
              "      <th>...</th>\n",
              "      <td>...</td>\n",
              "      <td>...</td>\n",
              "      <td>...</td>\n",
              "      <td>...</td>\n",
              "      <td>...</td>\n",
              "      <td>...</td>\n",
              "      <td>...</td>\n",
              "      <td>...</td>\n",
              "      <td>...</td>\n",
              "      <td>...</td>\n",
              "    </tr>\n",
              "    <tr>\n",
              "      <th>85</th>\n",
              "      <td>Venice</td>\n",
              "      <td>0.341497</td>\n",
              "      <td>0.290481</td>\n",
              "      <td>20.769475</td>\n",
              "      <td>20.835284</td>\n",
              "      <td>20.904461</td>\n",
              "      <td>20.977035</td>\n",
              "      <td>21.053033</td>\n",
              "      <td>21.132483</td>\n",
              "      <td>20.945295</td>\n",
              "    </tr>\n",
              "    <tr>\n",
              "      <th>86</th>\n",
              "      <td>West Hills</td>\n",
              "      <td>0.418424</td>\n",
              "      <td>0.205003</td>\n",
              "      <td>25.448053</td>\n",
              "      <td>25.528687</td>\n",
              "      <td>25.613447</td>\n",
              "      <td>25.702369</td>\n",
              "      <td>25.795487</td>\n",
              "      <td>25.892833</td>\n",
              "      <td>25.663479</td>\n",
              "    </tr>\n",
              "    <tr>\n",
              "      <th>87</th>\n",
              "      <td>Wilmington</td>\n",
              "      <td>0.234219</td>\n",
              "      <td>0.206903</td>\n",
              "      <td>14.244955</td>\n",
              "      <td>14.290090</td>\n",
              "      <td>14.337536</td>\n",
              "      <td>14.387312</td>\n",
              "      <td>14.439436</td>\n",
              "      <td>14.493927</td>\n",
              "      <td>14.365543</td>\n",
              "    </tr>\n",
              "    <tr>\n",
              "      <th>88</th>\n",
              "      <td>Winnetka</td>\n",
              "      <td>0.254805</td>\n",
              "      <td>0.189505</td>\n",
              "      <td>15.496942</td>\n",
              "      <td>15.546045</td>\n",
              "      <td>15.597661</td>\n",
              "      <td>15.651811</td>\n",
              "      <td>15.708517</td>\n",
              "      <td>15.767797</td>\n",
              "      <td>15.628129</td>\n",
              "    </tr>\n",
              "    <tr>\n",
              "      <th>89</th>\n",
              "      <td>Woodland Hills</td>\n",
              "      <td>0.324499</td>\n",
              "      <td>0.212524</td>\n",
              "      <td>19.735650</td>\n",
              "      <td>19.798183</td>\n",
              "      <td>19.863917</td>\n",
              "      <td>19.932878</td>\n",
              "      <td>20.005094</td>\n",
              "      <td>20.080588</td>\n",
              "      <td>19.902718</td>\n",
              "    </tr>\n",
              "  </tbody>\n",
              "</table>\n",
              "<p>90 rows × 10 columns</p>\n",
              "</div>"
            ],
            "text/plain": [
              "              City  confirmed_score  ...  risk_8/4/2020  weekly_score\n",
              "0            Acton         0.189272  ...      11.712534     11.608786\n",
              "1     Agoura Hills         0.181774  ...      11.248528     11.148890\n",
              "2         Alhambra         0.144250  ...       8.926458      8.847389\n",
              "3         Altadena         0.187301  ...      11.590507     11.487840\n",
              "4          Arcadia         0.155135  ...       9.600014      9.514979\n",
              "..             ...              ...  ...            ...           ...\n",
              "85          Venice         0.341497  ...      21.132483     20.945295\n",
              "86      West Hills         0.418424  ...      25.892833     25.663479\n",
              "87      Wilmington         0.234219  ...      14.493927     14.365543\n",
              "88        Winnetka         0.254805  ...      15.767797     15.628129\n",
              "89  Woodland Hills         0.324499  ...      20.080588     19.902718\n",
              "\n",
              "[90 rows x 10 columns]"
            ]
          },
          "metadata": {
            "tags": []
          },
          "execution_count": 29
        }
      ]
    },
    {
      "cell_type": "code",
      "metadata": {
        "id": "o2H1I27Qis0c",
        "colab_type": "code",
        "colab": {}
      },
      "source": [
        "risk_score['weekly_score'] = risk_score.iloc[:,3:].mean(axis=1)"
      ],
      "execution_count": null,
      "outputs": []
    },
    {
      "cell_type": "code",
      "metadata": {
        "id": "PAUUPZDAnV55",
        "colab_type": "code",
        "colab": {}
      },
      "source": [
        "level = []\n",
        "for risk in risk_score['weekly_score']:\n",
        "  if risk <= risk_score['weekly_score'].quantile(0.25):\n",
        "    b = 1\n",
        "  elif risk <= risk_score['weekly_score'].quantile(0.50) and risk >risk_score['weekly_score'].quantile(0.25):\n",
        "    b = 2 \n",
        "  elif risk <= risk_score['weekly_score'].quantile(0.75) and risk > risk_score['weekly_score'].quantile(0.50):\n",
        "    b = 3\n",
        "  else: b =4\n",
        "  level.append(b)"
      ],
      "execution_count": 40,
      "outputs": []
    },
    {
      "cell_type": "code",
      "metadata": {
        "id": "8FtCemdGo4UN",
        "colab_type": "code",
        "colab": {}
      },
      "source": [
        "risk_score['level'] = level"
      ],
      "execution_count": 41,
      "outputs": []
    },
    {
      "cell_type": "code",
      "metadata": {
        "id": "ZSW_Et72jRmW",
        "colab_type": "code",
        "colab": {
          "base_uri": "https://localhost:8080/",
          "height": 402
        },
        "outputId": "f714b2f0-2a1f-4230-c19a-df95a9c62cc0"
      },
      "source": [
        "risk_trunc = risk_score.iloc[:,[0,3,4,5,6,7,8,9,10]]"
      ],
      "execution_count": 43,
      "outputs": [
        {
          "output_type": "execute_result",
          "data": {
            "text/html": [
              "<div>\n",
              "<style scoped>\n",
              "    .dataframe tbody tr th:only-of-type {\n",
              "        vertical-align: middle;\n",
              "    }\n",
              "\n",
              "    .dataframe tbody tr th {\n",
              "        vertical-align: top;\n",
              "    }\n",
              "\n",
              "    .dataframe thead th {\n",
              "        text-align: right;\n",
              "    }\n",
              "</style>\n",
              "<table border=\"1\" class=\"dataframe\">\n",
              "  <thead>\n",
              "    <tr style=\"text-align: right;\">\n",
              "      <th></th>\n",
              "      <th>City</th>\n",
              "      <th>risk_7/30/2020</th>\n",
              "      <th>risk_7/31/2020</th>\n",
              "      <th>risk_8/1/2020</th>\n",
              "      <th>risk_8/2/2020</th>\n",
              "      <th>risk_8/3/2020</th>\n",
              "      <th>risk_8/4/2020</th>\n",
              "      <th>weekly_score</th>\n",
              "      <th>level</th>\n",
              "    </tr>\n",
              "  </thead>\n",
              "  <tbody>\n",
              "    <tr>\n",
              "      <th>0</th>\n",
              "      <td>Acton</td>\n",
              "      <td>11.511339</td>\n",
              "      <td>11.547813</td>\n",
              "      <td>11.586154</td>\n",
              "      <td>11.626378</td>\n",
              "      <td>11.668499</td>\n",
              "      <td>11.712534</td>\n",
              "      <td>11.608786</td>\n",
              "      <td>2</td>\n",
              "    </tr>\n",
              "    <tr>\n",
              "      <th>1</th>\n",
              "      <td>Agoura Hills</td>\n",
              "      <td>11.055304</td>\n",
              "      <td>11.090333</td>\n",
              "      <td>11.127155</td>\n",
              "      <td>11.165785</td>\n",
              "      <td>11.206238</td>\n",
              "      <td>11.248528</td>\n",
              "      <td>11.148890</td>\n",
              "      <td>1</td>\n",
              "    </tr>\n",
              "    <tr>\n",
              "      <th>2</th>\n",
              "      <td>Alhambra</td>\n",
              "      <td>8.773122</td>\n",
              "      <td>8.800920</td>\n",
              "      <td>8.830141</td>\n",
              "      <td>8.860796</td>\n",
              "      <td>8.892898</td>\n",
              "      <td>8.926458</td>\n",
              "      <td>8.847389</td>\n",
              "      <td>1</td>\n",
              "    </tr>\n",
              "    <tr>\n",
              "      <th>3</th>\n",
              "      <td>Altadena</td>\n",
              "      <td>11.391408</td>\n",
              "      <td>11.427503</td>\n",
              "      <td>11.465444</td>\n",
              "      <td>11.505249</td>\n",
              "      <td>11.546931</td>\n",
              "      <td>11.590507</td>\n",
              "      <td>11.487840</td>\n",
              "      <td>2</td>\n",
              "    </tr>\n",
              "    <tr>\n",
              "      <th>4</th>\n",
              "      <td>Arcadia</td>\n",
              "      <td>9.435108</td>\n",
              "      <td>9.465004</td>\n",
              "      <td>9.496429</td>\n",
              "      <td>9.529398</td>\n",
              "      <td>9.563922</td>\n",
              "      <td>9.600014</td>\n",
              "      <td>9.514979</td>\n",
              "      <td>1</td>\n",
              "    </tr>\n",
              "    <tr>\n",
              "      <th>...</th>\n",
              "      <td>...</td>\n",
              "      <td>...</td>\n",
              "      <td>...</td>\n",
              "      <td>...</td>\n",
              "      <td>...</td>\n",
              "      <td>...</td>\n",
              "      <td>...</td>\n",
              "      <td>...</td>\n",
              "      <td>...</td>\n",
              "    </tr>\n",
              "    <tr>\n",
              "      <th>85</th>\n",
              "      <td>Venice</td>\n",
              "      <td>20.769475</td>\n",
              "      <td>20.835284</td>\n",
              "      <td>20.904461</td>\n",
              "      <td>20.977035</td>\n",
              "      <td>21.053033</td>\n",
              "      <td>21.132483</td>\n",
              "      <td>20.945295</td>\n",
              "      <td>4</td>\n",
              "    </tr>\n",
              "    <tr>\n",
              "      <th>86</th>\n",
              "      <td>West Hills</td>\n",
              "      <td>25.448053</td>\n",
              "      <td>25.528687</td>\n",
              "      <td>25.613447</td>\n",
              "      <td>25.702369</td>\n",
              "      <td>25.795487</td>\n",
              "      <td>25.892833</td>\n",
              "      <td>25.663479</td>\n",
              "      <td>4</td>\n",
              "    </tr>\n",
              "    <tr>\n",
              "      <th>87</th>\n",
              "      <td>Wilmington</td>\n",
              "      <td>14.244955</td>\n",
              "      <td>14.290090</td>\n",
              "      <td>14.337536</td>\n",
              "      <td>14.387312</td>\n",
              "      <td>14.439436</td>\n",
              "      <td>14.493927</td>\n",
              "      <td>14.365543</td>\n",
              "      <td>2</td>\n",
              "    </tr>\n",
              "    <tr>\n",
              "      <th>88</th>\n",
              "      <td>Winnetka</td>\n",
              "      <td>15.496942</td>\n",
              "      <td>15.546045</td>\n",
              "      <td>15.597661</td>\n",
              "      <td>15.651811</td>\n",
              "      <td>15.708517</td>\n",
              "      <td>15.767797</td>\n",
              "      <td>15.628129</td>\n",
              "      <td>3</td>\n",
              "    </tr>\n",
              "    <tr>\n",
              "      <th>89</th>\n",
              "      <td>Woodland Hills</td>\n",
              "      <td>19.735650</td>\n",
              "      <td>19.798183</td>\n",
              "      <td>19.863917</td>\n",
              "      <td>19.932878</td>\n",
              "      <td>20.005094</td>\n",
              "      <td>20.080588</td>\n",
              "      <td>19.902718</td>\n",
              "      <td>4</td>\n",
              "    </tr>\n",
              "  </tbody>\n",
              "</table>\n",
              "<p>90 rows × 9 columns</p>\n",
              "</div>"
            ],
            "text/plain": [
              "              City  risk_7/30/2020  ...  weekly_score  level\n",
              "0            Acton       11.511339  ...     11.608786      2\n",
              "1     Agoura Hills       11.055304  ...     11.148890      1\n",
              "2         Alhambra        8.773122  ...      8.847389      1\n",
              "3         Altadena       11.391408  ...     11.487840      2\n",
              "4          Arcadia        9.435108  ...      9.514979      1\n",
              "..             ...             ...  ...           ...    ...\n",
              "85          Venice       20.769475  ...     20.945295      4\n",
              "86      West Hills       25.448053  ...     25.663479      4\n",
              "87      Wilmington       14.244955  ...     14.365543      2\n",
              "88        Winnetka       15.496942  ...     15.628129      3\n",
              "89  Woodland Hills       19.735650  ...     19.902718      4\n",
              "\n",
              "[90 rows x 9 columns]"
            ]
          },
          "metadata": {
            "tags": []
          },
          "execution_count": 43
        }
      ]
    },
    {
      "cell_type": "code",
      "metadata": {
        "id": "Ako25rreTyIU",
        "colab_type": "code",
        "colab": {}
      },
      "source": [
        "risk_trunc.to_csv('final_risk_score.csv',index=False)"
      ],
      "execution_count": 44,
      "outputs": []
    }
  ]
}