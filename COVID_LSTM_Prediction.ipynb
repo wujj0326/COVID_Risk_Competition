{
  "nbformat": 4,
  "nbformat_minor": 0,
  "metadata": {
    "colab": {
      "name": "COVID_LSTM_Prediction.ipynb",
      "provenance": [],
      "toc_visible": true,
      "authorship_tag": "ABX9TyPd4l5EVIhd/eqa4QGaVgRx",
      "include_colab_link": true
    },
    "kernelspec": {
      "name": "python3",
      "display_name": "Python 3"
    }
  },
  "cells": [
    {
      "cell_type": "markdown",
      "metadata": {
        "id": "view-in-github",
        "colab_type": "text"
      },
      "source": [
        "<a href=\"https://colab.research.google.com/github/wujj0326/COVID_Risk_Competition/blob/master/COVID_LSTM_Prediction.ipynb\" target=\"_parent\"><img src=\"https://colab.research.google.com/assets/colab-badge.svg\" alt=\"Open In Colab\"/></a>"
      ]
    },
    {
      "cell_type": "markdown",
      "metadata": {
        "id": "9zfGLG8JT3Rf",
        "colab_type": "text"
      },
      "source": [
        "## Import Packages"
      ]
    },
    {
      "cell_type": "code",
      "metadata": {
        "id": "tpJ4fDKiT6ml",
        "colab_type": "code",
        "colab": {}
      },
      "source": [
        "import pandas as pd\n",
        "import numpy as np\n",
        "import matplotlib.pyplot as plt\n",
        "%matplotlib inline\n",
        "from sklearn.preprocessing import MinMaxScaler\n",
        "from keras.preprocessing.sequence import TimeseriesGenerator\n",
        "from keras.models import Sequential\n",
        "from keras.layers import Dense, LSTM, Dropout, Activation\n",
        "from tensorflow.keras.callbacks import EarlyStopping\n",
        "import tensorflow as tf\n",
        "from datetime import datetime\n",
        "from keras.models import load_model\n",
        "import random\n",
        "\n",
        "RANDOM_SEED = 42\n",
        "random.seed(RANDOM_SEED)\n",
        "np.random.seed(RANDOM_SEED)\n",
        "tf.random.set_seed(RANDOM_SEED)\n",
        "tf.compat.v1.set_random_seed(RANDOM_SEED)"
      ],
      "execution_count": 606,
      "outputs": []
    },
    {
      "cell_type": "markdown",
      "metadata": {
        "id": "RwwG7RESpJ8H",
        "colab_type": "text"
      },
      "source": [
        "Reference: https://medium.com/datadriveninvestor/covid19-time-series-forecasting-using-lstm-rnn-753a04944483"
      ]
    },
    {
      "cell_type": "markdown",
      "metadata": {
        "id": "LjfaMRXbVaj0",
        "colab_type": "text"
      },
      "source": [
        "## Data Preparation"
      ]
    },
    {
      "cell_type": "code",
      "metadata": {
        "id": "mqlzWe7qC8pl",
        "colab_type": "code",
        "colab": {}
      },
      "source": [
        "global_case = pd.read_csv('https://data.ca.gov/dataset/590188d5-8545-4c93-a9a0-e230f0db7290/resource/926fd08f-cc91-4828-af38-bd45de97f8c3/download/statewide_cases.csv')"
      ],
      "execution_count": 441,
      "outputs": []
    },
    {
      "cell_type": "code",
      "metadata": {
        "id": "ziCTJVRvDZPI",
        "colab_type": "code",
        "colab": {
          "base_uri": "https://localhost:8080/",
          "height": 204
        },
        "outputId": "a4f40ccc-e2d7-4e16-d789-a28812db17ae"
      },
      "source": [
        "global_case.head()"
      ],
      "execution_count": 442,
      "outputs": [
        {
          "output_type": "execute_result",
          "data": {
            "text/html": [
              "<div>\n",
              "<style scoped>\n",
              "    .dataframe tbody tr th:only-of-type {\n",
              "        vertical-align: middle;\n",
              "    }\n",
              "\n",
              "    .dataframe tbody tr th {\n",
              "        vertical-align: top;\n",
              "    }\n",
              "\n",
              "    .dataframe thead th {\n",
              "        text-align: right;\n",
              "    }\n",
              "</style>\n",
              "<table border=\"1\" class=\"dataframe\">\n",
              "  <thead>\n",
              "    <tr style=\"text-align: right;\">\n",
              "      <th></th>\n",
              "      <th>county</th>\n",
              "      <th>totalcountconfirmed</th>\n",
              "      <th>totalcountdeaths</th>\n",
              "      <th>newcountconfirmed</th>\n",
              "      <th>newcountdeaths</th>\n",
              "      <th>date</th>\n",
              "    </tr>\n",
              "  </thead>\n",
              "  <tbody>\n",
              "    <tr>\n",
              "      <th>0</th>\n",
              "      <td>Santa Clara</td>\n",
              "      <td>151.0</td>\n",
              "      <td>6.0</td>\n",
              "      <td>151</td>\n",
              "      <td>6</td>\n",
              "      <td>2020-03-18</td>\n",
              "    </tr>\n",
              "    <tr>\n",
              "      <th>1</th>\n",
              "      <td>Santa Clara</td>\n",
              "      <td>183.0</td>\n",
              "      <td>8.0</td>\n",
              "      <td>32</td>\n",
              "      <td>2</td>\n",
              "      <td>2020-03-19</td>\n",
              "    </tr>\n",
              "    <tr>\n",
              "      <th>2</th>\n",
              "      <td>Santa Clara</td>\n",
              "      <td>246.0</td>\n",
              "      <td>8.0</td>\n",
              "      <td>63</td>\n",
              "      <td>0</td>\n",
              "      <td>2020-03-20</td>\n",
              "    </tr>\n",
              "    <tr>\n",
              "      <th>3</th>\n",
              "      <td>Santa Clara</td>\n",
              "      <td>269.0</td>\n",
              "      <td>10.0</td>\n",
              "      <td>23</td>\n",
              "      <td>2</td>\n",
              "      <td>2020-03-21</td>\n",
              "    </tr>\n",
              "    <tr>\n",
              "      <th>4</th>\n",
              "      <td>Santa Clara</td>\n",
              "      <td>284.0</td>\n",
              "      <td>13.0</td>\n",
              "      <td>15</td>\n",
              "      <td>3</td>\n",
              "      <td>2020-03-22</td>\n",
              "    </tr>\n",
              "  </tbody>\n",
              "</table>\n",
              "</div>"
            ],
            "text/plain": [
              "        county  totalcountconfirmed  ...  newcountdeaths        date\n",
              "0  Santa Clara                151.0  ...               6  2020-03-18\n",
              "1  Santa Clara                183.0  ...               2  2020-03-19\n",
              "2  Santa Clara                246.0  ...               0  2020-03-20\n",
              "3  Santa Clara                269.0  ...               2  2020-03-21\n",
              "4  Santa Clara                284.0  ...               3  2020-03-22\n",
              "\n",
              "[5 rows x 6 columns]"
            ]
          },
          "metadata": {
            "tags": []
          },
          "execution_count": 442
        }
      ]
    },
    {
      "cell_type": "code",
      "metadata": {
        "id": "xMXbpBe_DcFo",
        "colab_type": "code",
        "colab": {}
      },
      "source": [
        "la_cases = global_case[global_case['county']=='Los Angeles'].reset_index(drop=True)"
      ],
      "execution_count": 443,
      "outputs": []
    },
    {
      "cell_type": "code",
      "metadata": {
        "id": "Nrnu1a4YDp4w",
        "colab_type": "code",
        "colab": {}
      },
      "source": [
        "la_cases['new_date'] = pd.to_datetime(la_cases['date'])"
      ],
      "execution_count": 444,
      "outputs": []
    },
    {
      "cell_type": "code",
      "metadata": {
        "id": "Q7HYTqj0DyJQ",
        "colab_type": "code",
        "colab": {}
      },
      "source": [
        "la_trunc = la_cases.loc[la_cases['date']>'2020-03-24',['totalcountconfirmed','totalcountdeaths','newcountconfirmed','newcountdeaths','new_date']]"
      ],
      "execution_count": 445,
      "outputs": []
    },
    {
      "cell_type": "code",
      "metadata": {
        "id": "jJFEfB8bD4C4",
        "colab_type": "code",
        "colab": {
          "base_uri": "https://localhost:8080/",
          "height": 204
        },
        "outputId": "b6552ed9-22f3-4c27-a94d-f9966240eb9e"
      },
      "source": [
        "la_trunc.head()"
      ],
      "execution_count": 446,
      "outputs": [
        {
          "output_type": "execute_result",
          "data": {
            "text/html": [
              "<div>\n",
              "<style scoped>\n",
              "    .dataframe tbody tr th:only-of-type {\n",
              "        vertical-align: middle;\n",
              "    }\n",
              "\n",
              "    .dataframe tbody tr th {\n",
              "        vertical-align: top;\n",
              "    }\n",
              "\n",
              "    .dataframe thead th {\n",
              "        text-align: right;\n",
              "    }\n",
              "</style>\n",
              "<table border=\"1\" class=\"dataframe\">\n",
              "  <thead>\n",
              "    <tr style=\"text-align: right;\">\n",
              "      <th></th>\n",
              "      <th>totalcountconfirmed</th>\n",
              "      <th>totalcountdeaths</th>\n",
              "      <th>newcountconfirmed</th>\n",
              "      <th>newcountdeaths</th>\n",
              "      <th>new_date</th>\n",
              "    </tr>\n",
              "  </thead>\n",
              "  <tbody>\n",
              "    <tr>\n",
              "      <th>7</th>\n",
              "      <td>725.0</td>\n",
              "      <td>10.0</td>\n",
              "      <td>92</td>\n",
              "      <td>-1</td>\n",
              "      <td>2020-03-25</td>\n",
              "    </tr>\n",
              "    <tr>\n",
              "      <th>8</th>\n",
              "      <td>1075.0</td>\n",
              "      <td>18.0</td>\n",
              "      <td>350</td>\n",
              "      <td>8</td>\n",
              "      <td>2020-03-26</td>\n",
              "    </tr>\n",
              "    <tr>\n",
              "      <th>9</th>\n",
              "      <td>1474.0</td>\n",
              "      <td>26.0</td>\n",
              "      <td>399</td>\n",
              "      <td>8</td>\n",
              "      <td>2020-03-27</td>\n",
              "    </tr>\n",
              "    <tr>\n",
              "      <th>10</th>\n",
              "      <td>1800.0</td>\n",
              "      <td>32.0</td>\n",
              "      <td>326</td>\n",
              "      <td>6</td>\n",
              "      <td>2020-03-28</td>\n",
              "    </tr>\n",
              "    <tr>\n",
              "      <th>11</th>\n",
              "      <td>2119.0</td>\n",
              "      <td>37.0</td>\n",
              "      <td>319</td>\n",
              "      <td>5</td>\n",
              "      <td>2020-03-29</td>\n",
              "    </tr>\n",
              "  </tbody>\n",
              "</table>\n",
              "</div>"
            ],
            "text/plain": [
              "    totalcountconfirmed  totalcountdeaths  ...  newcountdeaths   new_date\n",
              "7                 725.0              10.0  ...              -1 2020-03-25\n",
              "8                1075.0              18.0  ...               8 2020-03-26\n",
              "9                1474.0              26.0  ...               8 2020-03-27\n",
              "10               1800.0              32.0  ...               6 2020-03-28\n",
              "11               2119.0              37.0  ...               5 2020-03-29\n",
              "\n",
              "[5 rows x 5 columns]"
            ]
          },
          "metadata": {
            "tags": []
          },
          "execution_count": 446
        }
      ]
    },
    {
      "cell_type": "code",
      "metadata": {
        "id": "eLJEz8d_Eu-x",
        "colab_type": "code",
        "colab": {}
      },
      "source": [
        "la_daily = la_trunc.set_index('new_date')"
      ],
      "execution_count": 447,
      "outputs": []
    },
    {
      "cell_type": "code",
      "metadata": {
        "id": "M0pYLbVZNybc",
        "colab_type": "code",
        "colab": {
          "base_uri": "https://localhost:8080/",
          "height": 34
        },
        "outputId": "753032d4-f81e-4506-dc0a-7750041dc5bc"
      },
      "source": [
        "la_daily.shape"
      ],
      "execution_count": 448,
      "outputs": [
        {
          "output_type": "execute_result",
          "data": {
            "text/plain": [
              "(143, 4)"
            ]
          },
          "metadata": {
            "tags": []
          },
          "execution_count": 448
        }
      ]
    },
    {
      "cell_type": "code",
      "metadata": {
        "id": "msujS94CNn-1",
        "colab_type": "code",
        "colab": {
          "base_uri": "https://localhost:8080/",
          "height": 313
        },
        "outputId": "fa072926-4fbd-4acd-8444-994ab1185413"
      },
      "source": [
        "plt.plot(la_daily['newcountconfirmed'])\n",
        "plt.title(\"Daily cases\")\n",
        "plt.xticks(rotation = 90)\n",
        "plt.show()"
      ],
      "execution_count": 449,
      "outputs": [
        {
          "output_type": "display_data",
          "data": {
            "image/png": "[encoded data removed]",
            "text/plain": [
              "<Figure size 432x288 with 1 Axes>"
            ]
          },
          "metadata": {
            "tags": [],
            "needs_background": "light"
          }
        }
      ]
    },
    {
      "cell_type": "code",
      "metadata": {
        "id": "7hgdRCMSU3ml",
        "colab_type": "code",
        "colab": {}
      },
      "source": [
        "la_ts_confirmed = la_daily.iloc[:,[0]]\n",
        "la_ts_death = la_daily.iloc[:,[1]]"
      ],
      "execution_count": 450,
      "outputs": []
    },
    {
      "cell_type": "markdown",
      "metadata": {
        "id": "uzpxP-AYTn3V",
        "colab_type": "text"
      },
      "source": [
        "## Confirmed Model"
      ]
    },
    {
      "cell_type": "markdown",
      "metadata": {
        "id": "VQPKN3qbtliN",
        "colab_type": "text"
      },
      "source": [
        "### Preprocessing"
      ]
    },
    {
      "cell_type": "code",
      "metadata": {
        "id": "uJOoci8uVjZM",
        "colab_type": "code",
        "colab": {
          "base_uri": "https://localhost:8080/",
          "height": 34
        },
        "outputId": "f303282b-e194-460f-f7f9-732f6f1373e5"
      },
      "source": [
        "len(la_ts_confirmed)"
      ],
      "execution_count": 451,
      "outputs": [
        {
          "output_type": "execute_result",
          "data": {
            "text/plain": [
              "143"
            ]
          },
          "metadata": {
            "tags": []
          },
          "execution_count": 451
        }
      ]
    },
    {
      "cell_type": "code",
      "metadata": {
        "id": "SVwAcC6FV5P9",
        "colab_type": "code",
        "colab": {
          "base_uri": "https://localhost:8080/",
          "height": 34
        },
        "outputId": "65367493-3a3e-4566-8b77-5c449a69c6d7"
      },
      "source": [
        "# predict 5 days afterwards\n",
        "x = len(la_ts_confirmed)-5\n",
        "x"
      ],
      "execution_count": 452,
      "outputs": [
        {
          "output_type": "execute_result",
          "data": {
            "text/plain": [
              "138"
            ]
          },
          "metadata": {
            "tags": []
          },
          "execution_count": 452
        }
      ]
    },
    {
      "cell_type": "code",
      "metadata": {
        "id": "Ps1dqKI0WBuW",
        "colab_type": "code",
        "colab": {
          "base_uri": "https://localhost:8080/",
          "height": 450
        },
        "outputId": "aa2b3843-c238-44a1-ad01-aeb6f3671f86"
      },
      "source": [
        "train = la_ts_confirmed.iloc[:x]\n",
        "test = la_ts_confirmed.iloc[x:]\n",
        "train"
      ],
      "execution_count": 453,
      "outputs": [
        {
          "output_type": "execute_result",
          "data": {
            "text/html": [
              "<div>\n",
              "<style scoped>\n",
              "    .dataframe tbody tr th:only-of-type {\n",
              "        vertical-align: middle;\n",
              "    }\n",
              "\n",
              "    .dataframe tbody tr th {\n",
              "        vertical-align: top;\n",
              "    }\n",
              "\n",
              "    .dataframe thead th {\n",
              "        text-align: right;\n",
              "    }\n",
              "</style>\n",
              "<table border=\"1\" class=\"dataframe\">\n",
              "  <thead>\n",
              "    <tr style=\"text-align: right;\">\n",
              "      <th></th>\n",
              "      <th>totalcountconfirmed</th>\n",
              "    </tr>\n",
              "    <tr>\n",
              "      <th>new_date</th>\n",
              "      <th></th>\n",
              "    </tr>\n",
              "  </thead>\n",
              "  <tbody>\n",
              "    <tr>\n",
              "      <th>2020-03-25</th>\n",
              "      <td>725.0</td>\n",
              "    </tr>\n",
              "    <tr>\n",
              "      <th>2020-03-26</th>\n",
              "      <td>1075.0</td>\n",
              "    </tr>\n",
              "    <tr>\n",
              "      <th>2020-03-27</th>\n",
              "      <td>1474.0</td>\n",
              "    </tr>\n",
              "    <tr>\n",
              "      <th>2020-03-28</th>\n",
              "      <td>1800.0</td>\n",
              "    </tr>\n",
              "    <tr>\n",
              "      <th>2020-03-29</th>\n",
              "      <td>2119.0</td>\n",
              "    </tr>\n",
              "    <tr>\n",
              "      <th>...</th>\n",
              "      <td>...</td>\n",
              "    </tr>\n",
              "    <tr>\n",
              "      <th>2020-08-05</th>\n",
              "      <td>198355.0</td>\n",
              "    </tr>\n",
              "    <tr>\n",
              "      <th>2020-08-06</th>\n",
              "      <td>201372.0</td>\n",
              "    </tr>\n",
              "    <tr>\n",
              "      <th>2020-08-07</th>\n",
              "      <td>204406.0</td>\n",
              "    </tr>\n",
              "    <tr>\n",
              "      <th>2020-08-08</th>\n",
              "      <td>206971.0</td>\n",
              "    </tr>\n",
              "    <tr>\n",
              "      <th>2020-08-09</th>\n",
              "      <td>208810.0</td>\n",
              "    </tr>\n",
              "  </tbody>\n",
              "</table>\n",
              "<p>138 rows × 1 columns</p>\n",
              "</div>"
            ],
            "text/plain": [
              "            totalcountconfirmed\n",
              "new_date                       \n",
              "2020-03-25                725.0\n",
              "2020-03-26               1075.0\n",
              "2020-03-27               1474.0\n",
              "2020-03-28               1800.0\n",
              "2020-03-29               2119.0\n",
              "...                         ...\n",
              "2020-08-05             198355.0\n",
              "2020-08-06             201372.0\n",
              "2020-08-07             204406.0\n",
              "2020-08-08             206971.0\n",
              "2020-08-09             208810.0\n",
              "\n",
              "[138 rows x 1 columns]"
            ]
          },
          "metadata": {
            "tags": []
          },
          "execution_count": 453
        }
      ]
    },
    {
      "cell_type": "code",
      "metadata": {
        "id": "UcDWewEbWTbu",
        "colab_type": "code",
        "colab": {
          "base_uri": "https://localhost:8080/",
          "height": 102
        },
        "outputId": "f44de6d9-6f8f-472f-c855-92f8e41d8a18"
      },
      "source": [
        "scaler = MinMaxScaler()\n",
        "scaler.fit(train)\n",
        "scaled_train = scaler.transform(train)\n",
        "scaled_test = scaler.transform(test)\n",
        "print(scaled_train[-5:])"
      ],
      "execution_count": 495,
      "outputs": [
        {
          "output_type": "stream",
          "text": [
            "[[0.94975611]\n",
            " [0.96425499]\n",
            " [0.97883557]\n",
            " [0.99116227]\n",
            " [1.        ]]\n"
          ],
          "name": "stdout"
        }
      ]
    },
    {
      "cell_type": "code",
      "metadata": {
        "id": "xzZZSADgb2aQ",
        "colab_type": "code",
        "colab": {
          "base_uri": "https://localhost:8080/",
          "height": 102
        },
        "outputId": "c2e62a50-d3a8-4507-c32b-219003600ffd"
      },
      "source": [
        "print(scaled_test)"
      ],
      "execution_count": 497,
      "outputs": [
        {
          "output_type": "stream",
          "text": [
            "[[1.01069275]\n",
            " [1.01735349]\n",
            " [1.02754644]\n",
            " [1.03694163]\n",
            " [1.04936925]]\n"
          ],
          "name": "stdout"
        }
      ]
    },
    {
      "cell_type": "code",
      "metadata": {
        "id": "If0j5BSCYjxf",
        "colab_type": "code",
        "colab": {}
      },
      "source": [
        "# ?TimeseriesGenerator\n",
        "\n",
        "# This class takes in a sequence of data-points gathered at\n",
        "# equal intervals, along with time series parameters such as\n",
        "# stride, length of history, etc., to produce batches for\n",
        "# training/validation."
      ],
      "execution_count": 456,
      "outputs": []
    },
    {
      "cell_type": "code",
      "metadata": {
        "id": "pLs_EoWKWT3-",
        "colab_type": "code",
        "colab": {}
      },
      "source": [
        "## how to decide num of inputs , \n",
        "n_input = 5  ## number of steps\n",
        "n_features = 1 ## number of features you want to predict (for univariate time series n_features=1)\n",
        "generator = TimeseriesGenerator(data = scaled_train, targets = scaled_train, length = n_input, batch_size=1)"
      ],
      "execution_count": 457,
      "outputs": []
    },
    {
      "cell_type": "code",
      "metadata": {
        "id": "TxWAO4rdWrI9",
        "colab_type": "code",
        "colab": {
          "base_uri": "https://localhost:8080/",
          "height": 34
        },
        "outputId": "8a14edbf-d008-4454-864c-284feaea30b6"
      },
      "source": [
        "len(generator)"
      ],
      "execution_count": 458,
      "outputs": [
        {
          "output_type": "execute_result",
          "data": {
            "text/plain": [
              "133"
            ]
          },
          "metadata": {
            "tags": []
          },
          "execution_count": 458
        }
      ]
    },
    {
      "cell_type": "markdown",
      "metadata": {
        "id": "vpzDElByZW9X",
        "colab_type": "text"
      },
      "source": [
        "we are taking 5 steps i.e taking 5 data points in account to predict 6th data point. So, The batches would be [feed=[t1,t2,t3,t4,t5],predict=t6].\n",
        "\n",
        "Therefore, the [-6] data point would be the last one which contains all true data."
      ]
    },
    {
      "cell_type": "code",
      "metadata": {
        "id": "BqVr3TxjWsm9",
        "colab_type": "code",
        "colab": {
          "base_uri": "https://localhost:8080/",
          "height": 102
        },
        "outputId": "7d00bdcb-b66d-45c5-e4a0-bc4e63e3751b"
      },
      "source": [
        "generator[-6]"
      ],
      "execution_count": 459,
      "outputs": [
        {
          "output_type": "execute_result",
          "data": {
            "text/plain": [
              "(array([[[0.9385059 ],\n",
              "         [0.94975611],\n",
              "         [0.96425499],\n",
              "         [0.97883557],\n",
              "         [0.99116227]]]), array([[1.]]))"
            ]
          },
          "metadata": {
            "tags": []
          },
          "execution_count": 459
        }
      ]
    },
    {
      "cell_type": "markdown",
      "metadata": {
        "id": "b9ibiW54XEXW",
        "colab_type": "text"
      },
      "source": [
        "### Model Building"
      ]
    },
    {
      "cell_type": "code",
      "metadata": {
        "id": "fKGKZAV8XGEz",
        "colab_type": "code",
        "colab": {}
      },
      "source": [
        "model = Sequential()\n",
        "model.add(LSTM(150,activation=\"relu\",input_shape=(n_input,n_features)))\n",
        "model.add(Dropout(0.2))\n",
        "model.add(Dense(75, activation='relu'))\n",
        "model.add(Dense(units=1))\n",
        "model.compile(optimizer=\"adam\",loss=\"mse\")"
      ],
      "execution_count": 460,
      "outputs": []
    },
    {
      "cell_type": "code",
      "metadata": {
        "id": "ow_nvNOMXMjN",
        "colab_type": "code",
        "colab": {
          "base_uri": "https://localhost:8080/",
          "height": 289
        },
        "outputId": "d772e56e-ada7-4558-dcab-4805a50c4797"
      },
      "source": [
        "model.summary()"
      ],
      "execution_count": 461,
      "outputs": [
        {
          "output_type": "stream",
          "text": [
            "Model: \"sequential_13\"\n",
            "_________________________________________________________________\n",
            "Layer (type)                 Output Shape              Param #   \n",
            "=================================================================\n",
            "lstm_13 (LSTM)               (None, 150)               91200     \n",
            "_________________________________________________________________\n",
            "dropout_13 (Dropout)         (None, 150)               0         \n",
            "_________________________________________________________________\n",
            "dense_25 (Dense)             (None, 75)                11325     \n",
            "_________________________________________________________________\n",
            "dense_26 (Dense)             (None, 1)                 76        \n",
            "=================================================================\n",
            "Total params: 102,601\n",
            "Trainable params: 102,601\n",
            "Non-trainable params: 0\n",
            "_________________________________________________________________\n"
          ],
          "name": "stdout"
        }
      ]
    },
    {
      "cell_type": "code",
      "metadata": {
        "id": "DuVwSdBhZzS6",
        "colab_type": "code",
        "colab": {
          "base_uri": "https://localhost:8080/",
          "height": 119
        },
        "outputId": "d075eec0-bdb1-4572-cfcc-6a9f37e74cd5"
      },
      "source": [
        "validation_set = np.append(scaled_train[-1],scaled_test)\n",
        "validation_set=validation_set.reshape(6,1)\n",
        "validation_set"
      ],
      "execution_count": 462,
      "outputs": [
        {
          "output_type": "execute_result",
          "data": {
            "text/plain": [
              "array([[1.        ],\n",
              "       [1.01069275],\n",
              "       [1.01735349],\n",
              "       [1.02754644],\n",
              "       [1.03694163],\n",
              "       [1.04936925]])"
            ]
          },
          "metadata": {
            "tags": []
          },
          "execution_count": 462
        }
      ]
    },
    {
      "cell_type": "code",
      "metadata": {
        "id": "ENDlC58JaGDQ",
        "colab_type": "code",
        "colab": {}
      },
      "source": [
        "validation_gen = TimeseriesGenerator(validation_set, validation_set, length=n_input, batch_size=1)"
      ],
      "execution_count": 463,
      "outputs": []
    },
    {
      "cell_type": "code",
      "metadata": {
        "id": "Go_oS0uYaGWX",
        "colab_type": "code",
        "colab": {}
      },
      "source": [
        "from tensorflow.keras.callbacks import EarlyStopping\n",
        "early_stop = EarlyStopping(monitor='val_loss',patience=20,restore_best_weights=True)"
      ],
      "execution_count": 464,
      "outputs": []
    },
    {
      "cell_type": "code",
      "metadata": {
        "id": "HpoUlM_paIS3",
        "colab_type": "code",
        "colab": {
          "base_uri": "https://localhost:8080/",
          "height": 1000
        },
        "outputId": "da312861-4a2e-4035-b487-706ea0fbed67"
      },
      "source": [
        "model.fit_generator(generator, validation_data=validation_gen, epochs=100, callbacks=[early_stop], steps_per_epoch=10)"
      ],
      "execution_count": 465,
      "outputs": [
        {
          "output_type": "stream",
          "text": [
            "Epoch 1/100\n",
            "10/10 [==============================] - 0s 23ms/step - loss: 0.1055 - val_loss: 0.7129\n",
            "Epoch 2/100\n",
            "10/10 [==============================] - 0s 6ms/step - loss: 0.0883 - val_loss: 0.3495\n",
            "Epoch 3/100\n",
            "10/10 [==============================] - 0s 6ms/step - loss: 0.0442 - val_loss: 0.0482\n",
            "Epoch 4/100\n",
            "10/10 [==============================] - 0s 6ms/step - loss: 0.0251 - val_loss: 0.0026\n",
            "Epoch 5/100\n",
            "10/10 [==============================] - 0s 7ms/step - loss: 0.0137 - val_loss: 0.0332\n",
            "Epoch 6/100\n",
            "10/10 [==============================] - 0s 6ms/step - loss: 0.0127 - val_loss: 9.7341e-04\n",
            "Epoch 7/100\n",
            "10/10 [==============================] - 0s 6ms/step - loss: 0.0014 - val_loss: 6.3175e-04\n",
            "Epoch 8/100\n",
            "10/10 [==============================] - 0s 6ms/step - loss: 0.0039 - val_loss: 0.0010\n",
            "Epoch 9/100\n",
            "10/10 [==============================] - 0s 6ms/step - loss: 0.0024 - val_loss: 2.4592e-04\n",
            "Epoch 10/100\n",
            "10/10 [==============================] - 0s 6ms/step - loss: 0.0017 - val_loss: 2.6754e-06\n",
            "Epoch 11/100\n",
            "10/10 [==============================] - 0s 6ms/step - loss: 0.0011 - val_loss: 0.0051\n",
            "Epoch 12/100\n",
            "10/10 [==============================] - 0s 5ms/step - loss: 2.3909e-04 - val_loss: 0.0045\n",
            "Epoch 13/100\n",
            "10/10 [==============================] - 0s 6ms/step - loss: 2.4672e-04 - val_loss: 0.0017\n",
            "Epoch 14/100\n",
            "10/10 [==============================] - 0s 6ms/step - loss: 0.0037 - val_loss: 0.0050\n",
            "Epoch 15/100\n",
            "10/10 [==============================] - 0s 6ms/step - loss: 0.0026 - val_loss: 0.0014\n",
            "Epoch 16/100\n",
            "10/10 [==============================] - 0s 6ms/step - loss: 0.0022 - val_loss: 8.4324e-05\n",
            "Epoch 17/100\n",
            "10/10 [==============================] - 0s 6ms/step - loss: 3.8732e-04 - val_loss: 0.0050\n",
            "Epoch 18/100\n",
            "10/10 [==============================] - 0s 7ms/step - loss: 9.0311e-04 - val_loss: 0.0019\n",
            "Epoch 19/100\n",
            "10/10 [==============================] - 0s 6ms/step - loss: 0.0054 - val_loss: 0.0155\n",
            "Epoch 20/100\n",
            "10/10 [==============================] - 0s 6ms/step - loss: 0.0074 - val_loss: 0.0013\n",
            "Epoch 21/100\n",
            "10/10 [==============================] - 0s 6ms/step - loss: 0.0015 - val_loss: 3.8078e-05\n",
            "Epoch 22/100\n",
            "10/10 [==============================] - 0s 6ms/step - loss: 2.1582e-04 - val_loss: 0.0025\n",
            "Epoch 23/100\n",
            "10/10 [==============================] - 0s 6ms/step - loss: 0.0029 - val_loss: 2.5194e-04\n",
            "Epoch 24/100\n",
            "10/10 [==============================] - 0s 7ms/step - loss: 0.0011 - val_loss: 0.0012\n",
            "Epoch 25/100\n",
            "10/10 [==============================] - 0s 7ms/step - loss: 7.3048e-04 - val_loss: 0.0060\n",
            "Epoch 26/100\n",
            "10/10 [==============================] - 0s 7ms/step - loss: 0.0012 - val_loss: 1.4449e-05\n",
            "Epoch 27/100\n",
            "10/10 [==============================] - 0s 8ms/step - loss: 0.0123 - val_loss: 0.0143\n",
            "Epoch 28/100\n",
            "10/10 [==============================] - 0s 7ms/step - loss: 0.0032 - val_loss: 0.0253\n",
            "Epoch 29/100\n",
            "10/10 [==============================] - 0s 6ms/step - loss: 0.0023 - val_loss: 0.0017\n",
            "Epoch 30/100\n",
            "10/10 [==============================] - 0s 6ms/step - loss: 0.0011 - val_loss: 0.0083\n"
          ],
          "name": "stdout"
        },
        {
          "output_type": "execute_result",
          "data": {
            "text/plain": [
              "<tensorflow.python.keras.callbacks.History at 0x7fd1e9c867f0>"
            ]
          },
          "metadata": {
            "tags": []
          },
          "execution_count": 465
        }
      ]
    },
    {
      "cell_type": "code",
      "metadata": {
        "id": "lTSM0BnVaKSP",
        "colab_type": "code",
        "colab": {
          "base_uri": "https://localhost:8080/",
          "height": 298
        },
        "outputId": "928ff95f-d0dc-4432-dd54-4f92d15d5b90"
      },
      "source": [
        "pd.DataFrame(model.history.history).plot(title=\"loss vs epochs curve\")"
      ],
      "execution_count": 466,
      "outputs": [
        {
          "output_type": "execute_result",
          "data": {
            "text/plain": [
              "<matplotlib.axes._subplots.AxesSubplot at 0x7fd1e90a4240>"
            ]
          },
          "metadata": {
            "tags": []
          },
          "execution_count": 466
        },
        {
          "output_type": "display_data",
          "data": {
            "image/png": "[encoded data removed]",
            "text/plain": [
              "<Figure size 432x288 with 1 Axes>"
            ]
          },
          "metadata": {
            "tags": [],
            "needs_background": "light"
          }
        }
      ]
    },
    {
      "cell_type": "markdown",
      "metadata": {
        "id": "LhqRxXkibhDS",
        "colab_type": "text"
      },
      "source": [
        "### Forecasting"
      ]
    },
    {
      "cell_type": "code",
      "metadata": {
        "id": "36HsB577aN0Z",
        "colab_type": "code",
        "colab": {}
      },
      "source": [
        "## holding predictions\n",
        "test_prediction = []\n",
        "\n",
        "##last n points from training set\n",
        "first_eval_batch = scaled_train[-n_input:]\n",
        "current_batch = first_eval_batch.reshape(1,n_input,n_features)"
      ],
      "execution_count": 467,
      "outputs": []
    },
    {
      "cell_type": "code",
      "metadata": {
        "id": "Cd4w5NWhaUcY",
        "colab_type": "code",
        "colab": {}
      },
      "source": [
        "## how far in future we can predict\n",
        "for i in range(len(test)+7):\n",
        "    current_pred = model.predict(current_batch)[0]\n",
        "    test_prediction.append(current_pred)\n",
        "    current_batch = np.append(current_batch[:,1:,:],[[current_pred]],axis=1)"
      ],
      "execution_count": 469,
      "outputs": []
    },
    {
      "cell_type": "code",
      "metadata": {
        "id": "1BPAcqQqaX_3",
        "colab_type": "code",
        "colab": {
          "base_uri": "https://localhost:8080/",
          "height": 68
        },
        "outputId": "e713d362-ec82-4e92-8714-407019ade6b7"
      },
      "source": [
        "### inverse scaled data\n",
        "true_prediction = scaler.inverse_transform(test_prediction)\n",
        "true_prediction[:,0]"
      ],
      "execution_count": 470,
      "outputs": [
        {
          "output_type": "execute_result",
          "data": {
            "text/plain": [
              "array([210052.21809268, 212557.04453468, 214949.62534249, 217244.44702446,\n",
              "       219499.48041975, 221859.04488742, 224445.87885797, 227057.36965954,\n",
              "       229731.94126725, 232501.91546261, 235396.26526237, 238419.85257685])"
            ]
          },
          "metadata": {
            "tags": []
          },
          "execution_count": 470
        }
      ]
    },
    {
      "cell_type": "code",
      "metadata": {
        "id": "8rihVX6jabLn",
        "colab_type": "code",
        "colab": {
          "base_uri": "https://localhost:8080/",
          "height": 85
        },
        "outputId": "7896fff8-a7d1-4911-f983-21f415d4263f"
      },
      "source": [
        "time_series_array = test.index\n",
        "for k in range(0,7):\n",
        "    time_series_array = time_series_array.append(time_series_array[-1:] + pd.DateOffset(1))\n",
        "time_series_array"
      ],
      "execution_count": 471,
      "outputs": [
        {
          "output_type": "execute_result",
          "data": {
            "text/plain": [
              "DatetimeIndex(['2020-08-10', '2020-08-11', '2020-08-12', '2020-08-13',\n",
              "               '2020-08-14', '2020-08-15', '2020-08-16', '2020-08-17',\n",
              "               '2020-08-18', '2020-08-19', '2020-08-20', '2020-08-21'],\n",
              "              dtype='datetime64[ns]', name='new_date', freq=None)"
            ]
          },
          "metadata": {
            "tags": []
          },
          "execution_count": 471
        }
      ]
    },
    {
      "cell_type": "code",
      "metadata": {
        "id": "tHBmookzahKH",
        "colab_type": "code",
        "colab": {}
      },
      "source": [
        "df_forecast = pd.DataFrame(columns=[\"confirmed\",\"confirmed_predicted\"],index=time_series_array)\n",
        "df_forecast.loc[:,\"confirmed_predicted\"] = true_prediction[:,0]\n",
        "df_forecast.loc[:,\"confirmed\"] = test['totalcountconfirmed']"
      ],
      "execution_count": 651,
      "outputs": []
    },
    {
      "cell_type": "code",
      "metadata": {
        "id": "9cVdjAK-azGn",
        "colab_type": "code",
        "colab": {
          "base_uri": "https://localhost:8080/",
          "height": 452
        },
        "outputId": "eeea4ecd-b5ec-487a-9ca4-49cd29350671"
      },
      "source": [
        "df_forecast"
      ],
      "execution_count": 652,
      "outputs": [
        {
          "output_type": "execute_result",
          "data": {
            "text/html": [
              "<div>\n",
              "<style scoped>\n",
              "    .dataframe tbody tr th:only-of-type {\n",
              "        vertical-align: middle;\n",
              "    }\n",
              "\n",
              "    .dataframe tbody tr th {\n",
              "        vertical-align: top;\n",
              "    }\n",
              "\n",
              "    .dataframe thead th {\n",
              "        text-align: right;\n",
              "    }\n",
              "</style>\n",
              "<table border=\"1\" class=\"dataframe\">\n",
              "  <thead>\n",
              "    <tr style=\"text-align: right;\">\n",
              "      <th></th>\n",
              "      <th>confirmed</th>\n",
              "      <th>confirmed_predicted</th>\n",
              "    </tr>\n",
              "    <tr>\n",
              "      <th>new_date</th>\n",
              "      <th></th>\n",
              "      <th></th>\n",
              "    </tr>\n",
              "  </thead>\n",
              "  <tbody>\n",
              "    <tr>\n",
              "      <th>2020-08-10</th>\n",
              "      <td>211035.0</td>\n",
              "      <td>210052.218093</td>\n",
              "    </tr>\n",
              "    <tr>\n",
              "      <th>2020-08-11</th>\n",
              "      <td>212421.0</td>\n",
              "      <td>212557.044535</td>\n",
              "    </tr>\n",
              "    <tr>\n",
              "      <th>2020-08-12</th>\n",
              "      <td>214542.0</td>\n",
              "      <td>214949.625342</td>\n",
              "    </tr>\n",
              "    <tr>\n",
              "      <th>2020-08-13</th>\n",
              "      <td>216497.0</td>\n",
              "      <td>217244.447024</td>\n",
              "    </tr>\n",
              "    <tr>\n",
              "      <th>2020-08-14</th>\n",
              "      <td>219083.0</td>\n",
              "      <td>219499.480420</td>\n",
              "    </tr>\n",
              "    <tr>\n",
              "      <th>2020-08-15</th>\n",
              "      <td>NaN</td>\n",
              "      <td>221859.044887</td>\n",
              "    </tr>\n",
              "    <tr>\n",
              "      <th>2020-08-16</th>\n",
              "      <td>NaN</td>\n",
              "      <td>224445.878858</td>\n",
              "    </tr>\n",
              "    <tr>\n",
              "      <th>2020-08-17</th>\n",
              "      <td>NaN</td>\n",
              "      <td>227057.369660</td>\n",
              "    </tr>\n",
              "    <tr>\n",
              "      <th>2020-08-18</th>\n",
              "      <td>NaN</td>\n",
              "      <td>229731.941267</td>\n",
              "    </tr>\n",
              "    <tr>\n",
              "      <th>2020-08-19</th>\n",
              "      <td>NaN</td>\n",
              "      <td>232501.915463</td>\n",
              "    </tr>\n",
              "    <tr>\n",
              "      <th>2020-08-20</th>\n",
              "      <td>NaN</td>\n",
              "      <td>235396.265262</td>\n",
              "    </tr>\n",
              "    <tr>\n",
              "      <th>2020-08-21</th>\n",
              "      <td>NaN</td>\n",
              "      <td>238419.852577</td>\n",
              "    </tr>\n",
              "  </tbody>\n",
              "</table>\n",
              "</div>"
            ],
            "text/plain": [
              "            confirmed  confirmed_predicted\n",
              "new_date                                  \n",
              "2020-08-10   211035.0        210052.218093\n",
              "2020-08-11   212421.0        212557.044535\n",
              "2020-08-12   214542.0        214949.625342\n",
              "2020-08-13   216497.0        217244.447024\n",
              "2020-08-14   219083.0        219499.480420\n",
              "2020-08-15        NaN        221859.044887\n",
              "2020-08-16        NaN        224445.878858\n",
              "2020-08-17        NaN        227057.369660\n",
              "2020-08-18        NaN        229731.941267\n",
              "2020-08-19        NaN        232501.915463\n",
              "2020-08-20        NaN        235396.265262\n",
              "2020-08-21        NaN        238419.852577"
            ]
          },
          "metadata": {
            "tags": []
          },
          "execution_count": 652
        }
      ]
    },
    {
      "cell_type": "code",
      "metadata": {
        "id": "t1iS0BsVbrQY",
        "colab_type": "code",
        "colab": {
          "base_uri": "https://localhost:8080/",
          "height": 313
        },
        "outputId": "d26b793e-6f73-4463-ee68-ef21eb629bf9"
      },
      "source": [
        "plt.plot(df_forecast)\n",
        "plt.xticks(rotation = 90)\n",
        "plt.show()"
      ],
      "execution_count": 653,
      "outputs": [
        {
          "output_type": "display_data",
          "data": {
            "image/png": "[encoded data removed]",
            "text/plain": [
              "<Figure size 432x288 with 1 Axes>"
            ]
          },
          "metadata": {
            "tags": [],
            "needs_background": "light"
          }
        }
      ]
    },
    {
      "cell_type": "markdown",
      "metadata": {
        "id": "V053raRXptYy",
        "colab_type": "text"
      },
      "source": [
        "### Generate Predicted Confirmed Data"
      ]
    },
    {
      "cell_type": "code",
      "metadata": {
        "id": "F9yQpxqXqlYL",
        "colab_type": "code",
        "colab": {}
      },
      "source": [
        "df_forecast['confirmed_predicted'] = round(df_forecast['confirmed_predicted'],0)"
      ],
      "execution_count": 478,
      "outputs": []
    },
    {
      "cell_type": "code",
      "metadata": {
        "id": "48dKnBo6pxPA",
        "colab_type": "code",
        "colab": {}
      },
      "source": [
        "stdev = np.std(df_forecast['confirmed_predicted'])\n",
        "interval = stdev*1.96"
      ],
      "execution_count": 479,
      "outputs": []
    },
    {
      "cell_type": "code",
      "metadata": {
        "id": "sisPyzXpqSud",
        "colab_type": "code",
        "colab": {
          "base_uri": "https://localhost:8080/",
          "height": 452
        },
        "outputId": "baadf0d2-6069-4f05-a6f7-b1f343edba14"
      },
      "source": [
        "df_forecast['confirmed_high'] = round(df_forecast['confirmed_predicted']+interval,0)\n",
        "df_forecast['confirmed_low'] = round(df_forecast['confirmed_predicted']-interval,0)\n",
        "df_forecast"
      ],
      "execution_count": 481,
      "outputs": [
        {
          "output_type": "execute_result",
          "data": {
            "text/html": [
              "<div>\n",
              "<style scoped>\n",
              "    .dataframe tbody tr th:only-of-type {\n",
              "        vertical-align: middle;\n",
              "    }\n",
              "\n",
              "    .dataframe tbody tr th {\n",
              "        vertical-align: top;\n",
              "    }\n",
              "\n",
              "    .dataframe thead th {\n",
              "        text-align: right;\n",
              "    }\n",
              "</style>\n",
              "<table border=\"1\" class=\"dataframe\">\n",
              "  <thead>\n",
              "    <tr style=\"text-align: right;\">\n",
              "      <th></th>\n",
              "      <th>confirmed</th>\n",
              "      <th>confirmed_predicted</th>\n",
              "      <th>confirmed_high</th>\n",
              "      <th>confirmed_low</th>\n",
              "    </tr>\n",
              "    <tr>\n",
              "      <th>new_date</th>\n",
              "      <th></th>\n",
              "      <th></th>\n",
              "      <th></th>\n",
              "      <th></th>\n",
              "    </tr>\n",
              "  </thead>\n",
              "  <tbody>\n",
              "    <tr>\n",
              "      <th>2020-08-10</th>\n",
              "      <td>211035.0</td>\n",
              "      <td>210052.0</td>\n",
              "      <td>227296.0</td>\n",
              "      <td>192808.0</td>\n",
              "    </tr>\n",
              "    <tr>\n",
              "      <th>2020-08-11</th>\n",
              "      <td>212421.0</td>\n",
              "      <td>212557.0</td>\n",
              "      <td>229801.0</td>\n",
              "      <td>195313.0</td>\n",
              "    </tr>\n",
              "    <tr>\n",
              "      <th>2020-08-12</th>\n",
              "      <td>214542.0</td>\n",
              "      <td>214950.0</td>\n",
              "      <td>232194.0</td>\n",
              "      <td>197706.0</td>\n",
              "    </tr>\n",
              "    <tr>\n",
              "      <th>2020-08-13</th>\n",
              "      <td>216497.0</td>\n",
              "      <td>217244.0</td>\n",
              "      <td>234488.0</td>\n",
              "      <td>200000.0</td>\n",
              "    </tr>\n",
              "    <tr>\n",
              "      <th>2020-08-14</th>\n",
              "      <td>219083.0</td>\n",
              "      <td>219499.0</td>\n",
              "      <td>236743.0</td>\n",
              "      <td>202255.0</td>\n",
              "    </tr>\n",
              "    <tr>\n",
              "      <th>2020-08-15</th>\n",
              "      <td>NaN</td>\n",
              "      <td>221859.0</td>\n",
              "      <td>239103.0</td>\n",
              "      <td>204615.0</td>\n",
              "    </tr>\n",
              "    <tr>\n",
              "      <th>2020-08-16</th>\n",
              "      <td>NaN</td>\n",
              "      <td>224446.0</td>\n",
              "      <td>241690.0</td>\n",
              "      <td>207202.0</td>\n",
              "    </tr>\n",
              "    <tr>\n",
              "      <th>2020-08-17</th>\n",
              "      <td>NaN</td>\n",
              "      <td>227057.0</td>\n",
              "      <td>244301.0</td>\n",
              "      <td>209813.0</td>\n",
              "    </tr>\n",
              "    <tr>\n",
              "      <th>2020-08-18</th>\n",
              "      <td>NaN</td>\n",
              "      <td>229732.0</td>\n",
              "      <td>246976.0</td>\n",
              "      <td>212488.0</td>\n",
              "    </tr>\n",
              "    <tr>\n",
              "      <th>2020-08-19</th>\n",
              "      <td>NaN</td>\n",
              "      <td>232502.0</td>\n",
              "      <td>249746.0</td>\n",
              "      <td>215258.0</td>\n",
              "    </tr>\n",
              "    <tr>\n",
              "      <th>2020-08-20</th>\n",
              "      <td>NaN</td>\n",
              "      <td>235396.0</td>\n",
              "      <td>252640.0</td>\n",
              "      <td>218152.0</td>\n",
              "    </tr>\n",
              "    <tr>\n",
              "      <th>2020-08-21</th>\n",
              "      <td>NaN</td>\n",
              "      <td>238420.0</td>\n",
              "      <td>255664.0</td>\n",
              "      <td>221176.0</td>\n",
              "    </tr>\n",
              "  </tbody>\n",
              "</table>\n",
              "</div>"
            ],
            "text/plain": [
              "            confirmed  confirmed_predicted  confirmed_high  confirmed_low\n",
              "new_date                                                                 \n",
              "2020-08-10   211035.0             210052.0        227296.0       192808.0\n",
              "2020-08-11   212421.0             212557.0        229801.0       195313.0\n",
              "2020-08-12   214542.0             214950.0        232194.0       197706.0\n",
              "2020-08-13   216497.0             217244.0        234488.0       200000.0\n",
              "2020-08-14   219083.0             219499.0        236743.0       202255.0\n",
              "2020-08-15        NaN             221859.0        239103.0       204615.0\n",
              "2020-08-16        NaN             224446.0        241690.0       207202.0\n",
              "2020-08-17        NaN             227057.0        244301.0       209813.0\n",
              "2020-08-18        NaN             229732.0        246976.0       212488.0\n",
              "2020-08-19        NaN             232502.0        249746.0       215258.0\n",
              "2020-08-20        NaN             235396.0        252640.0       218152.0\n",
              "2020-08-21        NaN             238420.0        255664.0       221176.0"
            ]
          },
          "metadata": {
            "tags": []
          },
          "execution_count": 481
        }
      ]
    },
    {
      "cell_type": "code",
      "metadata": {
        "id": "oJ4yNck8q_SE",
        "colab_type": "code",
        "colab": {
          "base_uri": "https://localhost:8080/",
          "height": 297
        },
        "outputId": "bc886f21-8ee6-4d27-80f1-5d17c53bc434"
      },
      "source": [
        "# cases_prediction = df_forecast.iloc[-7:,1:]"
      ],
      "execution_count": 486,
      "outputs": [
        {
          "output_type": "execute_result",
          "data": {
            "text/html": [
              "<div>\n",
              "<style scoped>\n",
              "    .dataframe tbody tr th:only-of-type {\n",
              "        vertical-align: middle;\n",
              "    }\n",
              "\n",
              "    .dataframe tbody tr th {\n",
              "        vertical-align: top;\n",
              "    }\n",
              "\n",
              "    .dataframe thead th {\n",
              "        text-align: right;\n",
              "    }\n",
              "</style>\n",
              "<table border=\"1\" class=\"dataframe\">\n",
              "  <thead>\n",
              "    <tr style=\"text-align: right;\">\n",
              "      <th></th>\n",
              "      <th>confirmed_predicted</th>\n",
              "      <th>confirmed_high</th>\n",
              "      <th>confirmed_low</th>\n",
              "    </tr>\n",
              "    <tr>\n",
              "      <th>new_date</th>\n",
              "      <th></th>\n",
              "      <th></th>\n",
              "      <th></th>\n",
              "    </tr>\n",
              "  </thead>\n",
              "  <tbody>\n",
              "    <tr>\n",
              "      <th>2020-08-15</th>\n",
              "      <td>221859.0</td>\n",
              "      <td>239103.0</td>\n",
              "      <td>204615.0</td>\n",
              "    </tr>\n",
              "    <tr>\n",
              "      <th>2020-08-16</th>\n",
              "      <td>224446.0</td>\n",
              "      <td>241690.0</td>\n",
              "      <td>207202.0</td>\n",
              "    </tr>\n",
              "    <tr>\n",
              "      <th>2020-08-17</th>\n",
              "      <td>227057.0</td>\n",
              "      <td>244301.0</td>\n",
              "      <td>209813.0</td>\n",
              "    </tr>\n",
              "    <tr>\n",
              "      <th>2020-08-18</th>\n",
              "      <td>229732.0</td>\n",
              "      <td>246976.0</td>\n",
              "      <td>212488.0</td>\n",
              "    </tr>\n",
              "    <tr>\n",
              "      <th>2020-08-19</th>\n",
              "      <td>232502.0</td>\n",
              "      <td>249746.0</td>\n",
              "      <td>215258.0</td>\n",
              "    </tr>\n",
              "    <tr>\n",
              "      <th>2020-08-20</th>\n",
              "      <td>235396.0</td>\n",
              "      <td>252640.0</td>\n",
              "      <td>218152.0</td>\n",
              "    </tr>\n",
              "    <tr>\n",
              "      <th>2020-08-21</th>\n",
              "      <td>238420.0</td>\n",
              "      <td>255664.0</td>\n",
              "      <td>221176.0</td>\n",
              "    </tr>\n",
              "  </tbody>\n",
              "</table>\n",
              "</div>"
            ],
            "text/plain": [
              "            confirmed_predicted  confirmed_high  confirmed_low\n",
              "new_date                                                      \n",
              "2020-08-15             221859.0        239103.0       204615.0\n",
              "2020-08-16             224446.0        241690.0       207202.0\n",
              "2020-08-17             227057.0        244301.0       209813.0\n",
              "2020-08-18             229732.0        246976.0       212488.0\n",
              "2020-08-19             232502.0        249746.0       215258.0\n",
              "2020-08-20             235396.0        252640.0       218152.0\n",
              "2020-08-21             238420.0        255664.0       221176.0"
            ]
          },
          "metadata": {
            "tags": []
          },
          "execution_count": 486
        }
      ]
    },
    {
      "cell_type": "markdown",
      "metadata": {
        "id": "YEZSgpp3tvdO",
        "colab_type": "text"
      },
      "source": [
        "## Death Model"
      ]
    },
    {
      "cell_type": "markdown",
      "metadata": {
        "id": "IDjJQc62tzED",
        "colab_type": "text"
      },
      "source": [
        "### Preprocessing"
      ]
    },
    {
      "cell_type": "code",
      "metadata": {
        "id": "w05ND9q-tyVL",
        "colab_type": "code",
        "colab": {
          "base_uri": "https://localhost:8080/",
          "height": 34
        },
        "outputId": "78503b00-dc23-422c-9303-60290ebb7aa0"
      },
      "source": [
        "# The length of train size\n",
        "x"
      ],
      "execution_count": 490,
      "outputs": [
        {
          "output_type": "execute_result",
          "data": {
            "text/plain": [
              "138"
            ]
          },
          "metadata": {
            "tags": []
          },
          "execution_count": 490
        }
      ]
    },
    {
      "cell_type": "code",
      "metadata": {
        "id": "47fgXuW2uCUF",
        "colab_type": "code",
        "colab": {
          "base_uri": "https://localhost:8080/",
          "height": 450
        },
        "outputId": "14272e9a-70fe-44cc-bc1d-e5d2b917d29a"
      },
      "source": [
        "train_d = la_ts_death.iloc[:x]\n",
        "test_d = la_ts_death.iloc[x:]\n",
        "train_d"
      ],
      "execution_count": 491,
      "outputs": [
        {
          "output_type": "execute_result",
          "data": {
            "text/html": [
              "<div>\n",
              "<style scoped>\n",
              "    .dataframe tbody tr th:only-of-type {\n",
              "        vertical-align: middle;\n",
              "    }\n",
              "\n",
              "    .dataframe tbody tr th {\n",
              "        vertical-align: top;\n",
              "    }\n",
              "\n",
              "    .dataframe thead th {\n",
              "        text-align: right;\n",
              "    }\n",
              "</style>\n",
              "<table border=\"1\" class=\"dataframe\">\n",
              "  <thead>\n",
              "    <tr style=\"text-align: right;\">\n",
              "      <th></th>\n",
              "      <th>totalcountdeaths</th>\n",
              "    </tr>\n",
              "    <tr>\n",
              "      <th>new_date</th>\n",
              "      <th></th>\n",
              "    </tr>\n",
              "  </thead>\n",
              "  <tbody>\n",
              "    <tr>\n",
              "      <th>2020-03-25</th>\n",
              "      <td>10.0</td>\n",
              "    </tr>\n",
              "    <tr>\n",
              "      <th>2020-03-26</th>\n",
              "      <td>18.0</td>\n",
              "    </tr>\n",
              "    <tr>\n",
              "      <th>2020-03-27</th>\n",
              "      <td>26.0</td>\n",
              "    </tr>\n",
              "    <tr>\n",
              "      <th>2020-03-28</th>\n",
              "      <td>32.0</td>\n",
              "    </tr>\n",
              "    <tr>\n",
              "      <th>2020-03-29</th>\n",
              "      <td>37.0</td>\n",
              "    </tr>\n",
              "    <tr>\n",
              "      <th>...</th>\n",
              "      <td>...</td>\n",
              "    </tr>\n",
              "    <tr>\n",
              "      <th>2020-08-05</th>\n",
              "      <td>4825.0</td>\n",
              "    </tr>\n",
              "    <tr>\n",
              "      <th>2020-08-06</th>\n",
              "      <td>4869.0</td>\n",
              "    </tr>\n",
              "    <tr>\n",
              "      <th>2020-08-07</th>\n",
              "      <td>4918.0</td>\n",
              "    </tr>\n",
              "    <tr>\n",
              "      <th>2020-08-08</th>\n",
              "      <td>4967.0</td>\n",
              "    </tr>\n",
              "    <tr>\n",
              "      <th>2020-08-09</th>\n",
              "      <td>4977.0</td>\n",
              "    </tr>\n",
              "  </tbody>\n",
              "</table>\n",
              "<p>138 rows × 1 columns</p>\n",
              "</div>"
            ],
            "text/plain": [
              "            totalcountdeaths\n",
              "new_date                    \n",
              "2020-03-25              10.0\n",
              "2020-03-26              18.0\n",
              "2020-03-27              26.0\n",
              "2020-03-28              32.0\n",
              "2020-03-29              37.0\n",
              "...                      ...\n",
              "2020-08-05            4825.0\n",
              "2020-08-06            4869.0\n",
              "2020-08-07            4918.0\n",
              "2020-08-08            4967.0\n",
              "2020-08-09            4977.0\n",
              "\n",
              "[138 rows x 1 columns]"
            ]
          },
          "metadata": {
            "tags": []
          },
          "execution_count": 491
        }
      ]
    },
    {
      "cell_type": "code",
      "metadata": {
        "id": "b5JVmAB-uKUn",
        "colab_type": "code",
        "colab": {
          "base_uri": "https://localhost:8080/",
          "height": 102
        },
        "outputId": "b07fd720-d9e9-4fd2-b62b-7857ad91ba1c"
      },
      "source": [
        "scaler_d = MinMaxScaler()\n",
        "scaler_d.fit(train_d)\n",
        "scaled_train = scaler_d.transform(train_d)\n",
        "scaled_test = scaler_d.transform(test_d)\n",
        "print(scaled_train[-5:])"
      ],
      "execution_count": 498,
      "outputs": [
        {
          "output_type": "stream",
          "text": [
            "[[0.96939803]\n",
            " [0.97825649]\n",
            " [0.9881216 ]\n",
            " [0.99798671]\n",
            " [1.        ]]\n"
          ],
          "name": "stdout"
        }
      ]
    },
    {
      "cell_type": "code",
      "metadata": {
        "id": "VLRcmgw3uYoc",
        "colab_type": "code",
        "colab": {
          "base_uri": "https://localhost:8080/",
          "height": 102
        },
        "outputId": "3ebee017-a109-41b0-d3d1-a20756ca04b6"
      },
      "source": [
        "scaled_test"
      ],
      "execution_count": 499,
      "outputs": [
        {
          "output_type": "execute_result",
          "data": {
            "text/plain": [
              "array([[1.00382525],\n",
              "       [1.0161063 ],\n",
              "       [1.0265754 ],\n",
              "       [1.03905778],\n",
              "       [1.04771492]])"
            ]
          },
          "metadata": {
            "tags": []
          },
          "execution_count": 499
        }
      ]
    },
    {
      "cell_type": "code",
      "metadata": {
        "id": "k_NL6XQGu5I7",
        "colab_type": "code",
        "colab": {}
      },
      "source": [
        "## how to decide num of inputs , \n",
        "n_input = 5  ## number of steps\n",
        "n_features = 1 ## number of features you want to predict (for univariate time series n_features=1)\n",
        "generator = TimeseriesGenerator(data = scaled_train, targets = scaled_train, length = n_input, batch_size=1)"
      ],
      "execution_count": 500,
      "outputs": []
    },
    {
      "cell_type": "code",
      "metadata": {
        "id": "Ts-0gHdiu-Pm",
        "colab_type": "code",
        "colab": {
          "base_uri": "https://localhost:8080/",
          "height": 102
        },
        "outputId": "400c4e5e-fcee-4d0b-a954-cdbf1ec91606"
      },
      "source": [
        "generator[-6]"
      ],
      "execution_count": 501,
      "outputs": [
        {
          "output_type": "execute_result",
          "data": {
            "text/plain": [
              "(array([[[0.955909  ],\n",
              "         [0.96939803],\n",
              "         [0.97825649],\n",
              "         [0.9881216 ],\n",
              "         [0.99798671]]]), array([[1.]]))"
            ]
          },
          "metadata": {
            "tags": []
          },
          "execution_count": 501
        }
      ]
    },
    {
      "cell_type": "markdown",
      "metadata": {
        "id": "OsMxY9UdvCo0",
        "colab_type": "text"
      },
      "source": [
        "### Model Building"
      ]
    },
    {
      "cell_type": "code",
      "metadata": {
        "id": "_qeCZdRavCAc",
        "colab_type": "code",
        "colab": {}
      },
      "source": [
        "model_t = Sequential()\n",
        "model_t.add(LSTM(180,activation=\"relu\",input_shape=(n_input,n_features)))\n",
        "model_t.add(Dropout(0.3))\n",
        "model_t.add(Dense(60, activation='relu'))\n",
        "model_t.add(Dense(units=1))\n",
        "model_t.compile(optimizer=\"adam\",loss=\"mse\")"
      ],
      "execution_count": 640,
      "outputs": []
    },
    {
      "cell_type": "code",
      "metadata": {
        "id": "mUP56J5KvRps",
        "colab_type": "code",
        "colab": {
          "base_uri": "https://localhost:8080/",
          "height": 119
        },
        "outputId": "5dd9ca08-f459-4510-fe64-fd1a7c6708cd"
      },
      "source": [
        "validation_set = np.append(scaled_train[-1],scaled_test)\n",
        "validation_set=validation_set.reshape(6,1)\n",
        "validation_set"
      ],
      "execution_count": 641,
      "outputs": [
        {
          "output_type": "execute_result",
          "data": {
            "text/plain": [
              "array([[1.        ],\n",
              "       [1.00382525],\n",
              "       [1.0161063 ],\n",
              "       [1.0265754 ],\n",
              "       [1.03905778],\n",
              "       [1.04771492]])"
            ]
          },
          "metadata": {
            "tags": []
          },
          "execution_count": 641
        }
      ]
    },
    {
      "cell_type": "code",
      "metadata": {
        "id": "OPdSMLR4vbPX",
        "colab_type": "code",
        "colab": {}
      },
      "source": [
        "validation_gen = TimeseriesGenerator(validation_set, validation_set, length=n_input, batch_size=1)"
      ],
      "execution_count": 642,
      "outputs": []
    },
    {
      "cell_type": "code",
      "metadata": {
        "id": "S-hiZsWNvjrF",
        "colab_type": "code",
        "colab": {
          "base_uri": "https://localhost:8080/",
          "height": 1000
        },
        "outputId": "3a454f19-9b53-4efc-b5dc-ac27406900d8"
      },
      "source": [
        "model_t.fit_generator(generator, validation_data=validation_gen, epochs=100, callbacks=[early_stop], steps_per_epoch=10)"
      ],
      "execution_count": 643,
      "outputs": [
        {
          "output_type": "stream",
          "text": [
            "Epoch 1/100\n",
            "10/10 [==============================] - 0s 23ms/step - loss: 0.2879 - val_loss: 0.4671\n",
            "Epoch 2/100\n",
            "10/10 [==============================] - 0s 6ms/step - loss: 0.0742 - val_loss: 0.0384\n",
            "Epoch 3/100\n",
            "10/10 [==============================] - 0s 7ms/step - loss: 0.0238 - val_loss: 0.0191\n",
            "Epoch 4/100\n",
            "10/10 [==============================] - 0s 7ms/step - loss: 0.0226 - val_loss: 0.0435\n",
            "Epoch 5/100\n",
            "10/10 [==============================] - 0s 7ms/step - loss: 0.0207 - val_loss: 0.0530\n",
            "Epoch 6/100\n",
            "10/10 [==============================] - 0s 6ms/step - loss: 0.0042 - val_loss: 0.0076\n",
            "Epoch 7/100\n",
            "10/10 [==============================] - 0s 8ms/step - loss: 0.0038 - val_loss: 0.0094\n",
            "Epoch 8/100\n",
            "10/10 [==============================] - 0s 7ms/step - loss: 0.0074 - val_loss: 0.0091\n",
            "Epoch 9/100\n",
            "10/10 [==============================] - 0s 8ms/step - loss: 0.0129 - val_loss: 0.0126\n",
            "Epoch 10/100\n",
            "10/10 [==============================] - 0s 8ms/step - loss: 0.0076 - val_loss: 0.0029\n",
            "Epoch 11/100\n",
            "10/10 [==============================] - 0s 9ms/step - loss: 0.0082 - val_loss: 4.9026e-05\n",
            "Epoch 12/100\n",
            "10/10 [==============================] - 0s 8ms/step - loss: 0.0012 - val_loss: 0.0125\n",
            "Epoch 13/100\n",
            "10/10 [==============================] - 0s 8ms/step - loss: 0.0064 - val_loss: 0.0035\n",
            "Epoch 14/100\n",
            "10/10 [==============================] - 0s 7ms/step - loss: 0.0032 - val_loss: 7.8673e-05\n",
            "Epoch 15/100\n",
            "10/10 [==============================] - 0s 7ms/step - loss: 0.0049 - val_loss: 0.0018\n",
            "Epoch 16/100\n",
            "10/10 [==============================] - 0s 6ms/step - loss: 0.0047 - val_loss: 0.0150\n",
            "Epoch 17/100\n",
            "10/10 [==============================] - 0s 6ms/step - loss: 0.0086 - val_loss: 0.0013\n",
            "Epoch 18/100\n",
            "10/10 [==============================] - 0s 6ms/step - loss: 0.0052 - val_loss: 0.0075\n",
            "Epoch 19/100\n",
            "10/10 [==============================] - 0s 6ms/step - loss: 0.0039 - val_loss: 4.7904e-04\n",
            "Epoch 20/100\n",
            "10/10 [==============================] - 0s 7ms/step - loss: 0.0070 - val_loss: 0.0066\n",
            "Epoch 21/100\n",
            "10/10 [==============================] - 0s 6ms/step - loss: 0.0078 - val_loss: 0.0040\n",
            "Epoch 22/100\n",
            "10/10 [==============================] - 0s 6ms/step - loss: 0.0043 - val_loss: 5.4980e-07\n",
            "Epoch 23/100\n",
            "10/10 [==============================] - 0s 8ms/step - loss: 0.0032 - val_loss: 2.5122e-05\n",
            "Epoch 24/100\n",
            "10/10 [==============================] - 0s 6ms/step - loss: 0.0024 - val_loss: 0.0015\n",
            "Epoch 25/100\n",
            "10/10 [==============================] - 0s 6ms/step - loss: 0.0032 - val_loss: 0.0166\n",
            "Epoch 26/100\n",
            "10/10 [==============================] - 0s 7ms/step - loss: 0.0081 - val_loss: 0.0044\n",
            "Epoch 27/100\n",
            "10/10 [==============================] - 0s 7ms/step - loss: 0.0029 - val_loss: 1.0226e-05\n",
            "Epoch 28/100\n",
            "10/10 [==============================] - 0s 8ms/step - loss: 0.0023 - val_loss: 0.0022\n",
            "Epoch 29/100\n",
            "10/10 [==============================] - 0s 7ms/step - loss: 0.0044 - val_loss: 5.1137e-04\n",
            "Epoch 30/100\n",
            "10/10 [==============================] - 0s 7ms/step - loss: 0.0038 - val_loss: 4.5662e-04\n",
            "Epoch 31/100\n",
            "10/10 [==============================] - 0s 7ms/step - loss: 0.0031 - val_loss: 3.7076e-04\n",
            "Epoch 32/100\n",
            "10/10 [==============================] - 0s 8ms/step - loss: 0.0023 - val_loss: 0.0023\n",
            "Epoch 33/100\n",
            "10/10 [==============================] - 0s 7ms/step - loss: 0.0036 - val_loss: 9.2083e-04\n",
            "Epoch 34/100\n",
            "10/10 [==============================] - 0s 8ms/step - loss: 0.0038 - val_loss: 2.9953e-04\n",
            "Epoch 35/100\n",
            "10/10 [==============================] - 0s 7ms/step - loss: 0.0065 - val_loss: 0.0024\n",
            "Epoch 36/100\n",
            "10/10 [==============================] - 0s 7ms/step - loss: 0.0029 - val_loss: 0.0015\n",
            "Epoch 37/100\n",
            "10/10 [==============================] - 0s 7ms/step - loss: 7.3406e-04 - val_loss: 0.0066\n",
            "Epoch 38/100\n",
            "10/10 [==============================] - 0s 7ms/step - loss: 0.0033 - val_loss: 3.7655e-04\n",
            "Epoch 39/100\n",
            "10/10 [==============================] - 0s 6ms/step - loss: 0.0032 - val_loss: 0.0094\n",
            "Epoch 40/100\n",
            "10/10 [==============================] - 0s 7ms/step - loss: 0.0026 - val_loss: 0.0010\n",
            "Epoch 41/100\n",
            "10/10 [==============================] - 0s 8ms/step - loss: 0.0020 - val_loss: 0.0030\n",
            "Epoch 42/100\n",
            "10/10 [==============================] - 0s 8ms/step - loss: 0.0040 - val_loss: 0.0082\n"
          ],
          "name": "stdout"
        },
        {
          "output_type": "execute_result",
          "data": {
            "text/plain": [
              "<tensorflow.python.keras.callbacks.History at 0x7fd1de2206d8>"
            ]
          },
          "metadata": {
            "tags": []
          },
          "execution_count": 643
        }
      ]
    },
    {
      "cell_type": "code",
      "metadata": {
        "id": "adlvSsO1wEWt",
        "colab_type": "code",
        "colab": {
          "base_uri": "https://localhost:8080/",
          "height": 298
        },
        "outputId": "fff9c447-544c-49b9-ca76-b89835f3657d"
      },
      "source": [
        "pd.DataFrame(model_t.history.history).plot(title=\"loss vs epochs curve\")"
      ],
      "execution_count": 644,
      "outputs": [
        {
          "output_type": "execute_result",
          "data": {
            "text/plain": [
              "<matplotlib.axes._subplots.AxesSubplot at 0x7fd1ddeac198>"
            ]
          },
          "metadata": {
            "tags": []
          },
          "execution_count": 644
        },
        {
          "output_type": "display_data",
          "data": {
            "image/png": "[encoded data removed]",
            "text/plain": [
              "<Figure size 432x288 with 1 Axes>"
            ]
          },
          "metadata": {
            "tags": [],
            "needs_background": "light"
          }
        }
      ]
    },
    {
      "cell_type": "markdown",
      "metadata": {
        "id": "E80G1yoRwQFw",
        "colab_type": "text"
      },
      "source": [
        "### Forecasting"
      ]
    },
    {
      "cell_type": "code",
      "metadata": {
        "id": "OhfaR0UewLxd",
        "colab_type": "code",
        "colab": {}
      },
      "source": [
        "## holding predictions\n",
        "test_pred_death = []\n",
        "\n",
        "##last n points from training set\n",
        "first_eval_batch = scaled_train[-n_input:]\n",
        "current_batch = first_eval_batch.reshape(1,n_input,n_features)"
      ],
      "execution_count": 645,
      "outputs": []
    },
    {
      "cell_type": "code",
      "metadata": {
        "id": "EmZKWME4wYN_",
        "colab_type": "code",
        "colab": {}
      },
      "source": [
        "## how far in future we can predict\n",
        "for i in range(len(test_d)+7):\n",
        "    current_pred = model_t.predict(current_batch)[0]\n",
        "    test_pred_death.append(current_pred)\n",
        "    current_batch = np.append(current_batch[:,1:,:],[[current_pred]],axis=1)"
      ],
      "execution_count": 646,
      "outputs": []
    },
    {
      "cell_type": "code",
      "metadata": {
        "id": "ONYIjDZawf7h",
        "colab_type": "code",
        "colab": {
          "base_uri": "https://localhost:8080/",
          "height": 68
        },
        "outputId": "9517c5fa-0138-4366-caf1-a89abf258b11"
      },
      "source": [
        "### inverse scaled data\n",
        "true_pred_death = scaler_d.inverse_transform(test_pred_death)\n",
        "true_pred_death[:,0]"
      ],
      "execution_count": 647,
      "outputs": [
        {
          "output_type": "execute_result",
          "data": {
            "text/plain": [
              "array([5043.66358256, 5091.73838401, 5140.76707876, 5190.32867479,\n",
              "       5240.17626119, 5298.48809636, 5355.25629413, 5414.11760974,\n",
              "       5475.1721102 , 5538.90414357, 5605.83950579, 5674.88752556])"
            ]
          },
          "metadata": {
            "tags": []
          },
          "execution_count": 647
        }
      ]
    },
    {
      "cell_type": "code",
      "metadata": {
        "id": "fOPS6P-bxJKK",
        "colab_type": "code",
        "colab": {
          "base_uri": "https://localhost:8080/",
          "height": 269
        },
        "outputId": "516cee80-b105-43ef-d009-516174fab916"
      },
      "source": [
        "plt.plot(true_pred_death[:,0])\n",
        "plt.plot(test_d['totalcountdeaths'].values)\n",
        "plt.xticks(rotation = 90)\n",
        "plt.show()"
      ],
      "execution_count": 658,
      "outputs": [
        {
          "output_type": "display_data",
          "data": {
            "image/png": "[encoded data removed]",
            "text/plain": [
              "<Figure size 432x288 with 1 Axes>"
            ]
          },
          "metadata": {
            "tags": [],
            "needs_background": "light"
          }
        }
      ]
    },
    {
      "cell_type": "markdown",
      "metadata": {
        "id": "B5PmdXqSz7bE",
        "colab_type": "text"
      },
      "source": [
        "## Generate Predicted Data"
      ]
    },
    {
      "cell_type": "code",
      "metadata": {
        "id": "n_9Mr9bqx9hY",
        "colab_type": "code",
        "colab": {}
      },
      "source": [
        "df_forecast.loc[:,\"death_predicted\"] = true_pred_death[:,0]\n",
        "df_forecast.loc[:,\"death\"] = test_d['totalcountdeaths']"
      ],
      "execution_count": 661,
      "outputs": []
    },
    {
      "cell_type": "code",
      "metadata": {
        "id": "n1TuEi6y1WS9",
        "colab_type": "code",
        "colab": {
          "base_uri": "https://localhost:8080/",
          "height": 452
        },
        "outputId": "4132b06e-006a-46a5-d5d4-5deee3ee8f17"
      },
      "source": [
        "df_forecast"
      ],
      "execution_count": 662,
      "outputs": [
        {
          "output_type": "execute_result",
          "data": {
            "text/html": [
              "<div>\n",
              "<style scoped>\n",
              "    .dataframe tbody tr th:only-of-type {\n",
              "        vertical-align: middle;\n",
              "    }\n",
              "\n",
              "    .dataframe tbody tr th {\n",
              "        vertical-align: top;\n",
              "    }\n",
              "\n",
              "    .dataframe thead th {\n",
              "        text-align: right;\n",
              "    }\n",
              "</style>\n",
              "<table border=\"1\" class=\"dataframe\">\n",
              "  <thead>\n",
              "    <tr style=\"text-align: right;\">\n",
              "      <th></th>\n",
              "      <th>confirmed</th>\n",
              "      <th>confirmed_predicted</th>\n",
              "      <th>death_predicted</th>\n",
              "      <th>death</th>\n",
              "    </tr>\n",
              "    <tr>\n",
              "      <th>new_date</th>\n",
              "      <th></th>\n",
              "      <th></th>\n",
              "      <th></th>\n",
              "      <th></th>\n",
              "    </tr>\n",
              "  </thead>\n",
              "  <tbody>\n",
              "    <tr>\n",
              "      <th>2020-08-10</th>\n",
              "      <td>211035.0</td>\n",
              "      <td>210052.218093</td>\n",
              "      <td>5043.663583</td>\n",
              "      <td>4996.0</td>\n",
              "    </tr>\n",
              "    <tr>\n",
              "      <th>2020-08-11</th>\n",
              "      <td>212421.0</td>\n",
              "      <td>212557.044535</td>\n",
              "      <td>5091.738384</td>\n",
              "      <td>5057.0</td>\n",
              "    </tr>\n",
              "    <tr>\n",
              "      <th>2020-08-12</th>\n",
              "      <td>214542.0</td>\n",
              "      <td>214949.625342</td>\n",
              "      <td>5140.767079</td>\n",
              "      <td>5109.0</td>\n",
              "    </tr>\n",
              "    <tr>\n",
              "      <th>2020-08-13</th>\n",
              "      <td>216497.0</td>\n",
              "      <td>217244.447024</td>\n",
              "      <td>5190.328675</td>\n",
              "      <td>5171.0</td>\n",
              "    </tr>\n",
              "    <tr>\n",
              "      <th>2020-08-14</th>\n",
              "      <td>219083.0</td>\n",
              "      <td>219499.480420</td>\n",
              "      <td>5240.176261</td>\n",
              "      <td>5214.0</td>\n",
              "    </tr>\n",
              "    <tr>\n",
              "      <th>2020-08-15</th>\n",
              "      <td>NaN</td>\n",
              "      <td>221859.044887</td>\n",
              "      <td>5298.488096</td>\n",
              "      <td>NaN</td>\n",
              "    </tr>\n",
              "    <tr>\n",
              "      <th>2020-08-16</th>\n",
              "      <td>NaN</td>\n",
              "      <td>224445.878858</td>\n",
              "      <td>5355.256294</td>\n",
              "      <td>NaN</td>\n",
              "    </tr>\n",
              "    <tr>\n",
              "      <th>2020-08-17</th>\n",
              "      <td>NaN</td>\n",
              "      <td>227057.369660</td>\n",
              "      <td>5414.117610</td>\n",
              "      <td>NaN</td>\n",
              "    </tr>\n",
              "    <tr>\n",
              "      <th>2020-08-18</th>\n",
              "      <td>NaN</td>\n",
              "      <td>229731.941267</td>\n",
              "      <td>5475.172110</td>\n",
              "      <td>NaN</td>\n",
              "    </tr>\n",
              "    <tr>\n",
              "      <th>2020-08-19</th>\n",
              "      <td>NaN</td>\n",
              "      <td>232501.915463</td>\n",
              "      <td>5538.904144</td>\n",
              "      <td>NaN</td>\n",
              "    </tr>\n",
              "    <tr>\n",
              "      <th>2020-08-20</th>\n",
              "      <td>NaN</td>\n",
              "      <td>235396.265262</td>\n",
              "      <td>5605.839506</td>\n",
              "      <td>NaN</td>\n",
              "    </tr>\n",
              "    <tr>\n",
              "      <th>2020-08-21</th>\n",
              "      <td>NaN</td>\n",
              "      <td>238419.852577</td>\n",
              "      <td>5674.887526</td>\n",
              "      <td>NaN</td>\n",
              "    </tr>\n",
              "  </tbody>\n",
              "</table>\n",
              "</div>"
            ],
            "text/plain": [
              "            confirmed  confirmed_predicted  death_predicted   death\n",
              "new_date                                                           \n",
              "2020-08-10   211035.0        210052.218093      5043.663583  4996.0\n",
              "2020-08-11   212421.0        212557.044535      5091.738384  5057.0\n",
              "2020-08-12   214542.0        214949.625342      5140.767079  5109.0\n",
              "2020-08-13   216497.0        217244.447024      5190.328675  5171.0\n",
              "2020-08-14   219083.0        219499.480420      5240.176261  5214.0\n",
              "2020-08-15        NaN        221859.044887      5298.488096     NaN\n",
              "2020-08-16        NaN        224445.878858      5355.256294     NaN\n",
              "2020-08-17        NaN        227057.369660      5414.117610     NaN\n",
              "2020-08-18        NaN        229731.941267      5475.172110     NaN\n",
              "2020-08-19        NaN        232501.915463      5538.904144     NaN\n",
              "2020-08-20        NaN        235396.265262      5605.839506     NaN\n",
              "2020-08-21        NaN        238419.852577      5674.887526     NaN"
            ]
          },
          "metadata": {
            "tags": []
          },
          "execution_count": 662
        }
      ]
    },
    {
      "cell_type": "code",
      "metadata": {
        "id": "wJuoX1Lx1iCu",
        "colab_type": "code",
        "colab": {}
      },
      "source": [
        "df_forecast['confirmed_predicted'] = round(df_forecast['confirmed_predicted'],0)\n",
        "df_forecast['death_predicted'] = round(df_forecast['death_predicted'],0)"
      ],
      "execution_count": 663,
      "outputs": []
    },
    {
      "cell_type": "code",
      "metadata": {
        "id": "AZ4A-1Ww1lRl",
        "colab_type": "code",
        "colab": {}
      },
      "source": [
        "stdev_c = np.std(df_forecast['confirmed_predicted'])\n",
        "interval_c = stdev*1.96"
      ],
      "execution_count": 664,
      "outputs": []
    },
    {
      "cell_type": "code",
      "metadata": {
        "id": "si1E9IpI1r9-",
        "colab_type": "code",
        "colab": {}
      },
      "source": [
        "stdev_d = np.std(df_forecast['death_predicted'])\n",
        "interval_d = stdev_d*1.96"
      ],
      "execution_count": 668,
      "outputs": []
    },
    {
      "cell_type": "code",
      "metadata": {
        "id": "V2pHnrU91u_r",
        "colab_type": "code",
        "colab": {
          "base_uri": "https://localhost:8080/",
          "height": 452
        },
        "outputId": "f7ccb013-1ba9-460d-df59-50ead90d104a"
      },
      "source": [
        "df_forecast['confirmed_high'] = round(df_forecast['confirmed_predicted'] + interval_c,0)\n",
        "df_forecast['confirmed_low'] = round(df_forecast['confirmed_predicted'] - interval_c,0)\n",
        "df_forecast['death_high'] = round(df_forecast['death_predicted'] + interval_d,0)\n",
        "df_forecast['death_low'] = round(df_forecast['death_predicted'] - interval_d,0)\n",
        "df_forecast"
      ],
      "execution_count": 669,
      "outputs": [
        {
          "output_type": "execute_result",
          "data": {
            "text/html": [
              "<div>\n",
              "<style scoped>\n",
              "    .dataframe tbody tr th:only-of-type {\n",
              "        vertical-align: middle;\n",
              "    }\n",
              "\n",
              "    .dataframe tbody tr th {\n",
              "        vertical-align: top;\n",
              "    }\n",
              "\n",
              "    .dataframe thead th {\n",
              "        text-align: right;\n",
              "    }\n",
              "</style>\n",
              "<table border=\"1\" class=\"dataframe\">\n",
              "  <thead>\n",
              "    <tr style=\"text-align: right;\">\n",
              "      <th></th>\n",
              "      <th>confirmed</th>\n",
              "      <th>confirmed_predicted</th>\n",
              "      <th>death_predicted</th>\n",
              "      <th>death</th>\n",
              "      <th>confirmed_high</th>\n",
              "      <th>confirmed_low</th>\n",
              "      <th>death_high</th>\n",
              "      <th>death_low</th>\n",
              "    </tr>\n",
              "    <tr>\n",
              "      <th>new_date</th>\n",
              "      <th></th>\n",
              "      <th></th>\n",
              "      <th></th>\n",
              "      <th></th>\n",
              "      <th></th>\n",
              "      <th></th>\n",
              "      <th></th>\n",
              "      <th></th>\n",
              "    </tr>\n",
              "  </thead>\n",
              "  <tbody>\n",
              "    <tr>\n",
              "      <th>2020-08-10</th>\n",
              "      <td>211035.0</td>\n",
              "      <td>210052.0</td>\n",
              "      <td>5044.0</td>\n",
              "      <td>4996.0</td>\n",
              "      <td>227296.0</td>\n",
              "      <td>192808.0</td>\n",
              "      <td>5432.0</td>\n",
              "      <td>4656.0</td>\n",
              "    </tr>\n",
              "    <tr>\n",
              "      <th>2020-08-11</th>\n",
              "      <td>212421.0</td>\n",
              "      <td>212557.0</td>\n",
              "      <td>5092.0</td>\n",
              "      <td>5057.0</td>\n",
              "      <td>229801.0</td>\n",
              "      <td>195313.0</td>\n",
              "      <td>5480.0</td>\n",
              "      <td>4704.0</td>\n",
              "    </tr>\n",
              "    <tr>\n",
              "      <th>2020-08-12</th>\n",
              "      <td>214542.0</td>\n",
              "      <td>214950.0</td>\n",
              "      <td>5141.0</td>\n",
              "      <td>5109.0</td>\n",
              "      <td>232194.0</td>\n",
              "      <td>197706.0</td>\n",
              "      <td>5529.0</td>\n",
              "      <td>4753.0</td>\n",
              "    </tr>\n",
              "    <tr>\n",
              "      <th>2020-08-13</th>\n",
              "      <td>216497.0</td>\n",
              "      <td>217244.0</td>\n",
              "      <td>5190.0</td>\n",
              "      <td>5171.0</td>\n",
              "      <td>234488.0</td>\n",
              "      <td>200000.0</td>\n",
              "      <td>5578.0</td>\n",
              "      <td>4802.0</td>\n",
              "    </tr>\n",
              "    <tr>\n",
              "      <th>2020-08-14</th>\n",
              "      <td>219083.0</td>\n",
              "      <td>219499.0</td>\n",
              "      <td>5240.0</td>\n",
              "      <td>5214.0</td>\n",
              "      <td>236743.0</td>\n",
              "      <td>202255.0</td>\n",
              "      <td>5628.0</td>\n",
              "      <td>4852.0</td>\n",
              "    </tr>\n",
              "    <tr>\n",
              "      <th>2020-08-15</th>\n",
              "      <td>NaN</td>\n",
              "      <td>221859.0</td>\n",
              "      <td>5298.0</td>\n",
              "      <td>NaN</td>\n",
              "      <td>239103.0</td>\n",
              "      <td>204615.0</td>\n",
              "      <td>5686.0</td>\n",
              "      <td>4910.0</td>\n",
              "    </tr>\n",
              "    <tr>\n",
              "      <th>2020-08-16</th>\n",
              "      <td>NaN</td>\n",
              "      <td>224446.0</td>\n",
              "      <td>5355.0</td>\n",
              "      <td>NaN</td>\n",
              "      <td>241690.0</td>\n",
              "      <td>207202.0</td>\n",
              "      <td>5743.0</td>\n",
              "      <td>4967.0</td>\n",
              "    </tr>\n",
              "    <tr>\n",
              "      <th>2020-08-17</th>\n",
              "      <td>NaN</td>\n",
              "      <td>227057.0</td>\n",
              "      <td>5414.0</td>\n",
              "      <td>NaN</td>\n",
              "      <td>244301.0</td>\n",
              "      <td>209813.0</td>\n",
              "      <td>5802.0</td>\n",
              "      <td>5026.0</td>\n",
              "    </tr>\n",
              "    <tr>\n",
              "      <th>2020-08-18</th>\n",
              "      <td>NaN</td>\n",
              "      <td>229732.0</td>\n",
              "      <td>5475.0</td>\n",
              "      <td>NaN</td>\n",
              "      <td>246976.0</td>\n",
              "      <td>212488.0</td>\n",
              "      <td>5863.0</td>\n",
              "      <td>5087.0</td>\n",
              "    </tr>\n",
              "    <tr>\n",
              "      <th>2020-08-19</th>\n",
              "      <td>NaN</td>\n",
              "      <td>232502.0</td>\n",
              "      <td>5539.0</td>\n",
              "      <td>NaN</td>\n",
              "      <td>249746.0</td>\n",
              "      <td>215258.0</td>\n",
              "      <td>5927.0</td>\n",
              "      <td>5151.0</td>\n",
              "    </tr>\n",
              "    <tr>\n",
              "      <th>2020-08-20</th>\n",
              "      <td>NaN</td>\n",
              "      <td>235396.0</td>\n",
              "      <td>5606.0</td>\n",
              "      <td>NaN</td>\n",
              "      <td>252640.0</td>\n",
              "      <td>218152.0</td>\n",
              "      <td>5994.0</td>\n",
              "      <td>5218.0</td>\n",
              "    </tr>\n",
              "    <tr>\n",
              "      <th>2020-08-21</th>\n",
              "      <td>NaN</td>\n",
              "      <td>238420.0</td>\n",
              "      <td>5675.0</td>\n",
              "      <td>NaN</td>\n",
              "      <td>255664.0</td>\n",
              "      <td>221176.0</td>\n",
              "      <td>6063.0</td>\n",
              "      <td>5287.0</td>\n",
              "    </tr>\n",
              "  </tbody>\n",
              "</table>\n",
              "</div>"
            ],
            "text/plain": [
              "            confirmed  confirmed_predicted  ...  death_high  death_low\n",
              "new_date                                    ...                       \n",
              "2020-08-10   211035.0             210052.0  ...      5432.0     4656.0\n",
              "2020-08-11   212421.0             212557.0  ...      5480.0     4704.0\n",
              "2020-08-12   214542.0             214950.0  ...      5529.0     4753.0\n",
              "2020-08-13   216497.0             217244.0  ...      5578.0     4802.0\n",
              "2020-08-14   219083.0             219499.0  ...      5628.0     4852.0\n",
              "2020-08-15        NaN             221859.0  ...      5686.0     4910.0\n",
              "2020-08-16        NaN             224446.0  ...      5743.0     4967.0\n",
              "2020-08-17        NaN             227057.0  ...      5802.0     5026.0\n",
              "2020-08-18        NaN             229732.0  ...      5863.0     5087.0\n",
              "2020-08-19        NaN             232502.0  ...      5927.0     5151.0\n",
              "2020-08-20        NaN             235396.0  ...      5994.0     5218.0\n",
              "2020-08-21        NaN             238420.0  ...      6063.0     5287.0\n",
              "\n",
              "[12 rows x 8 columns]"
            ]
          },
          "metadata": {
            "tags": []
          },
          "execution_count": 669
        }
      ]
    },
    {
      "cell_type": "code",
      "metadata": {
        "id": "ZDCaxoyZ2QoQ",
        "colab_type": "code",
        "colab": {}
      },
      "source": [
        "# extract the last 8 row because we would calculte the difference between the day and its previous day\n",
        "# therefore, we would get the 7 days (one week) differences \n",
        "predicted_data = df_forecast.iloc[-8:,[1,4,5,2,6,7]]"
      ],
      "execution_count": 674,
      "outputs": []
    },
    {
      "cell_type": "code",
      "metadata": {
        "id": "NWvrThfp3FAw",
        "colab_type": "code",
        "colab": {
          "base_uri": "https://localhost:8080/",
          "height": 328
        },
        "outputId": "56b91e4c-656c-4335-f7b5-e7026a182363"
      },
      "source": [
        "predicted_data"
      ],
      "execution_count": 675,
      "outputs": [
        {
          "output_type": "execute_result",
          "data": {
            "text/html": [
              "<div>\n",
              "<style scoped>\n",
              "    .dataframe tbody tr th:only-of-type {\n",
              "        vertical-align: middle;\n",
              "    }\n",
              "\n",
              "    .dataframe tbody tr th {\n",
              "        vertical-align: top;\n",
              "    }\n",
              "\n",
              "    .dataframe thead th {\n",
              "        text-align: right;\n",
              "    }\n",
              "</style>\n",
              "<table border=\"1\" class=\"dataframe\">\n",
              "  <thead>\n",
              "    <tr style=\"text-align: right;\">\n",
              "      <th></th>\n",
              "      <th>confirmed_predicted</th>\n",
              "      <th>confirmed_high</th>\n",
              "      <th>confirmed_low</th>\n",
              "      <th>death_predicted</th>\n",
              "      <th>death_high</th>\n",
              "      <th>death_low</th>\n",
              "    </tr>\n",
              "    <tr>\n",
              "      <th>new_date</th>\n",
              "      <th></th>\n",
              "      <th></th>\n",
              "      <th></th>\n",
              "      <th></th>\n",
              "      <th></th>\n",
              "      <th></th>\n",
              "    </tr>\n",
              "  </thead>\n",
              "  <tbody>\n",
              "    <tr>\n",
              "      <th>2020-08-14</th>\n",
              "      <td>219499.0</td>\n",
              "      <td>236743.0</td>\n",
              "      <td>202255.0</td>\n",
              "      <td>5240.0</td>\n",
              "      <td>5628.0</td>\n",
              "      <td>4852.0</td>\n",
              "    </tr>\n",
              "    <tr>\n",
              "      <th>2020-08-15</th>\n",
              "      <td>221859.0</td>\n",
              "      <td>239103.0</td>\n",
              "      <td>204615.0</td>\n",
              "      <td>5298.0</td>\n",
              "      <td>5686.0</td>\n",
              "      <td>4910.0</td>\n",
              "    </tr>\n",
              "    <tr>\n",
              "      <th>2020-08-16</th>\n",
              "      <td>224446.0</td>\n",
              "      <td>241690.0</td>\n",
              "      <td>207202.0</td>\n",
              "      <td>5355.0</td>\n",
              "      <td>5743.0</td>\n",
              "      <td>4967.0</td>\n",
              "    </tr>\n",
              "    <tr>\n",
              "      <th>2020-08-17</th>\n",
              "      <td>227057.0</td>\n",
              "      <td>244301.0</td>\n",
              "      <td>209813.0</td>\n",
              "      <td>5414.0</td>\n",
              "      <td>5802.0</td>\n",
              "      <td>5026.0</td>\n",
              "    </tr>\n",
              "    <tr>\n",
              "      <th>2020-08-18</th>\n",
              "      <td>229732.0</td>\n",
              "      <td>246976.0</td>\n",
              "      <td>212488.0</td>\n",
              "      <td>5475.0</td>\n",
              "      <td>5863.0</td>\n",
              "      <td>5087.0</td>\n",
              "    </tr>\n",
              "    <tr>\n",
              "      <th>2020-08-19</th>\n",
              "      <td>232502.0</td>\n",
              "      <td>249746.0</td>\n",
              "      <td>215258.0</td>\n",
              "      <td>5539.0</td>\n",
              "      <td>5927.0</td>\n",
              "      <td>5151.0</td>\n",
              "    </tr>\n",
              "    <tr>\n",
              "      <th>2020-08-20</th>\n",
              "      <td>235396.0</td>\n",
              "      <td>252640.0</td>\n",
              "      <td>218152.0</td>\n",
              "      <td>5606.0</td>\n",
              "      <td>5994.0</td>\n",
              "      <td>5218.0</td>\n",
              "    </tr>\n",
              "    <tr>\n",
              "      <th>2020-08-21</th>\n",
              "      <td>238420.0</td>\n",
              "      <td>255664.0</td>\n",
              "      <td>221176.0</td>\n",
              "      <td>5675.0</td>\n",
              "      <td>6063.0</td>\n",
              "      <td>5287.0</td>\n",
              "    </tr>\n",
              "  </tbody>\n",
              "</table>\n",
              "</div>"
            ],
            "text/plain": [
              "            confirmed_predicted  confirmed_high  ...  death_high  death_low\n",
              "new_date                                         ...                       \n",
              "2020-08-14             219499.0        236743.0  ...      5628.0     4852.0\n",
              "2020-08-15             221859.0        239103.0  ...      5686.0     4910.0\n",
              "2020-08-16             224446.0        241690.0  ...      5743.0     4967.0\n",
              "2020-08-17             227057.0        244301.0  ...      5802.0     5026.0\n",
              "2020-08-18             229732.0        246976.0  ...      5863.0     5087.0\n",
              "2020-08-19             232502.0        249746.0  ...      5927.0     5151.0\n",
              "2020-08-20             235396.0        252640.0  ...      5994.0     5218.0\n",
              "2020-08-21             238420.0        255664.0  ...      6063.0     5287.0\n",
              "\n",
              "[8 rows x 6 columns]"
            ]
          },
          "metadata": {
            "tags": []
          },
          "execution_count": 675
        }
      ]
    },
    {
      "cell_type": "code",
      "metadata": {
        "id": "nzjaFPdU3Kam",
        "colab_type": "code",
        "colab": {}
      },
      "source": [
        "predicted_data.to_csv('predicted_data.csv')"
      ],
      "execution_count": 676,
      "outputs": []
    }
  ]
}