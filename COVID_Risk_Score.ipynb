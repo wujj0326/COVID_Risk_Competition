{
  "nbformat": 4,
  "nbformat_minor": 0,
  "metadata": {
    "colab": {
      "name": "COVID_Risk_Score.ipynb",
      "provenance": [],
      "toc_visible": true,
      "authorship_tag": "ABX9TyOBhja1a3Rrl1unHrcfyTS3",
      "include_colab_link": true
    },
    "kernelspec": {
      "name": "python3",
      "display_name": "Python 3"
    }
  },
  "cells": [
    {
      "cell_type": "markdown",
      "metadata": {
        "id": "view-in-github",
        "colab_type": "text"
      },
      "source": [
        "<a href=\"https://colab.research.google.com/github/wujj0326/COVID_Risk_Competition/blob/master/COVID_Risk_Score.ipynb\" target=\"_parent\"><img src=\"https://colab.research.google.com/assets/colab-badge.svg\" alt=\"Open In Colab\"/></a>"
      ]
    },
    {
      "cell_type": "markdown",
      "metadata": {
        "id": "9zfGLG8JT3Rf",
        "colab_type": "text"
      },
      "source": [
        "## Import Packages"
      ]
    },
    {
      "cell_type": "code",
      "metadata": {
        "id": "tpJ4fDKiT6ml",
        "colab_type": "code",
        "colab": {}
      },
      "source": [
        "import pandas as pd\n",
        "import numpy as np\n",
        "import matplotlib.pyplot as plt\n",
        "%matplotlib inline\n",
        "from sklearn.preprocessing import MinMaxScaler\n",
        "from keras.preprocessing.sequence import TimeseriesGenerator\n",
        "from keras.models import Sequential\n",
        "from keras.layers import Dense, LSTM, Dropout, Activation\n",
        "from tensorflow.keras.callbacks import EarlyStopping\n",
        "import tensorflow as tf\n",
        "from datetime import datetime\n",
        "from keras.models import load_model\n",
        "import random\n",
        "\n",
        "RANDOM_SEED = 42\n",
        "random.seed(RANDOM_SEED)\n",
        "np.random.seed(RANDOM_SEED)\n",
        "tf.random.set_seed(RANDOM_SEED)\n",
        "tf.compat.v1.set_random_seed(RANDOM_SEED)"
      ],
      "execution_count": 389,
      "outputs": []
    },
    {
      "cell_type": "markdown",
      "metadata": {
        "id": "RwwG7RESpJ8H",
        "colab_type": "text"
      },
      "source": [
        "Reference: https://medium.com/datadriveninvestor/covid19-time-series-forecasting-using-lstm-rnn-753a04944483"
      ]
    },
    {
      "cell_type": "markdown",
      "metadata": {
        "id": "LjfaMRXbVaj0",
        "colab_type": "text"
      },
      "source": [
        "## Data Preparation"
      ]
    },
    {
      "cell_type": "code",
      "metadata": {
        "id": "mqlzWe7qC8pl",
        "colab_type": "code",
        "colab": {}
      },
      "source": [
        "global_case = pd.read_csv('https://data.ca.gov/dataset/590188d5-8545-4c93-a9a0-e230f0db7290/resource/926fd08f-cc91-4828-af38-bd45de97f8c3/download/statewide_cases.csv')"
      ],
      "execution_count": 390,
      "outputs": []
    },
    {
      "cell_type": "code",
      "metadata": {
        "id": "ziCTJVRvDZPI",
        "colab_type": "code",
        "colab": {
          "base_uri": "https://localhost:8080/",
          "height": 204
        },
        "outputId": "6dc28544-aaec-44b0-ad4a-565094633041"
      },
      "source": [
        "global_case.head()"
      ],
      "execution_count": 391,
      "outputs": [
        {
          "output_type": "execute_result",
          "data": {
            "text/html": [
              "<div>\n",
              "<style scoped>\n",
              "    .dataframe tbody tr th:only-of-type {\n",
              "        vertical-align: middle;\n",
              "    }\n",
              "\n",
              "    .dataframe tbody tr th {\n",
              "        vertical-align: top;\n",
              "    }\n",
              "\n",
              "    .dataframe thead th {\n",
              "        text-align: right;\n",
              "    }\n",
              "</style>\n",
              "<table border=\"1\" class=\"dataframe\">\n",
              "  <thead>\n",
              "    <tr style=\"text-align: right;\">\n",
              "      <th></th>\n",
              "      <th>county</th>\n",
              "      <th>totalcountconfirmed</th>\n",
              "      <th>totalcountdeaths</th>\n",
              "      <th>newcountconfirmed</th>\n",
              "      <th>newcountdeaths</th>\n",
              "      <th>date</th>\n",
              "    </tr>\n",
              "  </thead>\n",
              "  <tbody>\n",
              "    <tr>\n",
              "      <th>0</th>\n",
              "      <td>Santa Clara</td>\n",
              "      <td>151.0</td>\n",
              "      <td>6.0</td>\n",
              "      <td>151</td>\n",
              "      <td>6</td>\n",
              "      <td>2020-03-18</td>\n",
              "    </tr>\n",
              "    <tr>\n",
              "      <th>1</th>\n",
              "      <td>Santa Clara</td>\n",
              "      <td>183.0</td>\n",
              "      <td>8.0</td>\n",
              "      <td>32</td>\n",
              "      <td>2</td>\n",
              "      <td>2020-03-19</td>\n",
              "    </tr>\n",
              "    <tr>\n",
              "      <th>2</th>\n",
              "      <td>Santa Clara</td>\n",
              "      <td>246.0</td>\n",
              "      <td>8.0</td>\n",
              "      <td>63</td>\n",
              "      <td>0</td>\n",
              "      <td>2020-03-20</td>\n",
              "    </tr>\n",
              "    <tr>\n",
              "      <th>3</th>\n",
              "      <td>Santa Clara</td>\n",
              "      <td>269.0</td>\n",
              "      <td>10.0</td>\n",
              "      <td>23</td>\n",
              "      <td>2</td>\n",
              "      <td>2020-03-21</td>\n",
              "    </tr>\n",
              "    <tr>\n",
              "      <th>4</th>\n",
              "      <td>Santa Clara</td>\n",
              "      <td>284.0</td>\n",
              "      <td>13.0</td>\n",
              "      <td>15</td>\n",
              "      <td>3</td>\n",
              "      <td>2020-03-22</td>\n",
              "    </tr>\n",
              "  </tbody>\n",
              "</table>\n",
              "</div>"
            ],
            "text/plain": [
              "        county  totalcountconfirmed  ...  newcountdeaths        date\n",
              "0  Santa Clara                151.0  ...               6  2020-03-18\n",
              "1  Santa Clara                183.0  ...               2  2020-03-19\n",
              "2  Santa Clara                246.0  ...               0  2020-03-20\n",
              "3  Santa Clara                269.0  ...               2  2020-03-21\n",
              "4  Santa Clara                284.0  ...               3  2020-03-22\n",
              "\n",
              "[5 rows x 6 columns]"
            ]
          },
          "metadata": {
            "tags": []
          },
          "execution_count": 391
        }
      ]
    },
    {
      "cell_type": "code",
      "metadata": {
        "id": "xMXbpBe_DcFo",
        "colab_type": "code",
        "colab": {}
      },
      "source": [
        "la_cases = global_case[global_case['county']=='Los Angeles'].reset_index(drop=True)"
      ],
      "execution_count": 392,
      "outputs": []
    },
    {
      "cell_type": "code",
      "metadata": {
        "id": "Nrnu1a4YDp4w",
        "colab_type": "code",
        "colab": {}
      },
      "source": [
        "la_cases['new_date'] = pd.to_datetime(la_cases['date'])"
      ],
      "execution_count": 393,
      "outputs": []
    },
    {
      "cell_type": "code",
      "metadata": {
        "id": "Q7HYTqj0DyJQ",
        "colab_type": "code",
        "colab": {}
      },
      "source": [
        "la_trunc = la_cases.loc[la_cases['date']>'2020-03-24',['totalcountconfirmed','totalcountdeaths','newcountconfirmed','newcountdeaths','new_date']]"
      ],
      "execution_count": 394,
      "outputs": []
    },
    {
      "cell_type": "code",
      "metadata": {
        "id": "jJFEfB8bD4C4",
        "colab_type": "code",
        "colab": {
          "base_uri": "https://localhost:8080/",
          "height": 204
        },
        "outputId": "0748326b-c701-4f03-be63-d2fbe9380f37"
      },
      "source": [
        "la_trunc.head()"
      ],
      "execution_count": 395,
      "outputs": [
        {
          "output_type": "execute_result",
          "data": {
            "text/html": [
              "<div>\n",
              "<style scoped>\n",
              "    .dataframe tbody tr th:only-of-type {\n",
              "        vertical-align: middle;\n",
              "    }\n",
              "\n",
              "    .dataframe tbody tr th {\n",
              "        vertical-align: top;\n",
              "    }\n",
              "\n",
              "    .dataframe thead th {\n",
              "        text-align: right;\n",
              "    }\n",
              "</style>\n",
              "<table border=\"1\" class=\"dataframe\">\n",
              "  <thead>\n",
              "    <tr style=\"text-align: right;\">\n",
              "      <th></th>\n",
              "      <th>totalcountconfirmed</th>\n",
              "      <th>totalcountdeaths</th>\n",
              "      <th>newcountconfirmed</th>\n",
              "      <th>newcountdeaths</th>\n",
              "      <th>new_date</th>\n",
              "    </tr>\n",
              "  </thead>\n",
              "  <tbody>\n",
              "    <tr>\n",
              "      <th>7</th>\n",
              "      <td>725.0</td>\n",
              "      <td>10.0</td>\n",
              "      <td>92</td>\n",
              "      <td>-1</td>\n",
              "      <td>2020-03-25</td>\n",
              "    </tr>\n",
              "    <tr>\n",
              "      <th>8</th>\n",
              "      <td>1075.0</td>\n",
              "      <td>18.0</td>\n",
              "      <td>350</td>\n",
              "      <td>8</td>\n",
              "      <td>2020-03-26</td>\n",
              "    </tr>\n",
              "    <tr>\n",
              "      <th>9</th>\n",
              "      <td>1474.0</td>\n",
              "      <td>26.0</td>\n",
              "      <td>399</td>\n",
              "      <td>8</td>\n",
              "      <td>2020-03-27</td>\n",
              "    </tr>\n",
              "    <tr>\n",
              "      <th>10</th>\n",
              "      <td>1800.0</td>\n",
              "      <td>32.0</td>\n",
              "      <td>326</td>\n",
              "      <td>6</td>\n",
              "      <td>2020-03-28</td>\n",
              "    </tr>\n",
              "    <tr>\n",
              "      <th>11</th>\n",
              "      <td>2119.0</td>\n",
              "      <td>37.0</td>\n",
              "      <td>319</td>\n",
              "      <td>5</td>\n",
              "      <td>2020-03-29</td>\n",
              "    </tr>\n",
              "  </tbody>\n",
              "</table>\n",
              "</div>"
            ],
            "text/plain": [
              "    totalcountconfirmed  totalcountdeaths  ...  newcountdeaths   new_date\n",
              "7                 725.0              10.0  ...              -1 2020-03-25\n",
              "8                1075.0              18.0  ...               8 2020-03-26\n",
              "9                1474.0              26.0  ...               8 2020-03-27\n",
              "10               1800.0              32.0  ...               6 2020-03-28\n",
              "11               2119.0              37.0  ...               5 2020-03-29\n",
              "\n",
              "[5 rows x 5 columns]"
            ]
          },
          "metadata": {
            "tags": []
          },
          "execution_count": 395
        }
      ]
    },
    {
      "cell_type": "code",
      "metadata": {
        "id": "eLJEz8d_Eu-x",
        "colab_type": "code",
        "colab": {}
      },
      "source": [
        "la_daily = la_trunc.set_index('new_date')"
      ],
      "execution_count": 396,
      "outputs": []
    },
    {
      "cell_type": "code",
      "metadata": {
        "id": "M0pYLbVZNybc",
        "colab_type": "code",
        "colab": {
          "base_uri": "https://localhost:8080/",
          "height": 34
        },
        "outputId": "5d8eda09-fc42-4b99-8a88-4da8d24697d7"
      },
      "source": [
        "la_daily.shape"
      ],
      "execution_count": 397,
      "outputs": [
        {
          "output_type": "execute_result",
          "data": {
            "text/plain": [
              "(145, 4)"
            ]
          },
          "metadata": {
            "tags": []
          },
          "execution_count": 397
        }
      ]
    },
    {
      "cell_type": "code",
      "metadata": {
        "id": "msujS94CNn-1",
        "colab_type": "code",
        "colab": {
          "base_uri": "https://localhost:8080/",
          "height": 313
        },
        "outputId": "29df59d8-f1f1-4de8-c35d-8472f1c4326a"
      },
      "source": [
        "plt.plot(la_daily['newcountconfirmed'])\n",
        "plt.title(\"Daily cases\")\n",
        "plt.xticks(rotation = 90)\n",
        "plt.show()"
      ],
      "execution_count": 398,
      "outputs": [
        {
          "output_type": "display_data",
          "data": {
            "image/png": "[encoded data removed]",
            "text/plain": [
              "<Figure size 432x288 with 1 Axes>"
            ]
          },
          "metadata": {
            "tags": [],
            "needs_background": "light"
          }
        }
      ]
    },
    {
      "cell_type": "code",
      "metadata": {
        "id": "7hgdRCMSU3ml",
        "colab_type": "code",
        "colab": {}
      },
      "source": [
        "la_ts_confirmed = la_daily.iloc[:,[0]]\n",
        "la_ts_death = la_daily.iloc[:,[1]]"
      ],
      "execution_count": 399,
      "outputs": []
    },
    {
      "cell_type": "markdown",
      "metadata": {
        "id": "uzpxP-AYTn3V",
        "colab_type": "text"
      },
      "source": [
        "## Confirmed Model"
      ]
    },
    {
      "cell_type": "markdown",
      "metadata": {
        "id": "VQPKN3qbtliN",
        "colab_type": "text"
      },
      "source": [
        "### Preprocessing"
      ]
    },
    {
      "cell_type": "code",
      "metadata": {
        "id": "uJOoci8uVjZM",
        "colab_type": "code",
        "colab": {
          "base_uri": "https://localhost:8080/",
          "height": 34
        },
        "outputId": "1711b731-0c6a-4ad5-8570-6ba424e55e30"
      },
      "source": [
        "len(la_ts_confirmed)"
      ],
      "execution_count": 400,
      "outputs": [
        {
          "output_type": "execute_result",
          "data": {
            "text/plain": [
              "145"
            ]
          },
          "metadata": {
            "tags": []
          },
          "execution_count": 400
        }
      ]
    },
    {
      "cell_type": "code",
      "metadata": {
        "id": "SVwAcC6FV5P9",
        "colab_type": "code",
        "colab": {
          "base_uri": "https://localhost:8080/",
          "height": 34
        },
        "outputId": "70ff95d9-c6ac-4eb7-f045-0be87ff9466e"
      },
      "source": [
        "# predict 5 days afterwards\n",
        "x = len(la_ts_confirmed)-5\n",
        "x"
      ],
      "execution_count": 401,
      "outputs": [
        {
          "output_type": "execute_result",
          "data": {
            "text/plain": [
              "140"
            ]
          },
          "metadata": {
            "tags": []
          },
          "execution_count": 401
        }
      ]
    },
    {
      "cell_type": "code",
      "metadata": {
        "id": "Ps1dqKI0WBuW",
        "colab_type": "code",
        "colab": {
          "base_uri": "https://localhost:8080/",
          "height": 450
        },
        "outputId": "88f71217-d4e7-4d04-de8a-aa7a4003e6b8"
      },
      "source": [
        "train = la_ts_confirmed.iloc[:x]\n",
        "test = la_ts_confirmed.iloc[x:]\n",
        "train"
      ],
      "execution_count": 402,
      "outputs": [
        {
          "output_type": "execute_result",
          "data": {
            "text/html": [
              "<div>\n",
              "<style scoped>\n",
              "    .dataframe tbody tr th:only-of-type {\n",
              "        vertical-align: middle;\n",
              "    }\n",
              "\n",
              "    .dataframe tbody tr th {\n",
              "        vertical-align: top;\n",
              "    }\n",
              "\n",
              "    .dataframe thead th {\n",
              "        text-align: right;\n",
              "    }\n",
              "</style>\n",
              "<table border=\"1\" class=\"dataframe\">\n",
              "  <thead>\n",
              "    <tr style=\"text-align: right;\">\n",
              "      <th></th>\n",
              "      <th>totalcountconfirmed</th>\n",
              "    </tr>\n",
              "    <tr>\n",
              "      <th>new_date</th>\n",
              "      <th></th>\n",
              "    </tr>\n",
              "  </thead>\n",
              "  <tbody>\n",
              "    <tr>\n",
              "      <th>2020-03-25</th>\n",
              "      <td>725.0</td>\n",
              "    </tr>\n",
              "    <tr>\n",
              "      <th>2020-03-26</th>\n",
              "      <td>1075.0</td>\n",
              "    </tr>\n",
              "    <tr>\n",
              "      <th>2020-03-27</th>\n",
              "      <td>1474.0</td>\n",
              "    </tr>\n",
              "    <tr>\n",
              "      <th>2020-03-28</th>\n",
              "      <td>1800.0</td>\n",
              "    </tr>\n",
              "    <tr>\n",
              "      <th>2020-03-29</th>\n",
              "      <td>2119.0</td>\n",
              "    </tr>\n",
              "    <tr>\n",
              "      <th>...</th>\n",
              "      <td>...</td>\n",
              "    </tr>\n",
              "    <tr>\n",
              "      <th>2020-08-07</th>\n",
              "      <td>204406.0</td>\n",
              "    </tr>\n",
              "    <tr>\n",
              "      <th>2020-08-08</th>\n",
              "      <td>206971.0</td>\n",
              "    </tr>\n",
              "    <tr>\n",
              "      <th>2020-08-09</th>\n",
              "      <td>208810.0</td>\n",
              "    </tr>\n",
              "    <tr>\n",
              "      <th>2020-08-10</th>\n",
              "      <td>211035.0</td>\n",
              "    </tr>\n",
              "    <tr>\n",
              "      <th>2020-08-11</th>\n",
              "      <td>212421.0</td>\n",
              "    </tr>\n",
              "  </tbody>\n",
              "</table>\n",
              "<p>140 rows × 1 columns</p>\n",
              "</div>"
            ],
            "text/plain": [
              "            totalcountconfirmed\n",
              "new_date                       \n",
              "2020-03-25                725.0\n",
              "2020-03-26               1075.0\n",
              "2020-03-27               1474.0\n",
              "2020-03-28               1800.0\n",
              "2020-03-29               2119.0\n",
              "...                         ...\n",
              "2020-08-07             204406.0\n",
              "2020-08-08             206971.0\n",
              "2020-08-09             208810.0\n",
              "2020-08-10             211035.0\n",
              "2020-08-11             212421.0\n",
              "\n",
              "[140 rows x 1 columns]"
            ]
          },
          "metadata": {
            "tags": []
          },
          "execution_count": 402
        }
      ]
    },
    {
      "cell_type": "code",
      "metadata": {
        "id": "UcDWewEbWTbu",
        "colab_type": "code",
        "colab": {
          "base_uri": "https://localhost:8080/",
          "height": 102
        },
        "outputId": "432f2082-fbf0-4adb-89e3-29f5cbb06d89"
      },
      "source": [
        "scaler = MinMaxScaler()\n",
        "scaler.fit(train)\n",
        "scaled_train = scaler.transform(train)\n",
        "scaled_test = scaler.transform(test)\n",
        "print(scaled_train[-5:])"
      ],
      "execution_count": 403,
      "outputs": [
        {
          "output_type": "stream",
          "text": [
            "[[0.96213911]\n",
            " [0.97425554]\n",
            " [0.98294252]\n",
            " [0.99345288]\n",
            " [1.        ]]\n"
          ],
          "name": "stdout"
        }
      ]
    },
    {
      "cell_type": "code",
      "metadata": {
        "id": "xzZZSADgb2aQ",
        "colab_type": "code",
        "colab": {
          "base_uri": "https://localhost:8080/",
          "height": 102
        },
        "outputId": "156935ae-bac2-44ad-e571-4fd824b41366"
      },
      "source": [
        "print(scaled_test)"
      ],
      "execution_count": 404,
      "outputs": [
        {
          "output_type": "stream",
          "text": [
            "[[1.01001908]\n",
            " [1.01925402]\n",
            " [1.03146965]\n",
            " [1.04072821]\n",
            " [1.04636365]]\n"
          ],
          "name": "stdout"
        }
      ]
    },
    {
      "cell_type": "code",
      "metadata": {
        "id": "If0j5BSCYjxf",
        "colab_type": "code",
        "colab": {}
      },
      "source": [
        "# ?TimeseriesGenerator\n",
        "\n",
        "# This class takes in a sequence of data-points gathered at\n",
        "# equal intervals, along with time series parameters such as\n",
        "# stride, length of history, etc., to produce batches for\n",
        "# training/validation."
      ],
      "execution_count": 405,
      "outputs": []
    },
    {
      "cell_type": "code",
      "metadata": {
        "id": "pLs_EoWKWT3-",
        "colab_type": "code",
        "colab": {}
      },
      "source": [
        "## how to decide num of inputs , \n",
        "n_input = 5  ## number of steps\n",
        "n_features = 1 ## number of features you want to predict (for univariate time series n_features=1)\n",
        "generator = TimeseriesGenerator(data = scaled_train, targets = scaled_train, length = n_input, batch_size=1)"
      ],
      "execution_count": 406,
      "outputs": []
    },
    {
      "cell_type": "code",
      "metadata": {
        "id": "TxWAO4rdWrI9",
        "colab_type": "code",
        "colab": {
          "base_uri": "https://localhost:8080/",
          "height": 34
        },
        "outputId": "10ef307f-c938-4ade-ef9a-d0161de80ca4"
      },
      "source": [
        "len(generator)"
      ],
      "execution_count": 407,
      "outputs": [
        {
          "output_type": "execute_result",
          "data": {
            "text/plain": [
              "135"
            ]
          },
          "metadata": {
            "tags": []
          },
          "execution_count": 407
        }
      ]
    },
    {
      "cell_type": "markdown",
      "metadata": {
        "id": "vpzDElByZW9X",
        "colab_type": "text"
      },
      "source": [
        "we are taking 5 steps i.e taking 5 data points in account to predict 6th data point. So, The batches would be [feed=[t1,t2,t3,t4,t5],predict=t6].\n",
        "\n",
        "Therefore, the [-6] data point would be the last one which contains all true data."
      ]
    },
    {
      "cell_type": "code",
      "metadata": {
        "id": "BqVr3TxjWsm9",
        "colab_type": "code",
        "colab": {
          "base_uri": "https://localhost:8080/",
          "height": 102
        },
        "outputId": "0c79ce6e-4ecf-457f-8668-9b94c74a08e6"
      },
      "source": [
        "generator[-6]"
      ],
      "execution_count": 408,
      "outputs": [
        {
          "output_type": "execute_result",
          "data": {
            "text/plain": [
              "(array([[[0.94780723],\n",
              "         [0.96213911],\n",
              "         [0.97425554],\n",
              "         [0.98294252],\n",
              "         [0.99345288]]]), array([[1.]]))"
            ]
          },
          "metadata": {
            "tags": []
          },
          "execution_count": 408
        }
      ]
    },
    {
      "cell_type": "markdown",
      "metadata": {
        "id": "b9ibiW54XEXW",
        "colab_type": "text"
      },
      "source": [
        "### Model Building"
      ]
    },
    {
      "cell_type": "code",
      "metadata": {
        "id": "fKGKZAV8XGEz",
        "colab_type": "code",
        "colab": {}
      },
      "source": [
        "model = Sequential()\n",
        "model.add(LSTM(150,activation=\"relu\",input_shape=(n_input,n_features)))\n",
        "model.add(Dropout(0.2))\n",
        "model.add(Dense(75, activation='relu'))\n",
        "model.add(Dense(units=1))\n",
        "model.compile(optimizer=\"adam\",loss=\"mse\")"
      ],
      "execution_count": 409,
      "outputs": []
    },
    {
      "cell_type": "code",
      "metadata": {
        "id": "ow_nvNOMXMjN",
        "colab_type": "code",
        "colab": {
          "base_uri": "https://localhost:8080/",
          "height": 289
        },
        "outputId": "3d5904d0-5441-42d0-c9d6-98a42c8e3e17"
      },
      "source": [
        "model.summary()"
      ],
      "execution_count": 410,
      "outputs": [
        {
          "output_type": "stream",
          "text": [
            "Model: \"sequential_19\"\n",
            "_________________________________________________________________\n",
            "Layer (type)                 Output Shape              Param #   \n",
            "=================================================================\n",
            "lstm_19 (LSTM)               (None, 150)               91200     \n",
            "_________________________________________________________________\n",
            "dropout_14 (Dropout)         (None, 150)               0         \n",
            "_________________________________________________________________\n",
            "dense_34 (Dense)             (None, 75)                11325     \n",
            "_________________________________________________________________\n",
            "dense_35 (Dense)             (None, 1)                 76        \n",
            "=================================================================\n",
            "Total params: 102,601\n",
            "Trainable params: 102,601\n",
            "Non-trainable params: 0\n",
            "_________________________________________________________________\n"
          ],
          "name": "stdout"
        }
      ]
    },
    {
      "cell_type": "code",
      "metadata": {
        "id": "DuVwSdBhZzS6",
        "colab_type": "code",
        "colab": {
          "base_uri": "https://localhost:8080/",
          "height": 119
        },
        "outputId": "5f39dd4d-cdf6-4b4b-b6ce-f4e62c080111"
      },
      "source": [
        "validation_set = np.append(scaled_train[-1],scaled_test)\n",
        "validation_set=validation_set.reshape(6,1)\n",
        "validation_set"
      ],
      "execution_count": 411,
      "outputs": [
        {
          "output_type": "execute_result",
          "data": {
            "text/plain": [
              "array([[1.        ],\n",
              "       [1.01001908],\n",
              "       [1.01925402],\n",
              "       [1.03146965],\n",
              "       [1.04072821],\n",
              "       [1.04636365]])"
            ]
          },
          "metadata": {
            "tags": []
          },
          "execution_count": 411
        }
      ]
    },
    {
      "cell_type": "code",
      "metadata": {
        "id": "ENDlC58JaGDQ",
        "colab_type": "code",
        "colab": {}
      },
      "source": [
        "validation_gen = TimeseriesGenerator(validation_set, validation_set, length=n_input, batch_size=1)"
      ],
      "execution_count": 412,
      "outputs": []
    },
    {
      "cell_type": "code",
      "metadata": {
        "id": "Go_oS0uYaGWX",
        "colab_type": "code",
        "colab": {}
      },
      "source": [
        "from tensorflow.keras.callbacks import EarlyStopping\n",
        "early_stop = EarlyStopping(monitor='val_loss',patience=20,restore_best_weights=True)"
      ],
      "execution_count": 413,
      "outputs": []
    },
    {
      "cell_type": "code",
      "metadata": {
        "id": "HpoUlM_paIS3",
        "colab_type": "code",
        "colab": {
          "base_uri": "https://localhost:8080/",
          "height": 1000
        },
        "outputId": "1eff945b-d939-4c07-e16b-0923e3818985"
      },
      "source": [
        "model.fit_generator(generator, validation_data=validation_gen, epochs=100, callbacks=[early_stop], steps_per_epoch=10)"
      ],
      "execution_count": 414,
      "outputs": [
        {
          "output_type": "stream",
          "text": [
            "Epoch 1/100\n",
            "10/10 [==============================] - 0s 25ms/step - loss: 0.2185 - val_loss: 0.6696\n",
            "Epoch 2/100\n",
            "10/10 [==============================] - 0s 6ms/step - loss: 0.0226 - val_loss: 0.3850\n",
            "Epoch 3/100\n",
            "10/10 [==============================] - 0s 6ms/step - loss: 0.0344 - val_loss: 0.1804\n",
            "Epoch 4/100\n",
            "10/10 [==============================] - 0s 6ms/step - loss: 0.0125 - val_loss: 0.0563\n",
            "Epoch 5/100\n",
            "10/10 [==============================] - 0s 6ms/step - loss: 0.0178 - val_loss: 0.0058\n",
            "Epoch 6/100\n",
            "10/10 [==============================] - 0s 6ms/step - loss: 0.0036 - val_loss: 0.0042\n",
            "Epoch 7/100\n",
            "10/10 [==============================] - 0s 7ms/step - loss: 0.0032 - val_loss: 0.0049\n",
            "Epoch 8/100\n",
            "10/10 [==============================] - 0s 6ms/step - loss: 0.0019 - val_loss: 0.0050\n",
            "Epoch 9/100\n",
            "10/10 [==============================] - 0s 6ms/step - loss: 0.0089 - val_loss: 0.0042\n",
            "Epoch 10/100\n",
            "10/10 [==============================] - 0s 6ms/step - loss: 0.0013 - val_loss: 4.5553e-06\n",
            "Epoch 11/100\n",
            "10/10 [==============================] - 0s 6ms/step - loss: 0.0021 - val_loss: 7.7618e-04\n",
            "Epoch 12/100\n",
            "10/10 [==============================] - 0s 7ms/step - loss: 0.0014 - val_loss: 8.3621e-05\n",
            "Epoch 13/100\n",
            "10/10 [==============================] - 0s 6ms/step - loss: 7.6967e-04 - val_loss: 0.0029\n",
            "Epoch 14/100\n",
            "10/10 [==============================] - 0s 6ms/step - loss: 2.2107e-04 - val_loss: 0.0029\n",
            "Epoch 15/100\n",
            "10/10 [==============================] - 0s 6ms/step - loss: 0.0043 - val_loss: 0.0014\n",
            "Epoch 16/100\n",
            "10/10 [==============================] - 0s 6ms/step - loss: 0.0011 - val_loss: 0.0170\n",
            "Epoch 17/100\n",
            "10/10 [==============================] - 0s 6ms/step - loss: 2.9557e-04 - val_loss: 0.0148\n",
            "Epoch 18/100\n",
            "10/10 [==============================] - 0s 6ms/step - loss: 0.0021 - val_loss: 0.0032\n",
            "Epoch 19/100\n",
            "10/10 [==============================] - 0s 6ms/step - loss: 0.0028 - val_loss: 0.0015\n",
            "Epoch 20/100\n",
            "10/10 [==============================] - 0s 6ms/step - loss: 0.0106 - val_loss: 7.3611e-04\n",
            "Epoch 21/100\n",
            "10/10 [==============================] - 0s 6ms/step - loss: 0.0027 - val_loss: 1.7297e-04\n",
            "Epoch 22/100\n",
            "10/10 [==============================] - 0s 6ms/step - loss: 0.0016 - val_loss: 3.6031e-04\n",
            "Epoch 23/100\n",
            "10/10 [==============================] - 0s 7ms/step - loss: 7.9681e-04 - val_loss: 4.9119e-04\n",
            "Epoch 24/100\n",
            "10/10 [==============================] - 0s 7ms/step - loss: 5.6734e-04 - val_loss: 3.4795e-04\n",
            "Epoch 25/100\n",
            "10/10 [==============================] - 0s 6ms/step - loss: 3.7782e-04 - val_loss: 0.0016\n",
            "Epoch 26/100\n",
            "10/10 [==============================] - 0s 6ms/step - loss: 4.7340e-04 - val_loss: 0.0011\n",
            "Epoch 27/100\n",
            "10/10 [==============================] - 0s 6ms/step - loss: 0.0012 - val_loss: 0.0018\n",
            "Epoch 28/100\n",
            "10/10 [==============================] - 0s 6ms/step - loss: 0.0036 - val_loss: 2.1332e-04\n",
            "Epoch 29/100\n",
            "10/10 [==============================] - 0s 6ms/step - loss: 8.2305e-04 - val_loss: 0.0041\n",
            "Epoch 30/100\n",
            "10/10 [==============================] - 0s 6ms/step - loss: 0.0016 - val_loss: 7.8134e-05\n"
          ],
          "name": "stdout"
        },
        {
          "output_type": "execute_result",
          "data": {
            "text/plain": [
              "<tensorflow.python.keras.callbacks.History at 0x7fecb89caa58>"
            ]
          },
          "metadata": {
            "tags": []
          },
          "execution_count": 414
        }
      ]
    },
    {
      "cell_type": "code",
      "metadata": {
        "id": "lTSM0BnVaKSP",
        "colab_type": "code",
        "colab": {
          "base_uri": "https://localhost:8080/",
          "height": 298
        },
        "outputId": "eddb8ad6-e211-4022-c773-d35700fb17db"
      },
      "source": [
        "pd.DataFrame(model.history.history).plot(title=\"loss vs epochs curve\")"
      ],
      "execution_count": 415,
      "outputs": [
        {
          "output_type": "execute_result",
          "data": {
            "text/plain": [
              "<matplotlib.axes._subplots.AxesSubplot at 0x7fecbc30e208>"
            ]
          },
          "metadata": {
            "tags": []
          },
          "execution_count": 415
        },
        {
          "output_type": "display_data",
          "data": {
            "image/png": "[encoded data removed]",
            "text/plain": [
              "<Figure size 432x288 with 1 Axes>"
            ]
          },
          "metadata": {
            "tags": [],
            "needs_background": "light"
          }
        }
      ]
    },
    {
      "cell_type": "markdown",
      "metadata": {
        "id": "LhqRxXkibhDS",
        "colab_type": "text"
      },
      "source": [
        "### Forecasting"
      ]
    },
    {
      "cell_type": "code",
      "metadata": {
        "id": "36HsB577aN0Z",
        "colab_type": "code",
        "colab": {}
      },
      "source": [
        "## holding predictions\n",
        "test_prediction = []\n",
        "\n",
        "##last n points from training set\n",
        "first_eval_batch = scaled_train[-n_input:]\n",
        "current_batch = first_eval_batch.reshape(1,n_input,n_features)"
      ],
      "execution_count": 416,
      "outputs": []
    },
    {
      "cell_type": "code",
      "metadata": {
        "id": "Cd4w5NWhaUcY",
        "colab_type": "code",
        "colab": {}
      },
      "source": [
        "## how far in future we can predict\n",
        "for i in range(len(test)+7):\n",
        "    current_pred = model.predict(current_batch)[0]\n",
        "    test_prediction.append(current_pred)\n",
        "    current_batch = np.append(current_batch[:,1:,:],[[current_pred]],axis=1)"
      ],
      "execution_count": 417,
      "outputs": []
    },
    {
      "cell_type": "code",
      "metadata": {
        "id": "1BPAcqQqaX_3",
        "colab_type": "code",
        "colab": {
          "base_uri": "https://localhost:8080/",
          "height": 68
        },
        "outputId": "f3d6a9fc-1fe2-4bea-dbd0-bcd84ca93f0f"
      },
      "source": [
        "### inverse scaled data\n",
        "true_prediction = scaler.inverse_transform(test_prediction)\n",
        "true_prediction[:,0]"
      ],
      "execution_count": 418,
      "outputs": [
        {
          "output_type": "execute_result",
          "data": {
            "text/plain": [
              "array([214664.74429703, 216701.32520485, 218657.75616455, 220636.82393265,\n",
              "       222577.17947769, 224622.97157288, 226636.28476906, 228647.7809639 ,\n",
              "       230672.34947395, 232712.00918961, 234772.94296265, 236840.71572685])"
            ]
          },
          "metadata": {
            "tags": []
          },
          "execution_count": 418
        }
      ]
    },
    {
      "cell_type": "code",
      "metadata": {
        "id": "8rihVX6jabLn",
        "colab_type": "code",
        "colab": {
          "base_uri": "https://localhost:8080/",
          "height": 85
        },
        "outputId": "49431c92-2b0f-47c7-a933-336aa7324d51"
      },
      "source": [
        "time_series_array = test.index\n",
        "for k in range(0,7):\n",
        "    time_series_array = time_series_array.append(time_series_array[-1:] + pd.DateOffset(1))\n",
        "time_series_array"
      ],
      "execution_count": 419,
      "outputs": [
        {
          "output_type": "execute_result",
          "data": {
            "text/plain": [
              "DatetimeIndex(['2020-08-12', '2020-08-13', '2020-08-14', '2020-08-15',\n",
              "               '2020-08-16', '2020-08-17', '2020-08-18', '2020-08-19',\n",
              "               '2020-08-20', '2020-08-21', '2020-08-22', '2020-08-23'],\n",
              "              dtype='datetime64[ns]', name='new_date', freq=None)"
            ]
          },
          "metadata": {
            "tags": []
          },
          "execution_count": 419
        }
      ]
    },
    {
      "cell_type": "code",
      "metadata": {
        "id": "tHBmookzahKH",
        "colab_type": "code",
        "colab": {}
      },
      "source": [
        "df_forecast = pd.DataFrame(columns=[\"confirmed\",\"confirmed_predicted\"],index=time_series_array)\n",
        "df_forecast.loc[:,\"confirmed_predicted\"] = true_prediction[:,0]\n",
        "df_forecast.loc[:,\"confirmed\"] = test['totalcountconfirmed']"
      ],
      "execution_count": 420,
      "outputs": []
    },
    {
      "cell_type": "code",
      "metadata": {
        "id": "9cVdjAK-azGn",
        "colab_type": "code",
        "colab": {
          "base_uri": "https://localhost:8080/",
          "height": 452
        },
        "outputId": "b4018077-15f1-4db3-98c2-f8f2173ffa7f"
      },
      "source": [
        "df_forecast"
      ],
      "execution_count": 421,
      "outputs": [
        {
          "output_type": "execute_result",
          "data": {
            "text/html": [
              "<div>\n",
              "<style scoped>\n",
              "    .dataframe tbody tr th:only-of-type {\n",
              "        vertical-align: middle;\n",
              "    }\n",
              "\n",
              "    .dataframe tbody tr th {\n",
              "        vertical-align: top;\n",
              "    }\n",
              "\n",
              "    .dataframe thead th {\n",
              "        text-align: right;\n",
              "    }\n",
              "</style>\n",
              "<table border=\"1\" class=\"dataframe\">\n",
              "  <thead>\n",
              "    <tr style=\"text-align: right;\">\n",
              "      <th></th>\n",
              "      <th>confirmed</th>\n",
              "      <th>confirmed_predicted</th>\n",
              "    </tr>\n",
              "    <tr>\n",
              "      <th>new_date</th>\n",
              "      <th></th>\n",
              "      <th></th>\n",
              "    </tr>\n",
              "  </thead>\n",
              "  <tbody>\n",
              "    <tr>\n",
              "      <th>2020-08-12</th>\n",
              "      <td>214542.0</td>\n",
              "      <td>214664.744297</td>\n",
              "    </tr>\n",
              "    <tr>\n",
              "      <th>2020-08-13</th>\n",
              "      <td>216497.0</td>\n",
              "      <td>216701.325205</td>\n",
              "    </tr>\n",
              "    <tr>\n",
              "      <th>2020-08-14</th>\n",
              "      <td>219083.0</td>\n",
              "      <td>218657.756165</td>\n",
              "    </tr>\n",
              "    <tr>\n",
              "      <th>2020-08-15</th>\n",
              "      <td>221043.0</td>\n",
              "      <td>220636.823933</td>\n",
              "    </tr>\n",
              "    <tr>\n",
              "      <th>2020-08-16</th>\n",
              "      <td>222236.0</td>\n",
              "      <td>222577.179478</td>\n",
              "    </tr>\n",
              "    <tr>\n",
              "      <th>2020-08-17</th>\n",
              "      <td>NaN</td>\n",
              "      <td>224622.971573</td>\n",
              "    </tr>\n",
              "    <tr>\n",
              "      <th>2020-08-18</th>\n",
              "      <td>NaN</td>\n",
              "      <td>226636.284769</td>\n",
              "    </tr>\n",
              "    <tr>\n",
              "      <th>2020-08-19</th>\n",
              "      <td>NaN</td>\n",
              "      <td>228647.780964</td>\n",
              "    </tr>\n",
              "    <tr>\n",
              "      <th>2020-08-20</th>\n",
              "      <td>NaN</td>\n",
              "      <td>230672.349474</td>\n",
              "    </tr>\n",
              "    <tr>\n",
              "      <th>2020-08-21</th>\n",
              "      <td>NaN</td>\n",
              "      <td>232712.009190</td>\n",
              "    </tr>\n",
              "    <tr>\n",
              "      <th>2020-08-22</th>\n",
              "      <td>NaN</td>\n",
              "      <td>234772.942963</td>\n",
              "    </tr>\n",
              "    <tr>\n",
              "      <th>2020-08-23</th>\n",
              "      <td>NaN</td>\n",
              "      <td>236840.715727</td>\n",
              "    </tr>\n",
              "  </tbody>\n",
              "</table>\n",
              "</div>"
            ],
            "text/plain": [
              "            confirmed  confirmed_predicted\n",
              "new_date                                  \n",
              "2020-08-12   214542.0        214664.744297\n",
              "2020-08-13   216497.0        216701.325205\n",
              "2020-08-14   219083.0        218657.756165\n",
              "2020-08-15   221043.0        220636.823933\n",
              "2020-08-16   222236.0        222577.179478\n",
              "2020-08-17        NaN        224622.971573\n",
              "2020-08-18        NaN        226636.284769\n",
              "2020-08-19        NaN        228647.780964\n",
              "2020-08-20        NaN        230672.349474\n",
              "2020-08-21        NaN        232712.009190\n",
              "2020-08-22        NaN        234772.942963\n",
              "2020-08-23        NaN        236840.715727"
            ]
          },
          "metadata": {
            "tags": []
          },
          "execution_count": 421
        }
      ]
    },
    {
      "cell_type": "code",
      "metadata": {
        "id": "t1iS0BsVbrQY",
        "colab_type": "code",
        "colab": {
          "base_uri": "https://localhost:8080/",
          "height": 313
        },
        "outputId": "44c46b34-1506-477d-c9d0-5682a095a555"
      },
      "source": [
        "plt.plot(df_forecast)\n",
        "plt.xticks(rotation = 90)\n",
        "plt.show()"
      ],
      "execution_count": 422,
      "outputs": [
        {
          "output_type": "display_data",
          "data": {
            "image/png": "[encoded data removed]",
            "text/plain": [
              "<Figure size 432x288 with 1 Axes>"
            ]
          },
          "metadata": {
            "tags": [],
            "needs_background": "light"
          }
        }
      ]
    },
    {
      "cell_type": "markdown",
      "metadata": {
        "id": "V053raRXptYy",
        "colab_type": "text"
      },
      "source": [
        "### Generate Predicted Confirmed Data"
      ]
    },
    {
      "cell_type": "code",
      "metadata": {
        "id": "F9yQpxqXqlYL",
        "colab_type": "code",
        "colab": {}
      },
      "source": [
        "df_forecast['confirmed_predicted'] = round(df_forecast['confirmed_predicted'],0)"
      ],
      "execution_count": 423,
      "outputs": []
    },
    {
      "cell_type": "code",
      "metadata": {
        "id": "48dKnBo6pxPA",
        "colab_type": "code",
        "colab": {}
      },
      "source": [
        "stdev = np.std(df_forecast['confirmed_predicted'])\n",
        "interval = stdev*1.96"
      ],
      "execution_count": 424,
      "outputs": []
    },
    {
      "cell_type": "code",
      "metadata": {
        "id": "sisPyzXpqSud",
        "colab_type": "code",
        "colab": {
          "base_uri": "https://localhost:8080/",
          "height": 452
        },
        "outputId": "e9d81e9e-6c41-45cd-f209-fcd10e7ab1f5"
      },
      "source": [
        "df_forecast['confirmed_high'] = round(df_forecast['confirmed_predicted']+interval,0)\n",
        "df_forecast['confirmed_low'] = round(df_forecast['confirmed_predicted']-interval,0)\n",
        "df_forecast"
      ],
      "execution_count": 425,
      "outputs": [
        {
          "output_type": "execute_result",
          "data": {
            "text/html": [
              "<div>\n",
              "<style scoped>\n",
              "    .dataframe tbody tr th:only-of-type {\n",
              "        vertical-align: middle;\n",
              "    }\n",
              "\n",
              "    .dataframe tbody tr th {\n",
              "        vertical-align: top;\n",
              "    }\n",
              "\n",
              "    .dataframe thead th {\n",
              "        text-align: right;\n",
              "    }\n",
              "</style>\n",
              "<table border=\"1\" class=\"dataframe\">\n",
              "  <thead>\n",
              "    <tr style=\"text-align: right;\">\n",
              "      <th></th>\n",
              "      <th>confirmed</th>\n",
              "      <th>confirmed_predicted</th>\n",
              "      <th>confirmed_high</th>\n",
              "      <th>confirmed_low</th>\n",
              "    </tr>\n",
              "    <tr>\n",
              "      <th>new_date</th>\n",
              "      <th></th>\n",
              "      <th></th>\n",
              "      <th></th>\n",
              "      <th></th>\n",
              "    </tr>\n",
              "  </thead>\n",
              "  <tbody>\n",
              "    <tr>\n",
              "      <th>2020-08-12</th>\n",
              "      <td>214542.0</td>\n",
              "      <td>214665.0</td>\n",
              "      <td>228277.0</td>\n",
              "      <td>201053.0</td>\n",
              "    </tr>\n",
              "    <tr>\n",
              "      <th>2020-08-13</th>\n",
              "      <td>216497.0</td>\n",
              "      <td>216701.0</td>\n",
              "      <td>230313.0</td>\n",
              "      <td>203089.0</td>\n",
              "    </tr>\n",
              "    <tr>\n",
              "      <th>2020-08-14</th>\n",
              "      <td>219083.0</td>\n",
              "      <td>218658.0</td>\n",
              "      <td>232270.0</td>\n",
              "      <td>205046.0</td>\n",
              "    </tr>\n",
              "    <tr>\n",
              "      <th>2020-08-15</th>\n",
              "      <td>221043.0</td>\n",
              "      <td>220637.0</td>\n",
              "      <td>234249.0</td>\n",
              "      <td>207025.0</td>\n",
              "    </tr>\n",
              "    <tr>\n",
              "      <th>2020-08-16</th>\n",
              "      <td>222236.0</td>\n",
              "      <td>222577.0</td>\n",
              "      <td>236189.0</td>\n",
              "      <td>208965.0</td>\n",
              "    </tr>\n",
              "    <tr>\n",
              "      <th>2020-08-17</th>\n",
              "      <td>NaN</td>\n",
              "      <td>224623.0</td>\n",
              "      <td>238235.0</td>\n",
              "      <td>211011.0</td>\n",
              "    </tr>\n",
              "    <tr>\n",
              "      <th>2020-08-18</th>\n",
              "      <td>NaN</td>\n",
              "      <td>226636.0</td>\n",
              "      <td>240248.0</td>\n",
              "      <td>213024.0</td>\n",
              "    </tr>\n",
              "    <tr>\n",
              "      <th>2020-08-19</th>\n",
              "      <td>NaN</td>\n",
              "      <td>228648.0</td>\n",
              "      <td>242260.0</td>\n",
              "      <td>215036.0</td>\n",
              "    </tr>\n",
              "    <tr>\n",
              "      <th>2020-08-20</th>\n",
              "      <td>NaN</td>\n",
              "      <td>230672.0</td>\n",
              "      <td>244284.0</td>\n",
              "      <td>217060.0</td>\n",
              "    </tr>\n",
              "    <tr>\n",
              "      <th>2020-08-21</th>\n",
              "      <td>NaN</td>\n",
              "      <td>232712.0</td>\n",
              "      <td>246324.0</td>\n",
              "      <td>219100.0</td>\n",
              "    </tr>\n",
              "    <tr>\n",
              "      <th>2020-08-22</th>\n",
              "      <td>NaN</td>\n",
              "      <td>234773.0</td>\n",
              "      <td>248385.0</td>\n",
              "      <td>221161.0</td>\n",
              "    </tr>\n",
              "    <tr>\n",
              "      <th>2020-08-23</th>\n",
              "      <td>NaN</td>\n",
              "      <td>236841.0</td>\n",
              "      <td>250453.0</td>\n",
              "      <td>223229.0</td>\n",
              "    </tr>\n",
              "  </tbody>\n",
              "</table>\n",
              "</div>"
            ],
            "text/plain": [
              "            confirmed  confirmed_predicted  confirmed_high  confirmed_low\n",
              "new_date                                                                 \n",
              "2020-08-12   214542.0             214665.0        228277.0       201053.0\n",
              "2020-08-13   216497.0             216701.0        230313.0       203089.0\n",
              "2020-08-14   219083.0             218658.0        232270.0       205046.0\n",
              "2020-08-15   221043.0             220637.0        234249.0       207025.0\n",
              "2020-08-16   222236.0             222577.0        236189.0       208965.0\n",
              "2020-08-17        NaN             224623.0        238235.0       211011.0\n",
              "2020-08-18        NaN             226636.0        240248.0       213024.0\n",
              "2020-08-19        NaN             228648.0        242260.0       215036.0\n",
              "2020-08-20        NaN             230672.0        244284.0       217060.0\n",
              "2020-08-21        NaN             232712.0        246324.0       219100.0\n",
              "2020-08-22        NaN             234773.0        248385.0       221161.0\n",
              "2020-08-23        NaN             236841.0        250453.0       223229.0"
            ]
          },
          "metadata": {
            "tags": []
          },
          "execution_count": 425
        }
      ]
    },
    {
      "cell_type": "code",
      "metadata": {
        "id": "oJ4yNck8q_SE",
        "colab_type": "code",
        "colab": {}
      },
      "source": [
        "# cases_prediction = df_forecast.iloc[-7:,1:]"
      ],
      "execution_count": 426,
      "outputs": []
    },
    {
      "cell_type": "markdown",
      "metadata": {
        "id": "YEZSgpp3tvdO",
        "colab_type": "text"
      },
      "source": [
        "## Death Model"
      ]
    },
    {
      "cell_type": "markdown",
      "metadata": {
        "id": "IDjJQc62tzED",
        "colab_type": "text"
      },
      "source": [
        "### Preprocessing"
      ]
    },
    {
      "cell_type": "code",
      "metadata": {
        "id": "w05ND9q-tyVL",
        "colab_type": "code",
        "colab": {
          "base_uri": "https://localhost:8080/",
          "height": 34
        },
        "outputId": "36d6d1bf-a115-407b-9878-f84f7e92d34d"
      },
      "source": [
        "# The length of train size\n",
        "x"
      ],
      "execution_count": 427,
      "outputs": [
        {
          "output_type": "execute_result",
          "data": {
            "text/plain": [
              "140"
            ]
          },
          "metadata": {
            "tags": []
          },
          "execution_count": 427
        }
      ]
    },
    {
      "cell_type": "code",
      "metadata": {
        "id": "47fgXuW2uCUF",
        "colab_type": "code",
        "colab": {
          "base_uri": "https://localhost:8080/",
          "height": 450
        },
        "outputId": "7455fb47-fa9b-451b-d000-3239d547809a"
      },
      "source": [
        "train_d = la_ts_death.iloc[:x]\n",
        "test_d = la_ts_death.iloc[x:]\n",
        "train_d"
      ],
      "execution_count": 428,
      "outputs": [
        {
          "output_type": "execute_result",
          "data": {
            "text/html": [
              "<div>\n",
              "<style scoped>\n",
              "    .dataframe tbody tr th:only-of-type {\n",
              "        vertical-align: middle;\n",
              "    }\n",
              "\n",
              "    .dataframe tbody tr th {\n",
              "        vertical-align: top;\n",
              "    }\n",
              "\n",
              "    .dataframe thead th {\n",
              "        text-align: right;\n",
              "    }\n",
              "</style>\n",
              "<table border=\"1\" class=\"dataframe\">\n",
              "  <thead>\n",
              "    <tr style=\"text-align: right;\">\n",
              "      <th></th>\n",
              "      <th>totalcountdeaths</th>\n",
              "    </tr>\n",
              "    <tr>\n",
              "      <th>new_date</th>\n",
              "      <th></th>\n",
              "    </tr>\n",
              "  </thead>\n",
              "  <tbody>\n",
              "    <tr>\n",
              "      <th>2020-03-25</th>\n",
              "      <td>10.0</td>\n",
              "    </tr>\n",
              "    <tr>\n",
              "      <th>2020-03-26</th>\n",
              "      <td>18.0</td>\n",
              "    </tr>\n",
              "    <tr>\n",
              "      <th>2020-03-27</th>\n",
              "      <td>26.0</td>\n",
              "    </tr>\n",
              "    <tr>\n",
              "      <th>2020-03-28</th>\n",
              "      <td>32.0</td>\n",
              "    </tr>\n",
              "    <tr>\n",
              "      <th>2020-03-29</th>\n",
              "      <td>37.0</td>\n",
              "    </tr>\n",
              "    <tr>\n",
              "      <th>...</th>\n",
              "      <td>...</td>\n",
              "    </tr>\n",
              "    <tr>\n",
              "      <th>2020-08-07</th>\n",
              "      <td>4918.0</td>\n",
              "    </tr>\n",
              "    <tr>\n",
              "      <th>2020-08-08</th>\n",
              "      <td>4967.0</td>\n",
              "    </tr>\n",
              "    <tr>\n",
              "      <th>2020-08-09</th>\n",
              "      <td>4977.0</td>\n",
              "    </tr>\n",
              "    <tr>\n",
              "      <th>2020-08-10</th>\n",
              "      <td>4996.0</td>\n",
              "    </tr>\n",
              "    <tr>\n",
              "      <th>2020-08-11</th>\n",
              "      <td>5057.0</td>\n",
              "    </tr>\n",
              "  </tbody>\n",
              "</table>\n",
              "<p>140 rows × 1 columns</p>\n",
              "</div>"
            ],
            "text/plain": [
              "            totalcountdeaths\n",
              "new_date                    \n",
              "2020-03-25              10.0\n",
              "2020-03-26              18.0\n",
              "2020-03-27              26.0\n",
              "2020-03-28              32.0\n",
              "2020-03-29              37.0\n",
              "...                      ...\n",
              "2020-08-07            4918.0\n",
              "2020-08-08            4967.0\n",
              "2020-08-09            4977.0\n",
              "2020-08-10            4996.0\n",
              "2020-08-11            5057.0\n",
              "\n",
              "[140 rows x 1 columns]"
            ]
          },
          "metadata": {
            "tags": []
          },
          "execution_count": 428
        }
      ]
    },
    {
      "cell_type": "code",
      "metadata": {
        "id": "b5JVmAB-uKUn",
        "colab_type": "code",
        "colab": {
          "base_uri": "https://localhost:8080/",
          "height": 102
        },
        "outputId": "ffc8c58d-a021-48b9-e5c0-ca7ba416724c"
      },
      "source": [
        "scaler_d = MinMaxScaler()\n",
        "scaler_d.fit(train_d)\n",
        "scaled_train = scaler_d.transform(train_d)\n",
        "scaled_test = scaler_d.transform(test_d)\n",
        "print(scaled_train[-5:])"
      ],
      "execution_count": 429,
      "outputs": [
        {
          "output_type": "stream",
          "text": [
            "[[0.97245889]\n",
            " [0.98216762]\n",
            " [0.984149  ]\n",
            " [0.98791361]\n",
            " [1.        ]]\n"
          ],
          "name": "stdout"
        }
      ]
    },
    {
      "cell_type": "code",
      "metadata": {
        "id": "VLRcmgw3uYoc",
        "colab_type": "code",
        "colab": {
          "base_uri": "https://localhost:8080/",
          "height": 102
        },
        "outputId": "77cad5e1-19f2-4c2b-e098-348dc87a2262"
      },
      "source": [
        "scaled_test"
      ],
      "execution_count": 430,
      "outputs": [
        {
          "output_type": "execute_result",
          "data": {
            "text/plain": [
              "array([[1.01030315],\n",
              "       [1.02258768],\n",
              "       [1.03110759],\n",
              "       [1.03724985],\n",
              "       [1.03903309]])"
            ]
          },
          "metadata": {
            "tags": []
          },
          "execution_count": 430
        }
      ]
    },
    {
      "cell_type": "code",
      "metadata": {
        "id": "k_NL6XQGu5I7",
        "colab_type": "code",
        "colab": {}
      },
      "source": [
        "## how to decide num of inputs , \n",
        "n_input = 5  ## number of steps\n",
        "n_features = 1 ## number of features you want to predict (for univariate time series n_features=1)\n",
        "generator = TimeseriesGenerator(data = scaled_train, targets = scaled_train, length = n_input, batch_size=1)"
      ],
      "execution_count": 431,
      "outputs": []
    },
    {
      "cell_type": "code",
      "metadata": {
        "id": "Ts-0gHdiu-Pm",
        "colab_type": "code",
        "colab": {
          "base_uri": "https://localhost:8080/",
          "height": 102
        },
        "outputId": "09581c64-2d95-42ba-bd0b-1c344de4a1b0"
      },
      "source": [
        "generator[-6]"
      ],
      "execution_count": 432,
      "outputs": [
        {
          "output_type": "execute_result",
          "data": {
            "text/plain": [
              "(array([[[0.96275015],\n",
              "         [0.97245889],\n",
              "         [0.98216762],\n",
              "         [0.984149  ],\n",
              "         [0.98791361]]]), array([[1.]]))"
            ]
          },
          "metadata": {
            "tags": []
          },
          "execution_count": 432
        }
      ]
    },
    {
      "cell_type": "markdown",
      "metadata": {
        "id": "OsMxY9UdvCo0",
        "colab_type": "text"
      },
      "source": [
        "### Model Building"
      ]
    },
    {
      "cell_type": "code",
      "metadata": {
        "id": "_qeCZdRavCAc",
        "colab_type": "code",
        "colab": {}
      },
      "source": [
        "model_t = Sequential()\n",
        "model_t.add(LSTM(180,activation=\"relu\",input_shape=(n_input,n_features)))\n",
        "model_t.add(Dropout(0.3))\n",
        "model_t.add(Dense(60, activation='relu'))\n",
        "model_t.add(Dense(units=1))\n",
        "model_t.compile(optimizer=\"adam\",loss=\"mse\")"
      ],
      "execution_count": 433,
      "outputs": []
    },
    {
      "cell_type": "code",
      "metadata": {
        "id": "mUP56J5KvRps",
        "colab_type": "code",
        "colab": {
          "base_uri": "https://localhost:8080/",
          "height": 119
        },
        "outputId": "5445aa74-4e44-40d7-9835-c5bcfaf64c42"
      },
      "source": [
        "validation_set = np.append(scaled_train[-1],scaled_test)\n",
        "validation_set=validation_set.reshape(6,1)\n",
        "validation_set"
      ],
      "execution_count": 434,
      "outputs": [
        {
          "output_type": "execute_result",
          "data": {
            "text/plain": [
              "array([[1.        ],\n",
              "       [1.01030315],\n",
              "       [1.02258768],\n",
              "       [1.03110759],\n",
              "       [1.03724985],\n",
              "       [1.03903309]])"
            ]
          },
          "metadata": {
            "tags": []
          },
          "execution_count": 434
        }
      ]
    },
    {
      "cell_type": "code",
      "metadata": {
        "id": "OPdSMLR4vbPX",
        "colab_type": "code",
        "colab": {}
      },
      "source": [
        "validation_gen = TimeseriesGenerator(validation_set, validation_set, length=n_input, batch_size=1)"
      ],
      "execution_count": 435,
      "outputs": []
    },
    {
      "cell_type": "code",
      "metadata": {
        "id": "S-hiZsWNvjrF",
        "colab_type": "code",
        "colab": {
          "base_uri": "https://localhost:8080/",
          "height": 884
        },
        "outputId": "b48004b1-2ef1-4da1-d380-b9777bc283e0"
      },
      "source": [
        "model_t.fit_generator(generator, validation_data=validation_gen, epochs=100, callbacks=[early_stop], steps_per_epoch=10)"
      ],
      "execution_count": 436,
      "outputs": [
        {
          "output_type": "stream",
          "text": [
            "Epoch 1/100\n",
            "10/10 [==============================] - 0s 24ms/step - loss: 0.1532 - val_loss: 0.5394\n",
            "Epoch 2/100\n",
            "10/10 [==============================] - 0s 6ms/step - loss: 0.1053 - val_loss: 0.1447\n",
            "Epoch 3/100\n",
            "10/10 [==============================] - 0s 7ms/step - loss: 0.0146 - val_loss: 0.0054\n",
            "Epoch 4/100\n",
            "10/10 [==============================] - 0s 6ms/step - loss: 0.0132 - val_loss: 0.0092\n",
            "Epoch 5/100\n",
            "10/10 [==============================] - 0s 6ms/step - loss: 0.0176 - val_loss: 3.9633e-06\n",
            "Epoch 6/100\n",
            "10/10 [==============================] - 0s 6ms/step - loss: 0.0065 - val_loss: 0.0014\n",
            "Epoch 7/100\n",
            "10/10 [==============================] - 0s 7ms/step - loss: 0.0034 - val_loss: 0.0051\n",
            "Epoch 8/100\n",
            "10/10 [==============================] - 0s 7ms/step - loss: 0.0028 - val_loss: 0.0119\n",
            "Epoch 9/100\n",
            "10/10 [==============================] - 0s 7ms/step - loss: 0.0054 - val_loss: 0.0033\n",
            "Epoch 10/100\n",
            "10/10 [==============================] - 0s 6ms/step - loss: 0.0046 - val_loss: 0.0084\n",
            "Epoch 11/100\n",
            "10/10 [==============================] - 0s 7ms/step - loss: 0.0030 - val_loss: 0.0059\n",
            "Epoch 12/100\n",
            "10/10 [==============================] - 0s 6ms/step - loss: 0.0034 - val_loss: 1.9862e-05\n",
            "Epoch 13/100\n",
            "10/10 [==============================] - 0s 7ms/step - loss: 0.0020 - val_loss: 0.0046\n",
            "Epoch 14/100\n",
            "10/10 [==============================] - 0s 7ms/step - loss: 0.0018 - val_loss: 6.7339e-04\n",
            "Epoch 15/100\n",
            "10/10 [==============================] - 0s 7ms/step - loss: 0.0018 - val_loss: 4.6783e-04\n",
            "Epoch 16/100\n",
            "10/10 [==============================] - 0s 7ms/step - loss: 0.0018 - val_loss: 0.0160\n",
            "Epoch 17/100\n",
            "10/10 [==============================] - 0s 7ms/step - loss: 0.0156 - val_loss: 0.0196\n",
            "Epoch 18/100\n",
            "10/10 [==============================] - 0s 7ms/step - loss: 0.0045 - val_loss: 0.0031\n",
            "Epoch 19/100\n",
            "10/10 [==============================] - 0s 7ms/step - loss: 0.0034 - val_loss: 1.4104e-05\n",
            "Epoch 20/100\n",
            "10/10 [==============================] - 0s 7ms/step - loss: 0.0030 - val_loss: 0.0063\n",
            "Epoch 21/100\n",
            "10/10 [==============================] - 0s 9ms/step - loss: 0.0017 - val_loss: 3.3672e-04\n",
            "Epoch 22/100\n",
            "10/10 [==============================] - 0s 7ms/step - loss: 0.0017 - val_loss: 1.5018e-04\n",
            "Epoch 23/100\n",
            "10/10 [==============================] - 0s 6ms/step - loss: 0.0025 - val_loss: 0.0159\n",
            "Epoch 24/100\n",
            "10/10 [==============================] - 0s 6ms/step - loss: 0.0030 - val_loss: 0.0049\n",
            "Epoch 25/100\n",
            "10/10 [==============================] - 0s 7ms/step - loss: 0.0027 - val_loss: 6.3598e-04\n"
          ],
          "name": "stdout"
        },
        {
          "output_type": "execute_result",
          "data": {
            "text/plain": [
              "<tensorflow.python.keras.callbacks.History at 0x7fecbb11cac8>"
            ]
          },
          "metadata": {
            "tags": []
          },
          "execution_count": 436
        }
      ]
    },
    {
      "cell_type": "code",
      "metadata": {
        "id": "adlvSsO1wEWt",
        "colab_type": "code",
        "colab": {
          "base_uri": "https://localhost:8080/",
          "height": 298
        },
        "outputId": "d7469683-cb01-4c9f-fc7f-d6ee351366be"
      },
      "source": [
        "pd.DataFrame(model_t.history.history).plot(title=\"loss vs epochs curve\")"
      ],
      "execution_count": 437,
      "outputs": [
        {
          "output_type": "execute_result",
          "data": {
            "text/plain": [
              "<matplotlib.axes._subplots.AxesSubplot at 0x7fecbae64a20>"
            ]
          },
          "metadata": {
            "tags": []
          },
          "execution_count": 437
        },
        {
          "output_type": "display_data",
          "data": {
            "image/png": "[encoded data removed]",
            "text/plain": [
              "<Figure size 432x288 with 1 Axes>"
            ]
          },
          "metadata": {
            "tags": [],
            "needs_background": "light"
          }
        }
      ]
    },
    {
      "cell_type": "markdown",
      "metadata": {
        "id": "E80G1yoRwQFw",
        "colab_type": "text"
      },
      "source": [
        "### Forecasting"
      ]
    },
    {
      "cell_type": "code",
      "metadata": {
        "id": "OhfaR0UewLxd",
        "colab_type": "code",
        "colab": {}
      },
      "source": [
        "## holding predictions\n",
        "test_pred_death = []\n",
        "\n",
        "##last n points from training set\n",
        "first_eval_batch = scaled_train[-n_input:]\n",
        "current_batch = first_eval_batch.reshape(1,n_input,n_features)"
      ],
      "execution_count": 438,
      "outputs": []
    },
    {
      "cell_type": "code",
      "metadata": {
        "id": "EmZKWME4wYN_",
        "colab_type": "code",
        "colab": {}
      },
      "source": [
        "## how far in future we can predict\n",
        "for i in range(len(test_d)+7):\n",
        "    current_pred = model_t.predict(current_batch)[0]\n",
        "    test_pred_death.append(current_pred)\n",
        "    current_batch = np.append(current_batch[:,1:,:],[[current_pred]],axis=1)"
      ],
      "execution_count": 439,
      "outputs": []
    },
    {
      "cell_type": "code",
      "metadata": {
        "id": "ONYIjDZawf7h",
        "colab_type": "code",
        "colab": {
          "base_uri": "https://localhost:8080/",
          "height": 68
        },
        "outputId": "f3cb67b3-a582-4035-d109-1e843a89fe4f"
      },
      "source": [
        "### inverse scaled data\n",
        "true_pred_death = scaler_d.inverse_transform(test_pred_death)\n",
        "true_pred_death[:,0]"
      ],
      "execution_count": 440,
      "outputs": [
        {
          "output_type": "execute_result",
          "data": {
            "text/plain": [
              "array([5101.23686528, 5134.84619761, 5165.84858358, 5200.97467375,\n",
              "       5239.05125201, 5272.82423294, 5304.73932087, 5336.42698538,\n",
              "       5368.29935622, 5399.58632231, 5429.63509417, 5459.03769469])"
            ]
          },
          "metadata": {
            "tags": []
          },
          "execution_count": 440
        }
      ]
    },
    {
      "cell_type": "code",
      "metadata": {
        "id": "H8q-mFEphOT4",
        "colab_type": "code",
        "colab": {
          "base_uri": "https://localhost:8080/",
          "height": 34
        },
        "outputId": "be5b9e72-8f75-4c72-a7f0-646f5127b613"
      },
      "source": [
        "test_d['totalcountdeaths'].values"
      ],
      "execution_count": 441,
      "outputs": [
        {
          "output_type": "execute_result",
          "data": {
            "text/plain": [
              "array([5109., 5171., 5214., 5245., 5254.])"
            ]
          },
          "metadata": {
            "tags": []
          },
          "execution_count": 441
        }
      ]
    },
    {
      "cell_type": "code",
      "metadata": {
        "id": "fOPS6P-bxJKK",
        "colab_type": "code",
        "colab": {
          "base_uri": "https://localhost:8080/",
          "height": 268
        },
        "outputId": "8b005682-46eb-4a64-d6a5-44ca8e0f5e09"
      },
      "source": [
        "plt.plot(true_pred_death[:,0])\n",
        "plt.plot(test_d['totalcountdeaths'].values)\n",
        "plt.xticks(rotation = 90)\n",
        "plt.show()"
      ],
      "execution_count": 442,
      "outputs": [
        {
          "output_type": "display_data",
          "data": {
            "image/png": "[encoded data removed]",
            "text/plain": [
              "<Figure size 432x288 with 1 Axes>"
            ]
          },
          "metadata": {
            "tags": [],
            "needs_background": "light"
          }
        }
      ]
    },
    {
      "cell_type": "markdown",
      "metadata": {
        "id": "B5PmdXqSz7bE",
        "colab_type": "text"
      },
      "source": [
        "## Generate Predicted Data"
      ]
    },
    {
      "cell_type": "code",
      "metadata": {
        "id": "n_9Mr9bqx9hY",
        "colab_type": "code",
        "colab": {}
      },
      "source": [
        "df_forecast.loc[:,\"death_predicted\"] = true_pred_death[:,0]\n",
        "df_forecast.loc[:,\"death\"] = test_d['totalcountdeaths']"
      ],
      "execution_count": 443,
      "outputs": []
    },
    {
      "cell_type": "code",
      "metadata": {
        "id": "n1TuEi6y1WS9",
        "colab_type": "code",
        "colab": {
          "base_uri": "https://localhost:8080/",
          "height": 452
        },
        "outputId": "56519fcf-97b8-4c1f-ecca-a80085e00865"
      },
      "source": [
        "df_forecast"
      ],
      "execution_count": 444,
      "outputs": [
        {
          "output_type": "execute_result",
          "data": {
            "text/html": [
              "<div>\n",
              "<style scoped>\n",
              "    .dataframe tbody tr th:only-of-type {\n",
              "        vertical-align: middle;\n",
              "    }\n",
              "\n",
              "    .dataframe tbody tr th {\n",
              "        vertical-align: top;\n",
              "    }\n",
              "\n",
              "    .dataframe thead th {\n",
              "        text-align: right;\n",
              "    }\n",
              "</style>\n",
              "<table border=\"1\" class=\"dataframe\">\n",
              "  <thead>\n",
              "    <tr style=\"text-align: right;\">\n",
              "      <th></th>\n",
              "      <th>confirmed</th>\n",
              "      <th>confirmed_predicted</th>\n",
              "      <th>confirmed_high</th>\n",
              "      <th>confirmed_low</th>\n",
              "      <th>death_predicted</th>\n",
              "      <th>death</th>\n",
              "    </tr>\n",
              "    <tr>\n",
              "      <th>new_date</th>\n",
              "      <th></th>\n",
              "      <th></th>\n",
              "      <th></th>\n",
              "      <th></th>\n",
              "      <th></th>\n",
              "      <th></th>\n",
              "    </tr>\n",
              "  </thead>\n",
              "  <tbody>\n",
              "    <tr>\n",
              "      <th>2020-08-12</th>\n",
              "      <td>214542.0</td>\n",
              "      <td>214665.0</td>\n",
              "      <td>228277.0</td>\n",
              "      <td>201053.0</td>\n",
              "      <td>5101.236865</td>\n",
              "      <td>5109.0</td>\n",
              "    </tr>\n",
              "    <tr>\n",
              "      <th>2020-08-13</th>\n",
              "      <td>216497.0</td>\n",
              "      <td>216701.0</td>\n",
              "      <td>230313.0</td>\n",
              "      <td>203089.0</td>\n",
              "      <td>5134.846198</td>\n",
              "      <td>5171.0</td>\n",
              "    </tr>\n",
              "    <tr>\n",
              "      <th>2020-08-14</th>\n",
              "      <td>219083.0</td>\n",
              "      <td>218658.0</td>\n",
              "      <td>232270.0</td>\n",
              "      <td>205046.0</td>\n",
              "      <td>5165.848584</td>\n",
              "      <td>5214.0</td>\n",
              "    </tr>\n",
              "    <tr>\n",
              "      <th>2020-08-15</th>\n",
              "      <td>221043.0</td>\n",
              "      <td>220637.0</td>\n",
              "      <td>234249.0</td>\n",
              "      <td>207025.0</td>\n",
              "      <td>5200.974674</td>\n",
              "      <td>5245.0</td>\n",
              "    </tr>\n",
              "    <tr>\n",
              "      <th>2020-08-16</th>\n",
              "      <td>222236.0</td>\n",
              "      <td>222577.0</td>\n",
              "      <td>236189.0</td>\n",
              "      <td>208965.0</td>\n",
              "      <td>5239.051252</td>\n",
              "      <td>5254.0</td>\n",
              "    </tr>\n",
              "    <tr>\n",
              "      <th>2020-08-17</th>\n",
              "      <td>NaN</td>\n",
              "      <td>224623.0</td>\n",
              "      <td>238235.0</td>\n",
              "      <td>211011.0</td>\n",
              "      <td>5272.824233</td>\n",
              "      <td>NaN</td>\n",
              "    </tr>\n",
              "    <tr>\n",
              "      <th>2020-08-18</th>\n",
              "      <td>NaN</td>\n",
              "      <td>226636.0</td>\n",
              "      <td>240248.0</td>\n",
              "      <td>213024.0</td>\n",
              "      <td>5304.739321</td>\n",
              "      <td>NaN</td>\n",
              "    </tr>\n",
              "    <tr>\n",
              "      <th>2020-08-19</th>\n",
              "      <td>NaN</td>\n",
              "      <td>228648.0</td>\n",
              "      <td>242260.0</td>\n",
              "      <td>215036.0</td>\n",
              "      <td>5336.426985</td>\n",
              "      <td>NaN</td>\n",
              "    </tr>\n",
              "    <tr>\n",
              "      <th>2020-08-20</th>\n",
              "      <td>NaN</td>\n",
              "      <td>230672.0</td>\n",
              "      <td>244284.0</td>\n",
              "      <td>217060.0</td>\n",
              "      <td>5368.299356</td>\n",
              "      <td>NaN</td>\n",
              "    </tr>\n",
              "    <tr>\n",
              "      <th>2020-08-21</th>\n",
              "      <td>NaN</td>\n",
              "      <td>232712.0</td>\n",
              "      <td>246324.0</td>\n",
              "      <td>219100.0</td>\n",
              "      <td>5399.586322</td>\n",
              "      <td>NaN</td>\n",
              "    </tr>\n",
              "    <tr>\n",
              "      <th>2020-08-22</th>\n",
              "      <td>NaN</td>\n",
              "      <td>234773.0</td>\n",
              "      <td>248385.0</td>\n",
              "      <td>221161.0</td>\n",
              "      <td>5429.635094</td>\n",
              "      <td>NaN</td>\n",
              "    </tr>\n",
              "    <tr>\n",
              "      <th>2020-08-23</th>\n",
              "      <td>NaN</td>\n",
              "      <td>236841.0</td>\n",
              "      <td>250453.0</td>\n",
              "      <td>223229.0</td>\n",
              "      <td>5459.037695</td>\n",
              "      <td>NaN</td>\n",
              "    </tr>\n",
              "  </tbody>\n",
              "</table>\n",
              "</div>"
            ],
            "text/plain": [
              "            confirmed  confirmed_predicted  ...  death_predicted   death\n",
              "new_date                                    ...                         \n",
              "2020-08-12   214542.0             214665.0  ...      5101.236865  5109.0\n",
              "2020-08-13   216497.0             216701.0  ...      5134.846198  5171.0\n",
              "2020-08-14   219083.0             218658.0  ...      5165.848584  5214.0\n",
              "2020-08-15   221043.0             220637.0  ...      5200.974674  5245.0\n",
              "2020-08-16   222236.0             222577.0  ...      5239.051252  5254.0\n",
              "2020-08-17        NaN             224623.0  ...      5272.824233     NaN\n",
              "2020-08-18        NaN             226636.0  ...      5304.739321     NaN\n",
              "2020-08-19        NaN             228648.0  ...      5336.426985     NaN\n",
              "2020-08-20        NaN             230672.0  ...      5368.299356     NaN\n",
              "2020-08-21        NaN             232712.0  ...      5399.586322     NaN\n",
              "2020-08-22        NaN             234773.0  ...      5429.635094     NaN\n",
              "2020-08-23        NaN             236841.0  ...      5459.037695     NaN\n",
              "\n",
              "[12 rows x 6 columns]"
            ]
          },
          "metadata": {
            "tags": []
          },
          "execution_count": 444
        }
      ]
    },
    {
      "cell_type": "code",
      "metadata": {
        "id": "wJuoX1Lx1iCu",
        "colab_type": "code",
        "colab": {}
      },
      "source": [
        "df_forecast['confirmed_predicted'] = round(df_forecast['confirmed_predicted'],0)\n",
        "df_forecast['death_predicted'] = round(df_forecast['death_predicted'],0)"
      ],
      "execution_count": 445,
      "outputs": []
    },
    {
      "cell_type": "code",
      "metadata": {
        "id": "AZ4A-1Ww1lRl",
        "colab_type": "code",
        "colab": {}
      },
      "source": [
        "stdev_c = np.std(df_forecast['confirmed_predicted'])\n",
        "interval_c = stdev*1.96"
      ],
      "execution_count": 446,
      "outputs": []
    },
    {
      "cell_type": "code",
      "metadata": {
        "id": "si1E9IpI1r9-",
        "colab_type": "code",
        "colab": {}
      },
      "source": [
        "stdev_d = np.std(df_forecast['death_predicted'])\n",
        "interval_d = stdev_d*1.96"
      ],
      "execution_count": 447,
      "outputs": []
    },
    {
      "cell_type": "code",
      "metadata": {
        "id": "V2pHnrU91u_r",
        "colab_type": "code",
        "colab": {
          "base_uri": "https://localhost:8080/",
          "height": 452
        },
        "outputId": "3dada534-fab3-449f-d879-e7c903cd57c4"
      },
      "source": [
        "df_forecast['confirmed_high'] = round(df_forecast['confirmed_predicted'] + interval_c,0)\n",
        "df_forecast['confirmed_low'] = round(df_forecast['confirmed_predicted'] - interval_c,0)\n",
        "df_forecast['death_high'] = round(df_forecast['death_predicted'] + interval_d,0)\n",
        "df_forecast['death_low'] = round(df_forecast['death_predicted'] - interval_d,0)\n",
        "df_forecast"
      ],
      "execution_count": 448,
      "outputs": [
        {
          "output_type": "execute_result",
          "data": {
            "text/html": [
              "<div>\n",
              "<style scoped>\n",
              "    .dataframe tbody tr th:only-of-type {\n",
              "        vertical-align: middle;\n",
              "    }\n",
              "\n",
              "    .dataframe tbody tr th {\n",
              "        vertical-align: top;\n",
              "    }\n",
              "\n",
              "    .dataframe thead th {\n",
              "        text-align: right;\n",
              "    }\n",
              "</style>\n",
              "<table border=\"1\" class=\"dataframe\">\n",
              "  <thead>\n",
              "    <tr style=\"text-align: right;\">\n",
              "      <th></th>\n",
              "      <th>confirmed</th>\n",
              "      <th>confirmed_predicted</th>\n",
              "      <th>confirmed_high</th>\n",
              "      <th>confirmed_low</th>\n",
              "      <th>death_predicted</th>\n",
              "      <th>death</th>\n",
              "      <th>death_high</th>\n",
              "      <th>death_low</th>\n",
              "    </tr>\n",
              "    <tr>\n",
              "      <th>new_date</th>\n",
              "      <th></th>\n",
              "      <th></th>\n",
              "      <th></th>\n",
              "      <th></th>\n",
              "      <th></th>\n",
              "      <th></th>\n",
              "      <th></th>\n",
              "      <th></th>\n",
              "    </tr>\n",
              "  </thead>\n",
              "  <tbody>\n",
              "    <tr>\n",
              "      <th>2020-08-12</th>\n",
              "      <td>214542.0</td>\n",
              "      <td>214665.0</td>\n",
              "      <td>228277.0</td>\n",
              "      <td>201053.0</td>\n",
              "      <td>5101.0</td>\n",
              "      <td>5109.0</td>\n",
              "      <td>5323.0</td>\n",
              "      <td>4879.0</td>\n",
              "    </tr>\n",
              "    <tr>\n",
              "      <th>2020-08-13</th>\n",
              "      <td>216497.0</td>\n",
              "      <td>216701.0</td>\n",
              "      <td>230313.0</td>\n",
              "      <td>203089.0</td>\n",
              "      <td>5135.0</td>\n",
              "      <td>5171.0</td>\n",
              "      <td>5357.0</td>\n",
              "      <td>4913.0</td>\n",
              "    </tr>\n",
              "    <tr>\n",
              "      <th>2020-08-14</th>\n",
              "      <td>219083.0</td>\n",
              "      <td>218658.0</td>\n",
              "      <td>232270.0</td>\n",
              "      <td>205046.0</td>\n",
              "      <td>5166.0</td>\n",
              "      <td>5214.0</td>\n",
              "      <td>5388.0</td>\n",
              "      <td>4944.0</td>\n",
              "    </tr>\n",
              "    <tr>\n",
              "      <th>2020-08-15</th>\n",
              "      <td>221043.0</td>\n",
              "      <td>220637.0</td>\n",
              "      <td>234249.0</td>\n",
              "      <td>207025.0</td>\n",
              "      <td>5201.0</td>\n",
              "      <td>5245.0</td>\n",
              "      <td>5423.0</td>\n",
              "      <td>4979.0</td>\n",
              "    </tr>\n",
              "    <tr>\n",
              "      <th>2020-08-16</th>\n",
              "      <td>222236.0</td>\n",
              "      <td>222577.0</td>\n",
              "      <td>236189.0</td>\n",
              "      <td>208965.0</td>\n",
              "      <td>5239.0</td>\n",
              "      <td>5254.0</td>\n",
              "      <td>5461.0</td>\n",
              "      <td>5017.0</td>\n",
              "    </tr>\n",
              "    <tr>\n",
              "      <th>2020-08-17</th>\n",
              "      <td>NaN</td>\n",
              "      <td>224623.0</td>\n",
              "      <td>238235.0</td>\n",
              "      <td>211011.0</td>\n",
              "      <td>5273.0</td>\n",
              "      <td>NaN</td>\n",
              "      <td>5495.0</td>\n",
              "      <td>5051.0</td>\n",
              "    </tr>\n",
              "    <tr>\n",
              "      <th>2020-08-18</th>\n",
              "      <td>NaN</td>\n",
              "      <td>226636.0</td>\n",
              "      <td>240248.0</td>\n",
              "      <td>213024.0</td>\n",
              "      <td>5305.0</td>\n",
              "      <td>NaN</td>\n",
              "      <td>5527.0</td>\n",
              "      <td>5083.0</td>\n",
              "    </tr>\n",
              "    <tr>\n",
              "      <th>2020-08-19</th>\n",
              "      <td>NaN</td>\n",
              "      <td>228648.0</td>\n",
              "      <td>242260.0</td>\n",
              "      <td>215036.0</td>\n",
              "      <td>5336.0</td>\n",
              "      <td>NaN</td>\n",
              "      <td>5558.0</td>\n",
              "      <td>5114.0</td>\n",
              "    </tr>\n",
              "    <tr>\n",
              "      <th>2020-08-20</th>\n",
              "      <td>NaN</td>\n",
              "      <td>230672.0</td>\n",
              "      <td>244284.0</td>\n",
              "      <td>217060.0</td>\n",
              "      <td>5368.0</td>\n",
              "      <td>NaN</td>\n",
              "      <td>5590.0</td>\n",
              "      <td>5146.0</td>\n",
              "    </tr>\n",
              "    <tr>\n",
              "      <th>2020-08-21</th>\n",
              "      <td>NaN</td>\n",
              "      <td>232712.0</td>\n",
              "      <td>246324.0</td>\n",
              "      <td>219100.0</td>\n",
              "      <td>5400.0</td>\n",
              "      <td>NaN</td>\n",
              "      <td>5622.0</td>\n",
              "      <td>5178.0</td>\n",
              "    </tr>\n",
              "    <tr>\n",
              "      <th>2020-08-22</th>\n",
              "      <td>NaN</td>\n",
              "      <td>234773.0</td>\n",
              "      <td>248385.0</td>\n",
              "      <td>221161.0</td>\n",
              "      <td>5430.0</td>\n",
              "      <td>NaN</td>\n",
              "      <td>5652.0</td>\n",
              "      <td>5208.0</td>\n",
              "    </tr>\n",
              "    <tr>\n",
              "      <th>2020-08-23</th>\n",
              "      <td>NaN</td>\n",
              "      <td>236841.0</td>\n",
              "      <td>250453.0</td>\n",
              "      <td>223229.0</td>\n",
              "      <td>5459.0</td>\n",
              "      <td>NaN</td>\n",
              "      <td>5681.0</td>\n",
              "      <td>5237.0</td>\n",
              "    </tr>\n",
              "  </tbody>\n",
              "</table>\n",
              "</div>"
            ],
            "text/plain": [
              "            confirmed  confirmed_predicted  ...  death_high  death_low\n",
              "new_date                                    ...                       \n",
              "2020-08-12   214542.0             214665.0  ...      5323.0     4879.0\n",
              "2020-08-13   216497.0             216701.0  ...      5357.0     4913.0\n",
              "2020-08-14   219083.0             218658.0  ...      5388.0     4944.0\n",
              "2020-08-15   221043.0             220637.0  ...      5423.0     4979.0\n",
              "2020-08-16   222236.0             222577.0  ...      5461.0     5017.0\n",
              "2020-08-17        NaN             224623.0  ...      5495.0     5051.0\n",
              "2020-08-18        NaN             226636.0  ...      5527.0     5083.0\n",
              "2020-08-19        NaN             228648.0  ...      5558.0     5114.0\n",
              "2020-08-20        NaN             230672.0  ...      5590.0     5146.0\n",
              "2020-08-21        NaN             232712.0  ...      5622.0     5178.0\n",
              "2020-08-22        NaN             234773.0  ...      5652.0     5208.0\n",
              "2020-08-23        NaN             236841.0  ...      5681.0     5237.0\n",
              "\n",
              "[12 rows x 8 columns]"
            ]
          },
          "metadata": {
            "tags": []
          },
          "execution_count": 448
        }
      ]
    },
    {
      "cell_type": "code",
      "metadata": {
        "id": "ZDCaxoyZ2QoQ",
        "colab_type": "code",
        "colab": {}
      },
      "source": [
        "# extract the last 8 row because we would calculte the difference between the day and its previous day\n",
        "# therefore, we would get the 7 days (one week) differences \n",
        "predicted_data = df_forecast.iloc[-8:,[1,2,3,4,6,7]]"
      ],
      "execution_count": 449,
      "outputs": []
    },
    {
      "cell_type": "code",
      "metadata": {
        "id": "NWvrThfp3FAw",
        "colab_type": "code",
        "colab": {
          "base_uri": "https://localhost:8080/",
          "height": 328
        },
        "outputId": "da4a2496-1427-4b6b-b356-f1b8d72f5a38"
      },
      "source": [
        "predicted_data"
      ],
      "execution_count": 450,
      "outputs": [
        {
          "output_type": "execute_result",
          "data": {
            "text/html": [
              "<div>\n",
              "<style scoped>\n",
              "    .dataframe tbody tr th:only-of-type {\n",
              "        vertical-align: middle;\n",
              "    }\n",
              "\n",
              "    .dataframe tbody tr th {\n",
              "        vertical-align: top;\n",
              "    }\n",
              "\n",
              "    .dataframe thead th {\n",
              "        text-align: right;\n",
              "    }\n",
              "</style>\n",
              "<table border=\"1\" class=\"dataframe\">\n",
              "  <thead>\n",
              "    <tr style=\"text-align: right;\">\n",
              "      <th></th>\n",
              "      <th>confirmed_predicted</th>\n",
              "      <th>confirmed_high</th>\n",
              "      <th>confirmed_low</th>\n",
              "      <th>death_predicted</th>\n",
              "      <th>death_high</th>\n",
              "      <th>death_low</th>\n",
              "    </tr>\n",
              "    <tr>\n",
              "      <th>new_date</th>\n",
              "      <th></th>\n",
              "      <th></th>\n",
              "      <th></th>\n",
              "      <th></th>\n",
              "      <th></th>\n",
              "      <th></th>\n",
              "    </tr>\n",
              "  </thead>\n",
              "  <tbody>\n",
              "    <tr>\n",
              "      <th>2020-08-16</th>\n",
              "      <td>222577.0</td>\n",
              "      <td>236189.0</td>\n",
              "      <td>208965.0</td>\n",
              "      <td>5239.0</td>\n",
              "      <td>5461.0</td>\n",
              "      <td>5017.0</td>\n",
              "    </tr>\n",
              "    <tr>\n",
              "      <th>2020-08-17</th>\n",
              "      <td>224623.0</td>\n",
              "      <td>238235.0</td>\n",
              "      <td>211011.0</td>\n",
              "      <td>5273.0</td>\n",
              "      <td>5495.0</td>\n",
              "      <td>5051.0</td>\n",
              "    </tr>\n",
              "    <tr>\n",
              "      <th>2020-08-18</th>\n",
              "      <td>226636.0</td>\n",
              "      <td>240248.0</td>\n",
              "      <td>213024.0</td>\n",
              "      <td>5305.0</td>\n",
              "      <td>5527.0</td>\n",
              "      <td>5083.0</td>\n",
              "    </tr>\n",
              "    <tr>\n",
              "      <th>2020-08-19</th>\n",
              "      <td>228648.0</td>\n",
              "      <td>242260.0</td>\n",
              "      <td>215036.0</td>\n",
              "      <td>5336.0</td>\n",
              "      <td>5558.0</td>\n",
              "      <td>5114.0</td>\n",
              "    </tr>\n",
              "    <tr>\n",
              "      <th>2020-08-20</th>\n",
              "      <td>230672.0</td>\n",
              "      <td>244284.0</td>\n",
              "      <td>217060.0</td>\n",
              "      <td>5368.0</td>\n",
              "      <td>5590.0</td>\n",
              "      <td>5146.0</td>\n",
              "    </tr>\n",
              "    <tr>\n",
              "      <th>2020-08-21</th>\n",
              "      <td>232712.0</td>\n",
              "      <td>246324.0</td>\n",
              "      <td>219100.0</td>\n",
              "      <td>5400.0</td>\n",
              "      <td>5622.0</td>\n",
              "      <td>5178.0</td>\n",
              "    </tr>\n",
              "    <tr>\n",
              "      <th>2020-08-22</th>\n",
              "      <td>234773.0</td>\n",
              "      <td>248385.0</td>\n",
              "      <td>221161.0</td>\n",
              "      <td>5430.0</td>\n",
              "      <td>5652.0</td>\n",
              "      <td>5208.0</td>\n",
              "    </tr>\n",
              "    <tr>\n",
              "      <th>2020-08-23</th>\n",
              "      <td>236841.0</td>\n",
              "      <td>250453.0</td>\n",
              "      <td>223229.0</td>\n",
              "      <td>5459.0</td>\n",
              "      <td>5681.0</td>\n",
              "      <td>5237.0</td>\n",
              "    </tr>\n",
              "  </tbody>\n",
              "</table>\n",
              "</div>"
            ],
            "text/plain": [
              "            confirmed_predicted  confirmed_high  ...  death_high  death_low\n",
              "new_date                                         ...                       \n",
              "2020-08-16             222577.0        236189.0  ...      5461.0     5017.0\n",
              "2020-08-17             224623.0        238235.0  ...      5495.0     5051.0\n",
              "2020-08-18             226636.0        240248.0  ...      5527.0     5083.0\n",
              "2020-08-19             228648.0        242260.0  ...      5558.0     5114.0\n",
              "2020-08-20             230672.0        244284.0  ...      5590.0     5146.0\n",
              "2020-08-21             232712.0        246324.0  ...      5622.0     5178.0\n",
              "2020-08-22             234773.0        248385.0  ...      5652.0     5208.0\n",
              "2020-08-23             236841.0        250453.0  ...      5681.0     5237.0\n",
              "\n",
              "[8 rows x 6 columns]"
            ]
          },
          "metadata": {
            "tags": []
          },
          "execution_count": 450
        }
      ]
    },
    {
      "cell_type": "code",
      "metadata": {
        "id": "nzjaFPdU3Kam",
        "colab_type": "code",
        "colab": {}
      },
      "source": [
        "# predicted_data.to_csv('predicted_data.csv')"
      ],
      "execution_count": 451,
      "outputs": []
    },
    {
      "cell_type": "markdown",
      "metadata": {
        "id": "hOfKCooOigY0",
        "colab_type": "text"
      },
      "source": [
        "## Get Risk Score"
      ]
    },
    {
      "cell_type": "markdown",
      "metadata": {
        "id": "NONYUqBXlanq",
        "colab_type": "text"
      },
      "source": [
        "### import risk data"
      ]
    },
    {
      "cell_type": "code",
      "metadata": {
        "id": "9KzdHo-ek83u",
        "colab_type": "code",
        "colab": {}
      },
      "source": [
        "import pandas as pd\n",
        "import numpy as np\n",
        "from sklearn.preprocessing import MinMaxScaler"
      ],
      "execution_count": 452,
      "outputs": []
    },
    {
      "cell_type": "code",
      "metadata": {
        "id": "FHY27pqVYSJc",
        "colab_type": "code",
        "colab": {}
      },
      "source": [
        "risk = pd.read_csv('https://raw.githubusercontent.com/wujj0326/COVID_Risk_Competition/master/Data/risk_confirmed.csv')"
      ],
      "execution_count": 453,
      "outputs": []
    },
    {
      "cell_type": "code",
      "metadata": {
        "id": "fk39WCo6a66R",
        "colab_type": "code",
        "colab": {
          "base_uri": "https://localhost:8080/",
          "height": 204
        },
        "outputId": "cb370137-b4d3-46a9-9ee5-d3124cddc83f"
      },
      "source": [
        "risk.head()"
      ],
      "execution_count": 454,
      "outputs": [
        {
          "output_type": "execute_result",
          "data": {
            "text/html": [
              "<div>\n",
              "<style scoped>\n",
              "    .dataframe tbody tr th:only-of-type {\n",
              "        vertical-align: middle;\n",
              "    }\n",
              "\n",
              "    .dataframe tbody tr th {\n",
              "        vertical-align: top;\n",
              "    }\n",
              "\n",
              "    .dataframe thead th {\n",
              "        text-align: right;\n",
              "    }\n",
              "</style>\n",
              "<table border=\"1\" class=\"dataframe\">\n",
              "  <thead>\n",
              "    <tr style=\"text-align: right;\">\n",
              "      <th></th>\n",
              "      <th>City</th>\n",
              "      <th>confirmed_cases</th>\n",
              "      <th>death_cases</th>\n",
              "      <th>pop2010</th>\n",
              "      <th>avg_traffic</th>\n",
              "      <th>avg_asthma</th>\n",
              "      <th>avg_cardiovascular</th>\n",
              "      <th>avg_poverty</th>\n",
              "      <th>avg_elderly</th>\n",
              "      <th>pop_dens</th>\n",
              "    </tr>\n",
              "  </thead>\n",
              "  <tbody>\n",
              "    <tr>\n",
              "      <th>0</th>\n",
              "      <td>Acton</td>\n",
              "      <td>11</td>\n",
              "      <td>1</td>\n",
              "      <td>53654</td>\n",
              "      <td>1058.69</td>\n",
              "      <td>73.62</td>\n",
              "      <td>11.00</td>\n",
              "      <td>70.81</td>\n",
              "      <td>5.24</td>\n",
              "      <td>120974.0</td>\n",
              "    </tr>\n",
              "    <tr>\n",
              "      <th>1</th>\n",
              "      <td>Agoura Hills</td>\n",
              "      <td>35</td>\n",
              "      <td>1</td>\n",
              "      <td>60009</td>\n",
              "      <td>1023.45</td>\n",
              "      <td>77.60</td>\n",
              "      <td>10.95</td>\n",
              "      <td>72.49</td>\n",
              "      <td>5.45</td>\n",
              "      <td>177875.5</td>\n",
              "    </tr>\n",
              "    <tr>\n",
              "      <th>2</th>\n",
              "      <td>Alhambra</td>\n",
              "      <td>226</td>\n",
              "      <td>8</td>\n",
              "      <td>112060</td>\n",
              "      <td>1816.86</td>\n",
              "      <td>47.43</td>\n",
              "      <td>7.17</td>\n",
              "      <td>46.00</td>\n",
              "      <td>10.40</td>\n",
              "      <td>551582.0</td>\n",
              "    </tr>\n",
              "    <tr>\n",
              "      <th>3</th>\n",
              "      <td>Altadena</td>\n",
              "      <td>157</td>\n",
              "      <td>5</td>\n",
              "      <td>69531</td>\n",
              "      <td>1379.59</td>\n",
              "      <td>34.64</td>\n",
              "      <td>5.34</td>\n",
              "      <td>55.34</td>\n",
              "      <td>10.67</td>\n",
              "      <td>864902.9</td>\n",
              "    </tr>\n",
              "    <tr>\n",
              "      <th>4</th>\n",
              "      <td>Arcadia</td>\n",
              "      <td>104</td>\n",
              "      <td>7</td>\n",
              "      <td>70416</td>\n",
              "      <td>1305.56</td>\n",
              "      <td>49.61</td>\n",
              "      <td>6.12</td>\n",
              "      <td>73.43</td>\n",
              "      <td>8.78</td>\n",
              "      <td>755363.9</td>\n",
              "    </tr>\n",
              "  </tbody>\n",
              "</table>\n",
              "</div>"
            ],
            "text/plain": [
              "           City  confirmed_cases  ...  avg_elderly  pop_dens\n",
              "0         Acton               11  ...         5.24  120974.0\n",
              "1  Agoura Hills               35  ...         5.45  177875.5\n",
              "2      Alhambra              226  ...        10.40  551582.0\n",
              "3      Altadena              157  ...        10.67  864902.9\n",
              "4       Arcadia              104  ...         8.78  755363.9\n",
              "\n",
              "[5 rows x 10 columns]"
            ]
          },
          "metadata": {
            "tags": []
          },
          "execution_count": 454
        }
      ]
    },
    {
      "cell_type": "code",
      "metadata": {
        "id": "37ARkXndbAi3",
        "colab_type": "code",
        "colab": {}
      },
      "source": [
        "# normalize the scale by using minmaxscaler\n",
        "scale_risk = MinMaxScaler(feature_range=(0, 1))\n",
        "features = scale_risk.fit_transform(risk.iloc[:,3:-1])\n",
        "\n",
        "#  vulnerable factors related to death cases\n",
        "\n",
        "# •       elderly\n",
        "\n",
        "# •       asthma\n",
        "\n",
        "# •       cardiovascular\n",
        "\n",
        "#  vulnearble factors related to infected cases\n",
        "\n",
        "# •       poverty: the higher the value the poorer the area\n",
        "\n",
        "# •       traffic\n",
        "\n",
        "# •       population\n",
        "\n",
        "confirm_feat = np.sum(features[:,np.r_[0,1,4]],axis=1)\n",
        "death_feat = np.sum(features[:,np.r_[2,3,5]],axis=1)"
      ],
      "execution_count": 455,
      "outputs": []
    },
    {
      "cell_type": "code",
      "metadata": {
        "id": "bTzemSyPew_4",
        "colab_type": "code",
        "colab": {}
      },
      "source": [
        "# apply sigmoid function to confirm feature and death feature\n",
        "sig_confirmed = 1/(1 + np.exp(confirm_feat)) \n",
        "sig_death = 1/(1 + np.exp(death_feat)) "
      ],
      "execution_count": 456,
      "outputs": []
    },
    {
      "cell_type": "code",
      "metadata": {
        "id": "W272iqdUfO-7",
        "colab_type": "code",
        "colab": {}
      },
      "source": [
        "risk['confirmed_score'] = sig_confirmed\n",
        "risk['death_score'] = sig_death"
      ],
      "execution_count": 457,
      "outputs": []
    },
    {
      "cell_type": "code",
      "metadata": {
        "id": "6EPtgpXrO-zn",
        "colab_type": "code",
        "colab": {}
      },
      "source": [
        "risk_score = risk.iloc[:,np.r_[0,-2,-1]]"
      ],
      "execution_count": 458,
      "outputs": []
    },
    {
      "cell_type": "markdown",
      "metadata": {
        "id": "oluPMGX_lh3p",
        "colab_type": "text"
      },
      "source": [
        "### Get Hazard Score\n"
      ]
    },
    {
      "cell_type": "code",
      "metadata": {
        "colab_type": "code",
        "id": "JVCEcdITjWD_",
        "colab": {}
      },
      "source": [
        "prediction = predicted_data.loc[:, ['confirmed_predicted', 'death_predicted']]"
      ],
      "execution_count": 459,
      "outputs": []
    },
    {
      "cell_type": "code",
      "metadata": {
        "id": "wrGPXHBmGwfg",
        "colab_type": "code",
        "colab": {}
      },
      "source": [
        "prediction.loc[:,'positive_increase'] = prediction['confirmed_predicted'].diff()\n",
        "prediction.loc[:,'dead_increase'] = prediction['death_predicted'].diff()"
      ],
      "execution_count": 460,
      "outputs": []
    },
    {
      "cell_type": "code",
      "metadata": {
        "id": "sSxEkEBFZVIy",
        "colab_type": "code",
        "colab": {}
      },
      "source": [
        "prediction = prediction.iloc[1:,[2,3]].reset_index()"
      ],
      "execution_count": 461,
      "outputs": []
    },
    {
      "cell_type": "code",
      "metadata": {
        "id": "tpPGl8eHfAoP",
        "colab_type": "code",
        "colab": {}
      },
      "source": [
        "# normalize the hazard value\n",
        "def norm_hazard(alpha,data):\n",
        "  alpha = alpha\n",
        "  data['hazard'] = data['positive_increase']*alpha + data['dead_increase']*(1-alpha)\n",
        "  return data"
      ],
      "execution_count": 462,
      "outputs": []
    },
    {
      "cell_type": "code",
      "metadata": {
        "id": "5kvfrMhagWKj",
        "colab_type": "code",
        "colab": {}
      },
      "source": [
        "pred_haz = norm_hazard(0.012,prediction).loc[:,['new_date','hazard']]"
      ],
      "execution_count": 463,
      "outputs": []
    },
    {
      "cell_type": "code",
      "metadata": {
        "id": "tJ19yN1u6H2n",
        "colab_type": "code",
        "colab": {
          "base_uri": "https://localhost:8080/",
          "height": 266
        },
        "outputId": "0e148b47-200b-4dad-ee92-36d962e9c940"
      },
      "source": [
        "pred_haz"
      ],
      "execution_count": 464,
      "outputs": [
        {
          "output_type": "execute_result",
          "data": {
            "text/html": [
              "<div>\n",
              "<style scoped>\n",
              "    .dataframe tbody tr th:only-of-type {\n",
              "        vertical-align: middle;\n",
              "    }\n",
              "\n",
              "    .dataframe tbody tr th {\n",
              "        vertical-align: top;\n",
              "    }\n",
              "\n",
              "    .dataframe thead th {\n",
              "        text-align: right;\n",
              "    }\n",
              "</style>\n",
              "<table border=\"1\" class=\"dataframe\">\n",
              "  <thead>\n",
              "    <tr style=\"text-align: right;\">\n",
              "      <th></th>\n",
              "      <th>new_date</th>\n",
              "      <th>hazard</th>\n",
              "    </tr>\n",
              "  </thead>\n",
              "  <tbody>\n",
              "    <tr>\n",
              "      <th>0</th>\n",
              "      <td>2020-08-17</td>\n",
              "      <td>58.144</td>\n",
              "    </tr>\n",
              "    <tr>\n",
              "      <th>1</th>\n",
              "      <td>2020-08-18</td>\n",
              "      <td>55.772</td>\n",
              "    </tr>\n",
              "    <tr>\n",
              "      <th>2</th>\n",
              "      <td>2020-08-19</td>\n",
              "      <td>54.772</td>\n",
              "    </tr>\n",
              "    <tr>\n",
              "      <th>3</th>\n",
              "      <td>2020-08-20</td>\n",
              "      <td>55.904</td>\n",
              "    </tr>\n",
              "    <tr>\n",
              "      <th>4</th>\n",
              "      <td>2020-08-21</td>\n",
              "      <td>56.096</td>\n",
              "    </tr>\n",
              "    <tr>\n",
              "      <th>5</th>\n",
              "      <td>2020-08-22</td>\n",
              "      <td>54.372</td>\n",
              "    </tr>\n",
              "    <tr>\n",
              "      <th>6</th>\n",
              "      <td>2020-08-23</td>\n",
              "      <td>53.468</td>\n",
              "    </tr>\n",
              "  </tbody>\n",
              "</table>\n",
              "</div>"
            ],
            "text/plain": [
              "    new_date  hazard\n",
              "0 2020-08-17  58.144\n",
              "1 2020-08-18  55.772\n",
              "2 2020-08-19  54.772\n",
              "3 2020-08-20  55.904\n",
              "4 2020-08-21  56.096\n",
              "5 2020-08-22  54.372\n",
              "6 2020-08-23  53.468"
            ]
          },
          "metadata": {
            "tags": []
          },
          "execution_count": 464
        }
      ]
    },
    {
      "cell_type": "code",
      "metadata": {
        "id": "QNOjEDKmmJB_",
        "colab_type": "code",
        "colab": {
          "base_uri": "https://localhost:8080/",
          "height": 170
        },
        "outputId": "9697544a-a71a-4cc5-c49c-c5a4e1436d11"
      },
      "source": [
        "pred_haz.info()"
      ],
      "execution_count": 465,
      "outputs": [
        {
          "output_type": "stream",
          "text": [
            "<class 'pandas.core.frame.DataFrame'>\n",
            "RangeIndex: 7 entries, 0 to 6\n",
            "Data columns (total 2 columns):\n",
            " #   Column    Non-Null Count  Dtype         \n",
            "---  ------    --------------  -----         \n",
            " 0   new_date  7 non-null      datetime64[ns]\n",
            " 1   hazard    7 non-null      float64       \n",
            "dtypes: datetime64[ns](1), float64(1)\n",
            "memory usage: 240.0 bytes\n"
          ],
          "name": "stdout"
        }
      ]
    },
    {
      "cell_type": "code",
      "metadata": {
        "id": "7haitQI_mpBz",
        "colab_type": "code",
        "colab": {}
      },
      "source": [
        "pred_haz['new_date'] = pred_haz['new_date'].astype('str')"
      ],
      "execution_count": 466,
      "outputs": []
    },
    {
      "cell_type": "markdown",
      "metadata": {
        "id": "SzvcZHSFlrHS",
        "colab_type": "text"
      },
      "source": [
        "### Get Risk Score"
      ]
    },
    {
      "cell_type": "code",
      "metadata": {
        "id": "WV7EVu1XRIOy",
        "colab_type": "code",
        "colab": {}
      },
      "source": [
        "# To get the risk score for each date\n",
        "risk_score['{}'.format(pred_haz['new_date'][0])] = risk_score['confirmed_score']*pred_haz['hazard'][0]\n",
        "risk_score['{}'.format(pred_haz['new_date'][1])] = risk_score['confirmed_score']*pred_haz['hazard'][1]\n",
        "risk_score['{}'.format(pred_haz['new_date'][2])] = risk_score['confirmed_score']*pred_haz['hazard'][2]\n",
        "risk_score['{}'.format(pred_haz['new_date'][3])] = risk_score['confirmed_score']*pred_haz['hazard'][3]\n",
        "risk_score['{}'.format(pred_haz['new_date'][4])] = risk_score['confirmed_score']*pred_haz['hazard'][4]\n",
        "risk_score['{}'.format(pred_haz['new_date'][5])] = risk_score['confirmed_score']*pred_haz['hazard'][5]"
      ],
      "execution_count": null,
      "outputs": []
    },
    {
      "cell_type": "code",
      "metadata": {
        "id": "g_mL5NwHl4xE",
        "colab_type": "code",
        "colab": {
          "base_uri": "https://localhost:8080/",
          "height": 419
        },
        "outputId": "bd48914d-6a96-42bb-9260-080584fe2a87"
      },
      "source": [
        "risk_score"
      ],
      "execution_count": 468,
      "outputs": [
        {
          "output_type": "execute_result",
          "data": {
            "text/html": [
              "<div>\n",
              "<style scoped>\n",
              "    .dataframe tbody tr th:only-of-type {\n",
              "        vertical-align: middle;\n",
              "    }\n",
              "\n",
              "    .dataframe tbody tr th {\n",
              "        vertical-align: top;\n",
              "    }\n",
              "\n",
              "    .dataframe thead th {\n",
              "        text-align: right;\n",
              "    }\n",
              "</style>\n",
              "<table border=\"1\" class=\"dataframe\">\n",
              "  <thead>\n",
              "    <tr style=\"text-align: right;\">\n",
              "      <th></th>\n",
              "      <th>City</th>\n",
              "      <th>confirmed_score</th>\n",
              "      <th>death_score</th>\n",
              "      <th>2020-08-17</th>\n",
              "      <th>2020-08-18</th>\n",
              "      <th>2020-08-19</th>\n",
              "      <th>2020-08-20</th>\n",
              "      <th>2020-08-21</th>\n",
              "      <th>2020-08-22</th>\n",
              "    </tr>\n",
              "  </thead>\n",
              "  <tbody>\n",
              "    <tr>\n",
              "      <th>0</th>\n",
              "      <td>Acton</td>\n",
              "      <td>0.189272</td>\n",
              "      <td>0.220192</td>\n",
              "      <td>11.005058</td>\n",
              "      <td>10.556103</td>\n",
              "      <td>10.366831</td>\n",
              "      <td>10.581087</td>\n",
              "      <td>10.617428</td>\n",
              "      <td>10.291122</td>\n",
              "    </tr>\n",
              "    <tr>\n",
              "      <th>1</th>\n",
              "      <td>Agoura Hills</td>\n",
              "      <td>0.181774</td>\n",
              "      <td>0.213950</td>\n",
              "      <td>10.569079</td>\n",
              "      <td>10.137911</td>\n",
              "      <td>9.956137</td>\n",
              "      <td>10.161905</td>\n",
              "      <td>10.196806</td>\n",
              "      <td>9.883427</td>\n",
              "    </tr>\n",
              "    <tr>\n",
              "      <th>2</th>\n",
              "      <td>Alhambra</td>\n",
              "      <td>0.144250</td>\n",
              "      <td>0.270825</td>\n",
              "      <td>8.387270</td>\n",
              "      <td>8.045109</td>\n",
              "      <td>7.900859</td>\n",
              "      <td>8.064150</td>\n",
              "      <td>8.091846</td>\n",
              "      <td>7.843159</td>\n",
              "    </tr>\n",
              "    <tr>\n",
              "      <th>3</th>\n",
              "      <td>Altadena</td>\n",
              "      <td>0.187301</td>\n",
              "      <td>0.329177</td>\n",
              "      <td>10.890402</td>\n",
              "      <td>10.446125</td>\n",
              "      <td>10.258824</td>\n",
              "      <td>10.470848</td>\n",
              "      <td>10.506810</td>\n",
              "      <td>10.183904</td>\n",
              "    </tr>\n",
              "    <tr>\n",
              "      <th>4</th>\n",
              "      <td>Arcadia</td>\n",
              "      <td>0.155135</td>\n",
              "      <td>0.314134</td>\n",
              "      <td>9.020141</td>\n",
              "      <td>8.652162</td>\n",
              "      <td>8.497028</td>\n",
              "      <td>8.672640</td>\n",
              "      <td>8.702426</td>\n",
              "      <td>8.434974</td>\n",
              "    </tr>\n",
              "    <tr>\n",
              "      <th>...</th>\n",
              "      <td>...</td>\n",
              "      <td>...</td>\n",
              "      <td>...</td>\n",
              "      <td>...</td>\n",
              "      <td>...</td>\n",
              "      <td>...</td>\n",
              "      <td>...</td>\n",
              "      <td>...</td>\n",
              "      <td>...</td>\n",
              "    </tr>\n",
              "    <tr>\n",
              "      <th>85</th>\n",
              "      <td>Venice</td>\n",
              "      <td>0.341497</td>\n",
              "      <td>0.290481</td>\n",
              "      <td>19.856010</td>\n",
              "      <td>19.045979</td>\n",
              "      <td>18.704482</td>\n",
              "      <td>19.091057</td>\n",
              "      <td>19.156624</td>\n",
              "      <td>18.567883</td>\n",
              "    </tr>\n",
              "    <tr>\n",
              "      <th>86</th>\n",
              "      <td>West Hills</td>\n",
              "      <td>0.418424</td>\n",
              "      <td>0.205003</td>\n",
              "      <td>24.328820</td>\n",
              "      <td>23.336319</td>\n",
              "      <td>22.917895</td>\n",
              "      <td>23.391551</td>\n",
              "      <td>23.471888</td>\n",
              "      <td>22.750526</td>\n",
              "    </tr>\n",
              "    <tr>\n",
              "      <th>87</th>\n",
              "      <td>Wilmington</td>\n",
              "      <td>0.234219</td>\n",
              "      <td>0.206903</td>\n",
              "      <td>13.618446</td>\n",
              "      <td>13.062878</td>\n",
              "      <td>12.828658</td>\n",
              "      <td>13.093795</td>\n",
              "      <td>13.138765</td>\n",
              "      <td>12.734971</td>\n",
              "    </tr>\n",
              "    <tr>\n",
              "      <th>88</th>\n",
              "      <td>Winnetka</td>\n",
              "      <td>0.254805</td>\n",
              "      <td>0.189505</td>\n",
              "      <td>14.815370</td>\n",
              "      <td>14.210973</td>\n",
              "      <td>13.956168</td>\n",
              "      <td>14.244607</td>\n",
              "      <td>14.293529</td>\n",
              "      <td>13.854246</td>\n",
              "    </tr>\n",
              "    <tr>\n",
              "      <th>89</th>\n",
              "      <td>Woodland Hills</td>\n",
              "      <td>0.324499</td>\n",
              "      <td>0.212524</td>\n",
              "      <td>18.867654</td>\n",
              "      <td>18.097943</td>\n",
              "      <td>17.773444</td>\n",
              "      <td>18.140777</td>\n",
              "      <td>18.203081</td>\n",
              "      <td>17.643645</td>\n",
              "    </tr>\n",
              "  </tbody>\n",
              "</table>\n",
              "<p>90 rows × 9 columns</p>\n",
              "</div>"
            ],
            "text/plain": [
              "              City  confirmed_score  ...  2020-08-21  2020-08-22\n",
              "0            Acton         0.189272  ...   10.617428   10.291122\n",
              "1     Agoura Hills         0.181774  ...   10.196806    9.883427\n",
              "2         Alhambra         0.144250  ...    8.091846    7.843159\n",
              "3         Altadena         0.187301  ...   10.506810   10.183904\n",
              "4          Arcadia         0.155135  ...    8.702426    8.434974\n",
              "..             ...              ...  ...         ...         ...\n",
              "85          Venice         0.341497  ...   19.156624   18.567883\n",
              "86      West Hills         0.418424  ...   23.471888   22.750526\n",
              "87      Wilmington         0.234219  ...   13.138765   12.734971\n",
              "88        Winnetka         0.254805  ...   14.293529   13.854246\n",
              "89  Woodland Hills         0.324499  ...   18.203081   17.643645\n",
              "\n",
              "[90 rows x 9 columns]"
            ]
          },
          "metadata": {
            "tags": []
          },
          "execution_count": 468
        }
      ]
    },
    {
      "cell_type": "markdown",
      "metadata": {
        "id": "YWfvDTjYFf1r",
        "colab_type": "text"
      },
      "source": [
        "#### Weekly Risk Score and Level"
      ]
    },
    {
      "cell_type": "code",
      "metadata": {
        "id": "o2H1I27Qis0c",
        "colab_type": "code",
        "colab": {}
      },
      "source": [
        "# To get the weekly score for each city and store it to a DF\n",
        "risk_score['weekly_score'] = risk_score.iloc[:,3:].mean(axis=1)\n",
        "weekly_risk = risk_score.loc[:,['City','weekly_score']]"
      ],
      "execution_count": null,
      "outputs": []
    },
    {
      "cell_type": "code",
      "metadata": {
        "id": "fqsADCMk6YDD",
        "colab_type": "code",
        "colab": {
          "base_uri": "https://localhost:8080/",
          "height": 419
        },
        "outputId": "900eea2e-1fdf-458a-a35d-22e826460b39"
      },
      "source": [
        "weekly_risk"
      ],
      "execution_count": 470,
      "outputs": [
        {
          "output_type": "execute_result",
          "data": {
            "text/html": [
              "<div>\n",
              "<style scoped>\n",
              "    .dataframe tbody tr th:only-of-type {\n",
              "        vertical-align: middle;\n",
              "    }\n",
              "\n",
              "    .dataframe tbody tr th {\n",
              "        vertical-align: top;\n",
              "    }\n",
              "\n",
              "    .dataframe thead th {\n",
              "        text-align: right;\n",
              "    }\n",
              "</style>\n",
              "<table border=\"1\" class=\"dataframe\">\n",
              "  <thead>\n",
              "    <tr style=\"text-align: right;\">\n",
              "      <th></th>\n",
              "      <th>City</th>\n",
              "      <th>weekly_score</th>\n",
              "    </tr>\n",
              "  </thead>\n",
              "  <tbody>\n",
              "    <tr>\n",
              "      <th>0</th>\n",
              "      <td>Acton</td>\n",
              "      <td>10.569605</td>\n",
              "    </tr>\n",
              "    <tr>\n",
              "      <th>1</th>\n",
              "      <td>Agoura Hills</td>\n",
              "      <td>10.150877</td>\n",
              "    </tr>\n",
              "    <tr>\n",
              "      <th>2</th>\n",
              "      <td>Alhambra</td>\n",
              "      <td>8.055399</td>\n",
              "    </tr>\n",
              "    <tr>\n",
              "      <th>3</th>\n",
              "      <td>Altadena</td>\n",
              "      <td>10.459486</td>\n",
              "    </tr>\n",
              "    <tr>\n",
              "      <th>4</th>\n",
              "      <td>Arcadia</td>\n",
              "      <td>8.663229</td>\n",
              "    </tr>\n",
              "    <tr>\n",
              "      <th>...</th>\n",
              "      <td>...</td>\n",
              "      <td>...</td>\n",
              "    </tr>\n",
              "    <tr>\n",
              "      <th>85</th>\n",
              "      <td>Venice</td>\n",
              "      <td>19.070339</td>\n",
              "    </tr>\n",
              "    <tr>\n",
              "      <th>86</th>\n",
              "      <td>West Hills</td>\n",
              "      <td>23.366166</td>\n",
              "    </tr>\n",
              "    <tr>\n",
              "      <th>87</th>\n",
              "      <td>Wilmington</td>\n",
              "      <td>13.079585</td>\n",
              "    </tr>\n",
              "    <tr>\n",
              "      <th>88</th>\n",
              "      <td>Winnetka</td>\n",
              "      <td>14.229149</td>\n",
              "    </tr>\n",
              "    <tr>\n",
              "      <th>89</th>\n",
              "      <td>Woodland Hills</td>\n",
              "      <td>18.121091</td>\n",
              "    </tr>\n",
              "  </tbody>\n",
              "</table>\n",
              "<p>90 rows × 2 columns</p>\n",
              "</div>"
            ],
            "text/plain": [
              "              City  weekly_score\n",
              "0            Acton     10.569605\n",
              "1     Agoura Hills     10.150877\n",
              "2         Alhambra      8.055399\n",
              "3         Altadena     10.459486\n",
              "4          Arcadia      8.663229\n",
              "..             ...           ...\n",
              "85          Venice     19.070339\n",
              "86      West Hills     23.366166\n",
              "87      Wilmington     13.079585\n",
              "88        Winnetka     14.229149\n",
              "89  Woodland Hills     18.121091\n",
              "\n",
              "[90 rows x 2 columns]"
            ]
          },
          "metadata": {
            "tags": []
          },
          "execution_count": 470
        }
      ]
    },
    {
      "cell_type": "code",
      "metadata": {
        "id": "PAUUPZDAnV55",
        "colab_type": "code",
        "colab": {}
      },
      "source": [
        "# Get the weekly level\n",
        "weekly_level = []\n",
        "for risk in weekly_risk['weekly_score']:\n",
        "  if risk <= weekly_risk['weekly_score'].quantile(0.25):\n",
        "    b = 1\n",
        "  elif risk <= weekly_risk['weekly_score'].quantile(0.50) and risk >weekly_risk['weekly_score'].quantile(0.25):\n",
        "    b = 2 \n",
        "  elif risk <= weekly_risk['weekly_score'].quantile(0.75) and risk > weekly_risk['weekly_score'].quantile(0.50):\n",
        "    b = 3\n",
        "  else: b =4\n",
        "  weekly_level.append(b)"
      ],
      "execution_count": 471,
      "outputs": []
    },
    {
      "cell_type": "code",
      "metadata": {
        "id": "8FtCemdGo4UN",
        "colab_type": "code",
        "colab": {}
      },
      "source": [
        "weekly_risk['level'] = weekly_level"
      ],
      "execution_count": 472,
      "outputs": []
    },
    {
      "cell_type": "code",
      "metadata": {
        "id": "TCqdF6kw6bf5",
        "colab_type": "code",
        "colab": {
          "base_uri": "https://localhost:8080/",
          "height": 419
        },
        "outputId": "ceb8737e-9680-45f7-a411-68d5b7a4b332"
      },
      "source": [
        "weekly_risk"
      ],
      "execution_count": 473,
      "outputs": [
        {
          "output_type": "execute_result",
          "data": {
            "text/html": [
              "<div>\n",
              "<style scoped>\n",
              "    .dataframe tbody tr th:only-of-type {\n",
              "        vertical-align: middle;\n",
              "    }\n",
              "\n",
              "    .dataframe tbody tr th {\n",
              "        vertical-align: top;\n",
              "    }\n",
              "\n",
              "    .dataframe thead th {\n",
              "        text-align: right;\n",
              "    }\n",
              "</style>\n",
              "<table border=\"1\" class=\"dataframe\">\n",
              "  <thead>\n",
              "    <tr style=\"text-align: right;\">\n",
              "      <th></th>\n",
              "      <th>City</th>\n",
              "      <th>weekly_score</th>\n",
              "      <th>level</th>\n",
              "    </tr>\n",
              "  </thead>\n",
              "  <tbody>\n",
              "    <tr>\n",
              "      <th>0</th>\n",
              "      <td>Acton</td>\n",
              "      <td>10.569605</td>\n",
              "      <td>2</td>\n",
              "    </tr>\n",
              "    <tr>\n",
              "      <th>1</th>\n",
              "      <td>Agoura Hills</td>\n",
              "      <td>10.150877</td>\n",
              "      <td>1</td>\n",
              "    </tr>\n",
              "    <tr>\n",
              "      <th>2</th>\n",
              "      <td>Alhambra</td>\n",
              "      <td>8.055399</td>\n",
              "      <td>1</td>\n",
              "    </tr>\n",
              "    <tr>\n",
              "      <th>3</th>\n",
              "      <td>Altadena</td>\n",
              "      <td>10.459486</td>\n",
              "      <td>2</td>\n",
              "    </tr>\n",
              "    <tr>\n",
              "      <th>4</th>\n",
              "      <td>Arcadia</td>\n",
              "      <td>8.663229</td>\n",
              "      <td>1</td>\n",
              "    </tr>\n",
              "    <tr>\n",
              "      <th>...</th>\n",
              "      <td>...</td>\n",
              "      <td>...</td>\n",
              "      <td>...</td>\n",
              "    </tr>\n",
              "    <tr>\n",
              "      <th>85</th>\n",
              "      <td>Venice</td>\n",
              "      <td>19.070339</td>\n",
              "      <td>4</td>\n",
              "    </tr>\n",
              "    <tr>\n",
              "      <th>86</th>\n",
              "      <td>West Hills</td>\n",
              "      <td>23.366166</td>\n",
              "      <td>4</td>\n",
              "    </tr>\n",
              "    <tr>\n",
              "      <th>87</th>\n",
              "      <td>Wilmington</td>\n",
              "      <td>13.079585</td>\n",
              "      <td>2</td>\n",
              "    </tr>\n",
              "    <tr>\n",
              "      <th>88</th>\n",
              "      <td>Winnetka</td>\n",
              "      <td>14.229149</td>\n",
              "      <td>3</td>\n",
              "    </tr>\n",
              "    <tr>\n",
              "      <th>89</th>\n",
              "      <td>Woodland Hills</td>\n",
              "      <td>18.121091</td>\n",
              "      <td>4</td>\n",
              "    </tr>\n",
              "  </tbody>\n",
              "</table>\n",
              "<p>90 rows × 3 columns</p>\n",
              "</div>"
            ],
            "text/plain": [
              "              City  weekly_score  level\n",
              "0            Acton     10.569605      2\n",
              "1     Agoura Hills     10.150877      1\n",
              "2         Alhambra      8.055399      1\n",
              "3         Altadena     10.459486      2\n",
              "4          Arcadia      8.663229      1\n",
              "..             ...           ...    ...\n",
              "85          Venice     19.070339      4\n",
              "86      West Hills     23.366166      4\n",
              "87      Wilmington     13.079585      2\n",
              "88        Winnetka     14.229149      3\n",
              "89  Woodland Hills     18.121091      4\n",
              "\n",
              "[90 rows x 3 columns]"
            ]
          },
          "metadata": {
            "tags": []
          },
          "execution_count": 473
        }
      ]
    },
    {
      "cell_type": "code",
      "metadata": {
        "id": "gKhBcyqRegOX",
        "colab_type": "code",
        "colab": {}
      },
      "source": [
        "# weekly_risk.to_csv('weekly_risk_score.csv', index=False)"
      ],
      "execution_count": 474,
      "outputs": []
    },
    {
      "cell_type": "markdown",
      "metadata": {
        "id": "zbLgHo03FnSt",
        "colab_type": "text"
      },
      "source": [
        "#### Time Series Risk Score"
      ]
    },
    {
      "cell_type": "code",
      "metadata": {
        "id": "ZSW_Et72jRmW",
        "colab_type": "code",
        "colab": {}
      },
      "source": [
        "risk_trunc = risk_score.iloc[:,[0,3,4,5,6,7,8]]"
      ],
      "execution_count": 475,
      "outputs": []
    },
    {
      "cell_type": "code",
      "metadata": {
        "id": "H1ExxZOB6flP",
        "colab_type": "code",
        "colab": {
          "base_uri": "https://localhost:8080/",
          "height": 419
        },
        "outputId": "6368ca28-ebd5-40c7-af9f-390522fdeb9e"
      },
      "source": [
        "risk_trunc"
      ],
      "execution_count": 476,
      "outputs": [
        {
          "output_type": "execute_result",
          "data": {
            "text/html": [
              "<div>\n",
              "<style scoped>\n",
              "    .dataframe tbody tr th:only-of-type {\n",
              "        vertical-align: middle;\n",
              "    }\n",
              "\n",
              "    .dataframe tbody tr th {\n",
              "        vertical-align: top;\n",
              "    }\n",
              "\n",
              "    .dataframe thead th {\n",
              "        text-align: right;\n",
              "    }\n",
              "</style>\n",
              "<table border=\"1\" class=\"dataframe\">\n",
              "  <thead>\n",
              "    <tr style=\"text-align: right;\">\n",
              "      <th></th>\n",
              "      <th>City</th>\n",
              "      <th>2020-08-17</th>\n",
              "      <th>2020-08-18</th>\n",
              "      <th>2020-08-19</th>\n",
              "      <th>2020-08-20</th>\n",
              "      <th>2020-08-21</th>\n",
              "      <th>2020-08-22</th>\n",
              "    </tr>\n",
              "  </thead>\n",
              "  <tbody>\n",
              "    <tr>\n",
              "      <th>0</th>\n",
              "      <td>Acton</td>\n",
              "      <td>11.005058</td>\n",
              "      <td>10.556103</td>\n",
              "      <td>10.366831</td>\n",
              "      <td>10.581087</td>\n",
              "      <td>10.617428</td>\n",
              "      <td>10.291122</td>\n",
              "    </tr>\n",
              "    <tr>\n",
              "      <th>1</th>\n",
              "      <td>Agoura Hills</td>\n",
              "      <td>10.569079</td>\n",
              "      <td>10.137911</td>\n",
              "      <td>9.956137</td>\n",
              "      <td>10.161905</td>\n",
              "      <td>10.196806</td>\n",
              "      <td>9.883427</td>\n",
              "    </tr>\n",
              "    <tr>\n",
              "      <th>2</th>\n",
              "      <td>Alhambra</td>\n",
              "      <td>8.387270</td>\n",
              "      <td>8.045109</td>\n",
              "      <td>7.900859</td>\n",
              "      <td>8.064150</td>\n",
              "      <td>8.091846</td>\n",
              "      <td>7.843159</td>\n",
              "    </tr>\n",
              "    <tr>\n",
              "      <th>3</th>\n",
              "      <td>Altadena</td>\n",
              "      <td>10.890402</td>\n",
              "      <td>10.446125</td>\n",
              "      <td>10.258824</td>\n",
              "      <td>10.470848</td>\n",
              "      <td>10.506810</td>\n",
              "      <td>10.183904</td>\n",
              "    </tr>\n",
              "    <tr>\n",
              "      <th>4</th>\n",
              "      <td>Arcadia</td>\n",
              "      <td>9.020141</td>\n",
              "      <td>8.652162</td>\n",
              "      <td>8.497028</td>\n",
              "      <td>8.672640</td>\n",
              "      <td>8.702426</td>\n",
              "      <td>8.434974</td>\n",
              "    </tr>\n",
              "    <tr>\n",
              "      <th>...</th>\n",
              "      <td>...</td>\n",
              "      <td>...</td>\n",
              "      <td>...</td>\n",
              "      <td>...</td>\n",
              "      <td>...</td>\n",
              "      <td>...</td>\n",
              "      <td>...</td>\n",
              "    </tr>\n",
              "    <tr>\n",
              "      <th>85</th>\n",
              "      <td>Venice</td>\n",
              "      <td>19.856010</td>\n",
              "      <td>19.045979</td>\n",
              "      <td>18.704482</td>\n",
              "      <td>19.091057</td>\n",
              "      <td>19.156624</td>\n",
              "      <td>18.567883</td>\n",
              "    </tr>\n",
              "    <tr>\n",
              "      <th>86</th>\n",
              "      <td>West Hills</td>\n",
              "      <td>24.328820</td>\n",
              "      <td>23.336319</td>\n",
              "      <td>22.917895</td>\n",
              "      <td>23.391551</td>\n",
              "      <td>23.471888</td>\n",
              "      <td>22.750526</td>\n",
              "    </tr>\n",
              "    <tr>\n",
              "      <th>87</th>\n",
              "      <td>Wilmington</td>\n",
              "      <td>13.618446</td>\n",
              "      <td>13.062878</td>\n",
              "      <td>12.828658</td>\n",
              "      <td>13.093795</td>\n",
              "      <td>13.138765</td>\n",
              "      <td>12.734971</td>\n",
              "    </tr>\n",
              "    <tr>\n",
              "      <th>88</th>\n",
              "      <td>Winnetka</td>\n",
              "      <td>14.815370</td>\n",
              "      <td>14.210973</td>\n",
              "      <td>13.956168</td>\n",
              "      <td>14.244607</td>\n",
              "      <td>14.293529</td>\n",
              "      <td>13.854246</td>\n",
              "    </tr>\n",
              "    <tr>\n",
              "      <th>89</th>\n",
              "      <td>Woodland Hills</td>\n",
              "      <td>18.867654</td>\n",
              "      <td>18.097943</td>\n",
              "      <td>17.773444</td>\n",
              "      <td>18.140777</td>\n",
              "      <td>18.203081</td>\n",
              "      <td>17.643645</td>\n",
              "    </tr>\n",
              "  </tbody>\n",
              "</table>\n",
              "<p>90 rows × 7 columns</p>\n",
              "</div>"
            ],
            "text/plain": [
              "              City  2020-08-17  2020-08-18  ...  2020-08-20  2020-08-21  2020-08-22\n",
              "0            Acton   11.005058   10.556103  ...   10.581087   10.617428   10.291122\n",
              "1     Agoura Hills   10.569079   10.137911  ...   10.161905   10.196806    9.883427\n",
              "2         Alhambra    8.387270    8.045109  ...    8.064150    8.091846    7.843159\n",
              "3         Altadena   10.890402   10.446125  ...   10.470848   10.506810   10.183904\n",
              "4          Arcadia    9.020141    8.652162  ...    8.672640    8.702426    8.434974\n",
              "..             ...         ...         ...  ...         ...         ...         ...\n",
              "85          Venice   19.856010   19.045979  ...   19.091057   19.156624   18.567883\n",
              "86      West Hills   24.328820   23.336319  ...   23.391551   23.471888   22.750526\n",
              "87      Wilmington   13.618446   13.062878  ...   13.093795   13.138765   12.734971\n",
              "88        Winnetka   14.815370   14.210973  ...   14.244607   14.293529   13.854246\n",
              "89  Woodland Hills   18.867654   18.097943  ...   18.140777   18.203081   17.643645\n",
              "\n",
              "[90 rows x 7 columns]"
            ]
          },
          "metadata": {
            "tags": []
          },
          "execution_count": 476
        }
      ]
    },
    {
      "cell_type": "code",
      "metadata": {
        "id": "cfbkwo1f7A9i",
        "colab_type": "code",
        "colab": {}
      },
      "source": [
        "# transpose the data to time series\n",
        "trans = risk_trunc.set_index('City').transpose()"
      ],
      "execution_count": 477,
      "outputs": []
    },
    {
      "cell_type": "code",
      "metadata": {
        "id": "aENfZUZH6pHX",
        "colab_type": "code",
        "colab": {
          "base_uri": "https://localhost:8080/",
          "height": 420
        },
        "outputId": "3716c6b2-b36b-4f7d-d660-42b6b2fd8bab"
      },
      "source": [
        "trans"
      ],
      "execution_count": 478,
      "outputs": [
        {
          "output_type": "execute_result",
          "data": {
            "text/html": [
              "<div>\n",
              "<style scoped>\n",
              "    .dataframe tbody tr th:only-of-type {\n",
              "        vertical-align: middle;\n",
              "    }\n",
              "\n",
              "    .dataframe tbody tr th {\n",
              "        vertical-align: top;\n",
              "    }\n",
              "\n",
              "    .dataframe thead th {\n",
              "        text-align: right;\n",
              "    }\n",
              "</style>\n",
              "<table border=\"1\" class=\"dataframe\">\n",
              "  <thead>\n",
              "    <tr style=\"text-align: right;\">\n",
              "      <th>City</th>\n",
              "      <th>Acton</th>\n",
              "      <th>Agoura Hills</th>\n",
              "      <th>Alhambra</th>\n",
              "      <th>Altadena</th>\n",
              "      <th>Arcadia</th>\n",
              "      <th>Artesia</th>\n",
              "      <th>Avalon</th>\n",
              "      <th>Baldwin Park</th>\n",
              "      <th>Bell</th>\n",
              "      <th>Bell Gardens</th>\n",
              "      <th>Bellflower</th>\n",
              "      <th>Beverly Hills</th>\n",
              "      <th>Burbank</th>\n",
              "      <th>Calabasas</th>\n",
              "      <th>Canoga Park</th>\n",
              "      <th>Chatsworth</th>\n",
              "      <th>Claremont</th>\n",
              "      <th>Commerce</th>\n",
              "      <th>Compton</th>\n",
              "      <th>Covina</th>\n",
              "      <th>Cudahy</th>\n",
              "      <th>Culver City</th>\n",
              "      <th>Downey</th>\n",
              "      <th>Duarte</th>\n",
              "      <th>El Monte</th>\n",
              "      <th>El Segundo</th>\n",
              "      <th>Encino</th>\n",
              "      <th>Gardena</th>\n",
              "      <th>Glendale</th>\n",
              "      <th>Glendora</th>\n",
              "      <th>Granada Hills</th>\n",
              "      <th>Harbor City</th>\n",
              "      <th>Hawthorne</th>\n",
              "      <th>Hermosa Beach</th>\n",
              "      <th>Hidden Hills</th>\n",
              "      <th>Huntington Park</th>\n",
              "      <th>Industry</th>\n",
              "      <th>Inglewood</th>\n",
              "      <th>Irwindale</th>\n",
              "      <th>La Canada Flintridge</th>\n",
              "      <th>...</th>\n",
              "      <th>Newhall</th>\n",
              "      <th>North Hills</th>\n",
              "      <th>North Hollywood</th>\n",
              "      <th>Northridge</th>\n",
              "      <th>Pacific Palisades</th>\n",
              "      <th>Pacoima</th>\n",
              "      <th>Palmdale</th>\n",
              "      <th>Panorama City</th>\n",
              "      <th>Paramount</th>\n",
              "      <th>Pico Rivera</th>\n",
              "      <th>Playa Del Rey</th>\n",
              "      <th>Playa Vista</th>\n",
              "      <th>Pomona</th>\n",
              "      <th>Porter Ranch</th>\n",
              "      <th>Rancho Palos Verdes</th>\n",
              "      <th>Redondo Beach</th>\n",
              "      <th>Reseda</th>\n",
              "      <th>Rolling Hills</th>\n",
              "      <th>Rolling Hills Estates</th>\n",
              "      <th>San Dimas</th>\n",
              "      <th>San Fernando</th>\n",
              "      <th>San Pedro</th>\n",
              "      <th>Sherman Oaks</th>\n",
              "      <th>South El Monte</th>\n",
              "      <th>South Gate</th>\n",
              "      <th>South Pasadena</th>\n",
              "      <th>Studio City</th>\n",
              "      <th>Sun Valley</th>\n",
              "      <th>Sunland</th>\n",
              "      <th>Sylmar</th>\n",
              "      <th>Tarzana</th>\n",
              "      <th>Torrance</th>\n",
              "      <th>Tujunga</th>\n",
              "      <th>Valley Village</th>\n",
              "      <th>Van Nuys</th>\n",
              "      <th>Venice</th>\n",
              "      <th>West Hills</th>\n",
              "      <th>Wilmington</th>\n",
              "      <th>Winnetka</th>\n",
              "      <th>Woodland Hills</th>\n",
              "    </tr>\n",
              "  </thead>\n",
              "  <tbody>\n",
              "    <tr>\n",
              "      <th>2020-08-17</th>\n",
              "      <td>11.005058</td>\n",
              "      <td>10.569079</td>\n",
              "      <td>8.387270</td>\n",
              "      <td>10.890402</td>\n",
              "      <td>9.020141</td>\n",
              "      <td>5.837272</td>\n",
              "      <td>14.801925</td>\n",
              "      <td>8.473897</td>\n",
              "      <td>10.378497</td>\n",
              "      <td>11.566486</td>\n",
              "      <td>9.156622</td>\n",
              "      <td>25.127216</td>\n",
              "      <td>17.611330</td>\n",
              "      <td>16.336579</td>\n",
              "      <td>11.961428</td>\n",
              "      <td>18.303536</td>\n",
              "      <td>8.812353</td>\n",
              "      <td>11.063499</td>\n",
              "      <td>10.610320</td>\n",
              "      <td>16.048776</td>\n",
              "      <td>13.639991</td>\n",
              "      <td>15.964627</td>\n",
              "      <td>6.678915</td>\n",
              "      <td>13.340098</td>\n",
              "      <td>13.180721</td>\n",
              "      <td>16.880583</td>\n",
              "      <td>11.896608</td>\n",
              "      <td>8.966075</td>\n",
              "      <td>11.466675</td>\n",
              "      <td>10.992122</td>\n",
              "      <td>16.570103</td>\n",
              "      <td>16.296023</td>\n",
              "      <td>9.112158</td>\n",
              "      <td>13.376997</td>\n",
              "      <td>9.484923</td>\n",
              "      <td>10.004291</td>\n",
              "      <td>17.167478</td>\n",
              "      <td>13.340417</td>\n",
              "      <td>7.495122</td>\n",
              "      <td>14.676995</td>\n",
              "      <td>...</td>\n",
              "      <td>14.541396</td>\n",
              "      <td>9.142931</td>\n",
              "      <td>8.750603</td>\n",
              "      <td>11.554275</td>\n",
              "      <td>24.836884</td>\n",
              "      <td>6.767716</td>\n",
              "      <td>13.290716</td>\n",
              "      <td>10.644833</td>\n",
              "      <td>6.853273</td>\n",
              "      <td>8.594825</td>\n",
              "      <td>26.634974</td>\n",
              "      <td>23.356013</td>\n",
              "      <td>15.693687</td>\n",
              "      <td>19.315037</td>\n",
              "      <td>14.491794</td>\n",
              "      <td>14.678206</td>\n",
              "      <td>16.379062</td>\n",
              "      <td>15.325905</td>\n",
              "      <td>13.901939</td>\n",
              "      <td>15.147827</td>\n",
              "      <td>15.195886</td>\n",
              "      <td>16.218927</td>\n",
              "      <td>10.719445</td>\n",
              "      <td>25.077209</td>\n",
              "      <td>13.336192</td>\n",
              "      <td>24.837466</td>\n",
              "      <td>20.822027</td>\n",
              "      <td>13.105133</td>\n",
              "      <td>17.611199</td>\n",
              "      <td>13.749292</td>\n",
              "      <td>12.444008</td>\n",
              "      <td>16.878576</td>\n",
              "      <td>20.334443</td>\n",
              "      <td>20.291416</td>\n",
              "      <td>6.736196</td>\n",
              "      <td>19.856010</td>\n",
              "      <td>24.328820</td>\n",
              "      <td>13.618446</td>\n",
              "      <td>14.815370</td>\n",
              "      <td>18.867654</td>\n",
              "    </tr>\n",
              "    <tr>\n",
              "      <th>2020-08-18</th>\n",
              "      <td>10.556103</td>\n",
              "      <td>10.137911</td>\n",
              "      <td>8.045109</td>\n",
              "      <td>10.446125</td>\n",
              "      <td>8.652162</td>\n",
              "      <td>5.599139</td>\n",
              "      <td>14.198076</td>\n",
              "      <td>8.128203</td>\n",
              "      <td>9.955103</td>\n",
              "      <td>11.094628</td>\n",
              "      <td>8.783075</td>\n",
              "      <td>24.102144</td>\n",
              "      <td>16.892871</td>\n",
              "      <td>15.670124</td>\n",
              "      <td>11.473458</td>\n",
              "      <td>17.556839</td>\n",
              "      <td>8.452851</td>\n",
              "      <td>10.612161</td>\n",
              "      <td>10.177469</td>\n",
              "      <td>15.394062</td>\n",
              "      <td>13.083544</td>\n",
              "      <td>15.313346</td>\n",
              "      <td>6.406447</td>\n",
              "      <td>12.795886</td>\n",
              "      <td>12.643010</td>\n",
              "      <td>16.191935</td>\n",
              "      <td>11.411283</td>\n",
              "      <td>8.600302</td>\n",
              "      <td>10.998889</td>\n",
              "      <td>10.543696</td>\n",
              "      <td>15.894121</td>\n",
              "      <td>15.631222</td>\n",
              "      <td>8.740425</td>\n",
              "      <td>12.831279</td>\n",
              "      <td>9.097983</td>\n",
              "      <td>9.596163</td>\n",
              "      <td>16.467126</td>\n",
              "      <td>12.796191</td>\n",
              "      <td>7.189356</td>\n",
              "      <td>14.078243</td>\n",
              "      <td>...</td>\n",
              "      <td>13.948176</td>\n",
              "      <td>8.769943</td>\n",
              "      <td>8.393620</td>\n",
              "      <td>11.082915</td>\n",
              "      <td>23.823657</td>\n",
              "      <td>6.491626</td>\n",
              "      <td>12.748517</td>\n",
              "      <td>10.210574</td>\n",
              "      <td>6.573692</td>\n",
              "      <td>8.244197</td>\n",
              "      <td>25.548393</td>\n",
              "      <td>22.403198</td>\n",
              "      <td>15.053459</td>\n",
              "      <td>18.527075</td>\n",
              "      <td>13.900597</td>\n",
              "      <td>14.079405</td>\n",
              "      <td>15.710874</td>\n",
              "      <td>14.700680</td>\n",
              "      <td>13.334806</td>\n",
              "      <td>14.529868</td>\n",
              "      <td>14.575966</td>\n",
              "      <td>15.557271</td>\n",
              "      <td>10.282142</td>\n",
              "      <td>24.054177</td>\n",
              "      <td>12.792138</td>\n",
              "      <td>23.824215</td>\n",
              "      <td>19.972587</td>\n",
              "      <td>12.570506</td>\n",
              "      <td>16.892745</td>\n",
              "      <td>13.188386</td>\n",
              "      <td>11.936351</td>\n",
              "      <td>16.190010</td>\n",
              "      <td>19.504894</td>\n",
              "      <td>19.463622</td>\n",
              "      <td>6.461391</td>\n",
              "      <td>19.045979</td>\n",
              "      <td>23.336319</td>\n",
              "      <td>13.062878</td>\n",
              "      <td>14.210973</td>\n",
              "      <td>18.097943</td>\n",
              "    </tr>\n",
              "    <tr>\n",
              "      <th>2020-08-19</th>\n",
              "      <td>10.366831</td>\n",
              "      <td>9.956137</td>\n",
              "      <td>7.900859</td>\n",
              "      <td>10.258824</td>\n",
              "      <td>8.497028</td>\n",
              "      <td>5.498745</td>\n",
              "      <td>13.943503</td>\n",
              "      <td>7.982463</td>\n",
              "      <td>9.776607</td>\n",
              "      <td>10.895700</td>\n",
              "      <td>8.625593</td>\n",
              "      <td>23.669989</td>\n",
              "      <td>16.589979</td>\n",
              "      <td>15.389156</td>\n",
              "      <td>11.267737</td>\n",
              "      <td>17.242042</td>\n",
              "      <td>8.301290</td>\n",
              "      <td>10.421883</td>\n",
              "      <td>9.994985</td>\n",
              "      <td>15.118044</td>\n",
              "      <td>12.848954</td>\n",
              "      <td>15.038775</td>\n",
              "      <td>6.291579</td>\n",
              "      <td>12.566453</td>\n",
              "      <td>12.416319</td>\n",
              "      <td>15.901611</td>\n",
              "      <td>11.206677</td>\n",
              "      <td>8.446097</td>\n",
              "      <td>10.801678</td>\n",
              "      <td>10.354646</td>\n",
              "      <td>15.609137</td>\n",
              "      <td>15.350952</td>\n",
              "      <td>8.583708</td>\n",
              "      <td>12.601212</td>\n",
              "      <td>8.934855</td>\n",
              "      <td>9.424103</td>\n",
              "      <td>16.171868</td>\n",
              "      <td>12.566754</td>\n",
              "      <td>7.060450</td>\n",
              "      <td>13.825818</td>\n",
              "      <td>...</td>\n",
              "      <td>13.698083</td>\n",
              "      <td>8.612696</td>\n",
              "      <td>8.243121</td>\n",
              "      <td>10.884197</td>\n",
              "      <td>23.396495</td>\n",
              "      <td>6.375230</td>\n",
              "      <td>12.519935</td>\n",
              "      <td>10.027497</td>\n",
              "      <td>6.455825</td>\n",
              "      <td>8.096377</td>\n",
              "      <td>25.090307</td>\n",
              "      <td>22.001506</td>\n",
              "      <td>14.783548</td>\n",
              "      <td>18.194882</td>\n",
              "      <td>13.651357</td>\n",
              "      <td>13.826959</td>\n",
              "      <td>15.429175</td>\n",
              "      <td>14.437095</td>\n",
              "      <td>13.095711</td>\n",
              "      <td>14.269345</td>\n",
              "      <td>14.314616</td>\n",
              "      <td>15.278327</td>\n",
              "      <td>10.097782</td>\n",
              "      <td>23.622882</td>\n",
              "      <td>12.562773</td>\n",
              "      <td>23.397043</td>\n",
              "      <td>19.614476</td>\n",
              "      <td>12.345115</td>\n",
              "      <td>16.589856</td>\n",
              "      <td>12.951916</td>\n",
              "      <td>11.722331</td>\n",
              "      <td>15.899720</td>\n",
              "      <td>19.155168</td>\n",
              "      <td>19.114637</td>\n",
              "      <td>6.345537</td>\n",
              "      <td>18.704482</td>\n",
              "      <td>22.917895</td>\n",
              "      <td>12.828658</td>\n",
              "      <td>13.956168</td>\n",
              "      <td>17.773444</td>\n",
              "    </tr>\n",
              "    <tr>\n",
              "      <th>2020-08-20</th>\n",
              "      <td>10.581087</td>\n",
              "      <td>10.161905</td>\n",
              "      <td>8.064150</td>\n",
              "      <td>10.470848</td>\n",
              "      <td>8.672640</td>\n",
              "      <td>5.612391</td>\n",
              "      <td>14.231680</td>\n",
              "      <td>8.147440</td>\n",
              "      <td>9.978665</td>\n",
              "      <td>11.120887</td>\n",
              "      <td>8.803863</td>\n",
              "      <td>24.159189</td>\n",
              "      <td>16.932853</td>\n",
              "      <td>15.707212</td>\n",
              "      <td>11.500613</td>\n",
              "      <td>17.598392</td>\n",
              "      <td>8.472857</td>\n",
              "      <td>10.637278</td>\n",
              "      <td>10.201557</td>\n",
              "      <td>15.430496</td>\n",
              "      <td>13.114510</td>\n",
              "      <td>15.349589</td>\n",
              "      <td>6.421610</td>\n",
              "      <td>12.826171</td>\n",
              "      <td>12.672933</td>\n",
              "      <td>16.230258</td>\n",
              "      <td>11.438291</td>\n",
              "      <td>8.620657</td>\n",
              "      <td>11.024921</td>\n",
              "      <td>10.568650</td>\n",
              "      <td>15.931739</td>\n",
              "      <td>15.668218</td>\n",
              "      <td>8.761112</td>\n",
              "      <td>12.861647</td>\n",
              "      <td>9.119516</td>\n",
              "      <td>9.618875</td>\n",
              "      <td>16.506100</td>\n",
              "      <td>12.826477</td>\n",
              "      <td>7.206372</td>\n",
              "      <td>14.111563</td>\n",
              "      <td>...</td>\n",
              "      <td>13.981188</td>\n",
              "      <td>8.790699</td>\n",
              "      <td>8.413486</td>\n",
              "      <td>11.109146</td>\n",
              "      <td>23.880042</td>\n",
              "      <td>6.506990</td>\n",
              "      <td>12.778690</td>\n",
              "      <td>10.234740</td>\n",
              "      <td>6.589251</td>\n",
              "      <td>8.263709</td>\n",
              "      <td>25.608861</td>\n",
              "      <td>22.456222</td>\n",
              "      <td>15.089087</td>\n",
              "      <td>18.570925</td>\n",
              "      <td>13.933497</td>\n",
              "      <td>14.112728</td>\n",
              "      <td>15.748058</td>\n",
              "      <td>14.735474</td>\n",
              "      <td>13.366367</td>\n",
              "      <td>14.564257</td>\n",
              "      <td>14.610464</td>\n",
              "      <td>15.594092</td>\n",
              "      <td>10.306478</td>\n",
              "      <td>24.111108</td>\n",
              "      <td>12.822414</td>\n",
              "      <td>23.880601</td>\n",
              "      <td>20.019858</td>\n",
              "      <td>12.600258</td>\n",
              "      <td>16.932727</td>\n",
              "      <td>13.219600</td>\n",
              "      <td>11.964602</td>\n",
              "      <td>16.228328</td>\n",
              "      <td>19.551057</td>\n",
              "      <td>19.509688</td>\n",
              "      <td>6.476684</td>\n",
              "      <td>19.091057</td>\n",
              "      <td>23.391551</td>\n",
              "      <td>13.093795</td>\n",
              "      <td>14.244607</td>\n",
              "      <td>18.140777</td>\n",
              "    </tr>\n",
              "    <tr>\n",
              "      <th>2020-08-21</th>\n",
              "      <td>10.617428</td>\n",
              "      <td>10.196806</td>\n",
              "      <td>8.091846</td>\n",
              "      <td>10.506810</td>\n",
              "      <td>8.702426</td>\n",
              "      <td>5.631666</td>\n",
              "      <td>14.280558</td>\n",
              "      <td>8.175422</td>\n",
              "      <td>10.012936</td>\n",
              "      <td>11.159081</td>\n",
              "      <td>8.834099</td>\n",
              "      <td>24.242162</td>\n",
              "      <td>16.991008</td>\n",
              "      <td>15.761157</td>\n",
              "      <td>11.540112</td>\n",
              "      <td>17.658833</td>\n",
              "      <td>8.501957</td>\n",
              "      <td>10.673811</td>\n",
              "      <td>10.236593</td>\n",
              "      <td>15.483492</td>\n",
              "      <td>13.159551</td>\n",
              "      <td>15.402307</td>\n",
              "      <td>6.443665</td>\n",
              "      <td>12.870221</td>\n",
              "      <td>12.716457</td>\n",
              "      <td>16.286000</td>\n",
              "      <td>11.477575</td>\n",
              "      <td>8.650264</td>\n",
              "      <td>11.062786</td>\n",
              "      <td>10.604948</td>\n",
              "      <td>15.986456</td>\n",
              "      <td>15.722030</td>\n",
              "      <td>8.791202</td>\n",
              "      <td>12.905820</td>\n",
              "      <td>9.150837</td>\n",
              "      <td>9.651911</td>\n",
              "      <td>16.562790</td>\n",
              "      <td>12.870529</td>\n",
              "      <td>7.231122</td>\n",
              "      <td>14.160029</td>\n",
              "      <td>...</td>\n",
              "      <td>14.029206</td>\n",
              "      <td>8.820891</td>\n",
              "      <td>8.442382</td>\n",
              "      <td>11.147300</td>\n",
              "      <td>23.962057</td>\n",
              "      <td>6.529338</td>\n",
              "      <td>12.822578</td>\n",
              "      <td>10.269891</td>\n",
              "      <td>6.611881</td>\n",
              "      <td>8.292090</td>\n",
              "      <td>25.696813</td>\n",
              "      <td>22.533347</td>\n",
              "      <td>15.140910</td>\n",
              "      <td>18.634706</td>\n",
              "      <td>13.981351</td>\n",
              "      <td>14.161197</td>\n",
              "      <td>15.802144</td>\n",
              "      <td>14.786082</td>\n",
              "      <td>13.412273</td>\n",
              "      <td>14.614277</td>\n",
              "      <td>14.660643</td>\n",
              "      <td>15.647649</td>\n",
              "      <td>10.341875</td>\n",
              "      <td>24.193917</td>\n",
              "      <td>12.866452</td>\n",
              "      <td>23.962618</td>\n",
              "      <td>20.088615</td>\n",
              "      <td>12.643533</td>\n",
              "      <td>16.990881</td>\n",
              "      <td>13.265002</td>\n",
              "      <td>12.005694</td>\n",
              "      <td>16.284063</td>\n",
              "      <td>19.618205</td>\n",
              "      <td>19.576694</td>\n",
              "      <td>6.498928</td>\n",
              "      <td>19.156624</td>\n",
              "      <td>23.471888</td>\n",
              "      <td>13.138765</td>\n",
              "      <td>14.293529</td>\n",
              "      <td>18.203081</td>\n",
              "    </tr>\n",
              "    <tr>\n",
              "      <th>2020-08-22</th>\n",
              "      <td>10.291122</td>\n",
              "      <td>9.883427</td>\n",
              "      <td>7.843159</td>\n",
              "      <td>10.183904</td>\n",
              "      <td>8.434974</td>\n",
              "      <td>5.458588</td>\n",
              "      <td>13.841673</td>\n",
              "      <td>7.924167</td>\n",
              "      <td>9.705208</td>\n",
              "      <td>10.816129</td>\n",
              "      <td>8.562601</td>\n",
              "      <td>23.497127</td>\n",
              "      <td>16.468823</td>\n",
              "      <td>15.276769</td>\n",
              "      <td>11.185449</td>\n",
              "      <td>17.116123</td>\n",
              "      <td>8.240666</td>\n",
              "      <td>10.345772</td>\n",
              "      <td>9.921992</td>\n",
              "      <td>15.007637</td>\n",
              "      <td>12.755118</td>\n",
              "      <td>14.928947</td>\n",
              "      <td>6.245631</td>\n",
              "      <td>12.474681</td>\n",
              "      <td>12.325642</td>\n",
              "      <td>15.785482</td>\n",
              "      <td>11.124834</td>\n",
              "      <td>8.384415</td>\n",
              "      <td>10.722793</td>\n",
              "      <td>10.279026</td>\n",
              "      <td>15.495143</td>\n",
              "      <td>15.238844</td>\n",
              "      <td>8.521022</td>\n",
              "      <td>12.509185</td>\n",
              "      <td>8.869604</td>\n",
              "      <td>9.355278</td>\n",
              "      <td>16.053765</td>\n",
              "      <td>12.474979</td>\n",
              "      <td>7.008887</td>\n",
              "      <td>13.724848</td>\n",
              "      <td>...</td>\n",
              "      <td>13.598046</td>\n",
              "      <td>8.549798</td>\n",
              "      <td>8.182922</td>\n",
              "      <td>10.804709</td>\n",
              "      <td>23.225631</td>\n",
              "      <td>6.328671</td>\n",
              "      <td>12.428502</td>\n",
              "      <td>9.954266</td>\n",
              "      <td>6.408678</td>\n",
              "      <td>8.037249</td>\n",
              "      <td>24.907072</td>\n",
              "      <td>21.840829</td>\n",
              "      <td>14.675584</td>\n",
              "      <td>18.062005</td>\n",
              "      <td>13.551661</td>\n",
              "      <td>13.725981</td>\n",
              "      <td>15.316496</td>\n",
              "      <td>14.331661</td>\n",
              "      <td>13.000073</td>\n",
              "      <td>14.165136</td>\n",
              "      <td>14.210077</td>\n",
              "      <td>15.166750</td>\n",
              "      <td>10.024038</td>\n",
              "      <td>23.450364</td>\n",
              "      <td>12.471027</td>\n",
              "      <td>23.226174</td>\n",
              "      <td>19.471231</td>\n",
              "      <td>12.254959</td>\n",
              "      <td>16.468700</td>\n",
              "      <td>12.857328</td>\n",
              "      <td>11.636723</td>\n",
              "      <td>15.783605</td>\n",
              "      <td>19.015278</td>\n",
              "      <td>18.975042</td>\n",
              "      <td>6.299196</td>\n",
              "      <td>18.567883</td>\n",
              "      <td>22.750526</td>\n",
              "      <td>12.734971</td>\n",
              "      <td>13.854246</td>\n",
              "      <td>17.643645</td>\n",
              "    </tr>\n",
              "  </tbody>\n",
              "</table>\n",
              "<p>6 rows × 90 columns</p>\n",
              "</div>"
            ],
            "text/plain": [
              "City            Acton  Agoura Hills  ...   Winnetka  Woodland Hills\n",
              "2020-08-17  11.005058     10.569079  ...  14.815370       18.867654\n",
              "2020-08-18  10.556103     10.137911  ...  14.210973       18.097943\n",
              "2020-08-19  10.366831      9.956137  ...  13.956168       17.773444\n",
              "2020-08-20  10.581087     10.161905  ...  14.244607       18.140777\n",
              "2020-08-21  10.617428     10.196806  ...  14.293529       18.203081\n",
              "2020-08-22  10.291122      9.883427  ...  13.854246       17.643645\n",
              "\n",
              "[6 rows x 90 columns]"
            ]
          },
          "metadata": {
            "tags": []
          },
          "execution_count": 478
        }
      ]
    },
    {
      "cell_type": "code",
      "metadata": {
        "id": "QCPYvbZXGcVr",
        "colab_type": "code",
        "colab": {}
      },
      "source": [
        "trans_reindex = trans.reset_index()"
      ],
      "execution_count": 479,
      "outputs": []
    },
    {
      "cell_type": "code",
      "metadata": {
        "id": "gw16aKsR9J3q",
        "colab_type": "code",
        "colab": {}
      },
      "source": [
        "# melt the city name to one column\n",
        "melted = pd.melt(trans_reindex, id_vars='index', value_vars=trans_reindex.columns[1:])"
      ],
      "execution_count": 480,
      "outputs": []
    },
    {
      "cell_type": "code",
      "metadata": {
        "id": "rpAiqXLl-4cf",
        "colab_type": "code",
        "colab": {}
      },
      "source": [
        "sort_melt = melted.sort_values(by='index').reset_index(drop=True).rename(columns={'index':'Date','value':'Score'})"
      ],
      "execution_count": 481,
      "outputs": []
    },
    {
      "cell_type": "code",
      "metadata": {
        "id": "GXz9P5rl6t0A",
        "colab_type": "code",
        "colab": {
          "base_uri": "https://localhost:8080/",
          "height": 419
        },
        "outputId": "32240444-ac38-4ecf-ea83-46d23a285387"
      },
      "source": [
        "sort_melt"
      ],
      "execution_count": 482,
      "outputs": [
        {
          "output_type": "execute_result",
          "data": {
            "text/html": [
              "<div>\n",
              "<style scoped>\n",
              "    .dataframe tbody tr th:only-of-type {\n",
              "        vertical-align: middle;\n",
              "    }\n",
              "\n",
              "    .dataframe tbody tr th {\n",
              "        vertical-align: top;\n",
              "    }\n",
              "\n",
              "    .dataframe thead th {\n",
              "        text-align: right;\n",
              "    }\n",
              "</style>\n",
              "<table border=\"1\" class=\"dataframe\">\n",
              "  <thead>\n",
              "    <tr style=\"text-align: right;\">\n",
              "      <th></th>\n",
              "      <th>Date</th>\n",
              "      <th>City</th>\n",
              "      <th>Score</th>\n",
              "    </tr>\n",
              "  </thead>\n",
              "  <tbody>\n",
              "    <tr>\n",
              "      <th>0</th>\n",
              "      <td>2020-08-17</td>\n",
              "      <td>Acton</td>\n",
              "      <td>11.005058</td>\n",
              "    </tr>\n",
              "    <tr>\n",
              "      <th>1</th>\n",
              "      <td>2020-08-17</td>\n",
              "      <td>Harbor City</td>\n",
              "      <td>16.296023</td>\n",
              "    </tr>\n",
              "    <tr>\n",
              "      <th>2</th>\n",
              "      <td>2020-08-17</td>\n",
              "      <td>Hawthorne</td>\n",
              "      <td>9.112158</td>\n",
              "    </tr>\n",
              "    <tr>\n",
              "      <th>3</th>\n",
              "      <td>2020-08-17</td>\n",
              "      <td>Hermosa Beach</td>\n",
              "      <td>13.376997</td>\n",
              "    </tr>\n",
              "    <tr>\n",
              "      <th>4</th>\n",
              "      <td>2020-08-17</td>\n",
              "      <td>Van Nuys</td>\n",
              "      <td>6.736196</td>\n",
              "    </tr>\n",
              "    <tr>\n",
              "      <th>...</th>\n",
              "      <td>...</td>\n",
              "      <td>...</td>\n",
              "      <td>...</td>\n",
              "    </tr>\n",
              "    <tr>\n",
              "      <th>535</th>\n",
              "      <td>2020-08-22</td>\n",
              "      <td>Northridge</td>\n",
              "      <td>10.804709</td>\n",
              "    </tr>\n",
              "    <tr>\n",
              "      <th>536</th>\n",
              "      <td>2020-08-22</td>\n",
              "      <td>Pacific Palisades</td>\n",
              "      <td>23.225631</td>\n",
              "    </tr>\n",
              "    <tr>\n",
              "      <th>537</th>\n",
              "      <td>2020-08-22</td>\n",
              "      <td>Pacoima</td>\n",
              "      <td>6.328671</td>\n",
              "    </tr>\n",
              "    <tr>\n",
              "      <th>538</th>\n",
              "      <td>2020-08-22</td>\n",
              "      <td>Lynwood</td>\n",
              "      <td>14.098000</td>\n",
              "    </tr>\n",
              "    <tr>\n",
              "      <th>539</th>\n",
              "      <td>2020-08-22</td>\n",
              "      <td>Woodland Hills</td>\n",
              "      <td>17.643645</td>\n",
              "    </tr>\n",
              "  </tbody>\n",
              "</table>\n",
              "<p>540 rows × 3 columns</p>\n",
              "</div>"
            ],
            "text/plain": [
              "           Date               City      Score\n",
              "0    2020-08-17              Acton  11.005058\n",
              "1    2020-08-17        Harbor City  16.296023\n",
              "2    2020-08-17          Hawthorne   9.112158\n",
              "3    2020-08-17      Hermosa Beach  13.376997\n",
              "4    2020-08-17           Van Nuys   6.736196\n",
              "..          ...                ...        ...\n",
              "535  2020-08-22         Northridge  10.804709\n",
              "536  2020-08-22  Pacific Palisades  23.225631\n",
              "537  2020-08-22            Pacoima   6.328671\n",
              "538  2020-08-22            Lynwood  14.098000\n",
              "539  2020-08-22     Woodland Hills  17.643645\n",
              "\n",
              "[540 rows x 3 columns]"
            ]
          },
          "metadata": {
            "tags": []
          },
          "execution_count": 482
        }
      ]
    },
    {
      "cell_type": "markdown",
      "metadata": {
        "id": "JN9qjKIW60tB",
        "colab_type": "text"
      },
      "source": [
        "##### Generate the levels"
      ]
    },
    {
      "cell_type": "code",
      "metadata": {
        "id": "Dno_6eKSEHJ-",
        "colab_type": "code",
        "colab": {}
      },
      "source": [
        "# Calculate the quantile for each date\n",
        "q1 = np.quantile(trans,0.25,axis=1).reshape(-1,1)\n",
        "q2 = np.quantile(trans,0.5,axis=1).reshape(-1,1)\n",
        "q3 = np.quantile(trans,0.75,axis=1).reshape(-1,1)\n",
        "quantiles = np.concatenate([q1,q2,q3], axis = 1)\n",
        "quant_df = pd.DataFrame(quantiles, columns=['q1','q2','q3'], index=trans.index)"
      ],
      "execution_count": 483,
      "outputs": []
    },
    {
      "cell_type": "code",
      "metadata": {
        "id": "TNbd2Jz1BPuB",
        "colab_type": "code",
        "colab": {}
      },
      "source": [
        "merged_with_quantile = pd.merge(sort_melt, quant_df, left_on='Date', right_on=quant_df.index)"
      ],
      "execution_count": 484,
      "outputs": []
    },
    {
      "cell_type": "code",
      "metadata": {
        "id": "hwZn92zkIdba",
        "colab_type": "code",
        "colab": {}
      },
      "source": [
        "# assign the level labels\n",
        "level = []\n",
        "for score, q1, q2, q3 in zip(merged_with_quantile['Score'], merged_with_quantile['q1'], merged_with_quantile['q2'], merged_with_quantile['q3']):\n",
        "  if score <= q1:\n",
        "    lev = 1\n",
        "  elif score <= q2 and score > q1:\n",
        "    lev = 2\n",
        "  elif score <= q3 and score > q2:\n",
        "    lev = 3\n",
        "  else : \n",
        "    lev = 4\n",
        "  level.append(lev)"
      ],
      "execution_count": 485,
      "outputs": []
    },
    {
      "cell_type": "code",
      "metadata": {
        "id": "wZLSYdRvJVJ7",
        "colab_type": "code",
        "colab": {
          "base_uri": "https://localhost:8080/",
          "height": 419
        },
        "outputId": "0a7f68a3-ae89-4d62-a81f-ece275cb2d76"
      },
      "source": [
        "merged_with_quantile['Daily_Level'] = level"
      ],
      "execution_count": 490,
      "outputs": [
        {
          "output_type": "execute_result",
          "data": {
            "text/html": [
              "<div>\n",
              "<style scoped>\n",
              "    .dataframe tbody tr th:only-of-type {\n",
              "        vertical-align: middle;\n",
              "    }\n",
              "\n",
              "    .dataframe tbody tr th {\n",
              "        vertical-align: top;\n",
              "    }\n",
              "\n",
              "    .dataframe thead th {\n",
              "        text-align: right;\n",
              "    }\n",
              "</style>\n",
              "<table border=\"1\" class=\"dataframe\">\n",
              "  <thead>\n",
              "    <tr style=\"text-align: right;\">\n",
              "      <th></th>\n",
              "      <th>Date</th>\n",
              "      <th>City</th>\n",
              "      <th>Score</th>\n",
              "      <th>q1</th>\n",
              "      <th>q2</th>\n",
              "      <th>q3</th>\n",
              "      <th>Daily_Level</th>\n",
              "    </tr>\n",
              "  </thead>\n",
              "  <tbody>\n",
              "    <tr>\n",
              "      <th>0</th>\n",
              "      <td>2020-08-17</td>\n",
              "      <td>Acton</td>\n",
              "      <td>11.005058</td>\n",
              "      <td>10.663486</td>\n",
              "      <td>13.825615</td>\n",
              "      <td>16.450325</td>\n",
              "      <td>2</td>\n",
              "    </tr>\n",
              "    <tr>\n",
              "      <th>1</th>\n",
              "      <td>2020-08-17</td>\n",
              "      <td>Harbor City</td>\n",
              "      <td>16.296023</td>\n",
              "      <td>10.663486</td>\n",
              "      <td>13.825615</td>\n",
              "      <td>16.450325</td>\n",
              "      <td>3</td>\n",
              "    </tr>\n",
              "    <tr>\n",
              "      <th>2</th>\n",
              "      <td>2020-08-17</td>\n",
              "      <td>Hawthorne</td>\n",
              "      <td>9.112158</td>\n",
              "      <td>10.663486</td>\n",
              "      <td>13.825615</td>\n",
              "      <td>16.450325</td>\n",
              "      <td>1</td>\n",
              "    </tr>\n",
              "    <tr>\n",
              "      <th>3</th>\n",
              "      <td>2020-08-17</td>\n",
              "      <td>Hermosa Beach</td>\n",
              "      <td>13.376997</td>\n",
              "      <td>10.663486</td>\n",
              "      <td>13.825615</td>\n",
              "      <td>16.450325</td>\n",
              "      <td>2</td>\n",
              "    </tr>\n",
              "    <tr>\n",
              "      <th>4</th>\n",
              "      <td>2020-08-17</td>\n",
              "      <td>Van Nuys</td>\n",
              "      <td>6.736196</td>\n",
              "      <td>10.663486</td>\n",
              "      <td>13.825615</td>\n",
              "      <td>16.450325</td>\n",
              "      <td>1</td>\n",
              "    </tr>\n",
              "    <tr>\n",
              "      <th>...</th>\n",
              "      <td>...</td>\n",
              "      <td>...</td>\n",
              "      <td>...</td>\n",
              "      <td>...</td>\n",
              "      <td>...</td>\n",
              "      <td>...</td>\n",
              "      <td>...</td>\n",
              "    </tr>\n",
              "    <tr>\n",
              "      <th>535</th>\n",
              "      <td>2020-08-22</td>\n",
              "      <td>Northridge</td>\n",
              "      <td>10.804709</td>\n",
              "      <td>9.971709</td>\n",
              "      <td>12.928701</td>\n",
              "      <td>15.383136</td>\n",
              "      <td>2</td>\n",
              "    </tr>\n",
              "    <tr>\n",
              "      <th>536</th>\n",
              "      <td>2020-08-22</td>\n",
              "      <td>Pacific Palisades</td>\n",
              "      <td>23.225631</td>\n",
              "      <td>9.971709</td>\n",
              "      <td>12.928701</td>\n",
              "      <td>15.383136</td>\n",
              "      <td>4</td>\n",
              "    </tr>\n",
              "    <tr>\n",
              "      <th>537</th>\n",
              "      <td>2020-08-22</td>\n",
              "      <td>Pacoima</td>\n",
              "      <td>6.328671</td>\n",
              "      <td>9.971709</td>\n",
              "      <td>12.928701</td>\n",
              "      <td>15.383136</td>\n",
              "      <td>1</td>\n",
              "    </tr>\n",
              "    <tr>\n",
              "      <th>538</th>\n",
              "      <td>2020-08-22</td>\n",
              "      <td>Lynwood</td>\n",
              "      <td>14.098000</td>\n",
              "      <td>9.971709</td>\n",
              "      <td>12.928701</td>\n",
              "      <td>15.383136</td>\n",
              "      <td>3</td>\n",
              "    </tr>\n",
              "    <tr>\n",
              "      <th>539</th>\n",
              "      <td>2020-08-22</td>\n",
              "      <td>Woodland Hills</td>\n",
              "      <td>17.643645</td>\n",
              "      <td>9.971709</td>\n",
              "      <td>12.928701</td>\n",
              "      <td>15.383136</td>\n",
              "      <td>4</td>\n",
              "    </tr>\n",
              "  </tbody>\n",
              "</table>\n",
              "<p>540 rows × 7 columns</p>\n",
              "</div>"
            ],
            "text/plain": [
              "           Date               City  ...         q3  Daily_Level\n",
              "0    2020-08-17              Acton  ...  16.450325            2\n",
              "1    2020-08-17        Harbor City  ...  16.450325            3\n",
              "2    2020-08-17          Hawthorne  ...  16.450325            1\n",
              "3    2020-08-17      Hermosa Beach  ...  16.450325            2\n",
              "4    2020-08-17           Van Nuys  ...  16.450325            1\n",
              "..          ...                ...  ...        ...          ...\n",
              "535  2020-08-22         Northridge  ...  15.383136            2\n",
              "536  2020-08-22  Pacific Palisades  ...  15.383136            4\n",
              "537  2020-08-22            Pacoima  ...  15.383136            1\n",
              "538  2020-08-22            Lynwood  ...  15.383136            3\n",
              "539  2020-08-22     Woodland Hills  ...  15.383136            4\n",
              "\n",
              "[540 rows x 7 columns]"
            ]
          },
          "metadata": {
            "tags": []
          },
          "execution_count": 490
        }
      ]
    },
    {
      "cell_type": "code",
      "metadata": {
        "id": "JRUeJaIAJj6q",
        "colab_type": "code",
        "colab": {}
      },
      "source": [
        "final_risk = merged_with_quantile.loc[:,['Date', 'City',\t'Score', 'Daily_Level']]"
      ],
      "execution_count": 491,
      "outputs": []
    },
    {
      "cell_type": "code",
      "metadata": {
        "id": "KBWdeGfT7AOD",
        "colab_type": "code",
        "colab": {
          "base_uri": "https://localhost:8080/",
          "height": 419
        },
        "outputId": "b4885942-5a01-4ef0-8f51-09f39a250153"
      },
      "source": [
        "final_risk"
      ],
      "execution_count": 492,
      "outputs": [
        {
          "output_type": "execute_result",
          "data": {
            "text/html": [
              "<div>\n",
              "<style scoped>\n",
              "    .dataframe tbody tr th:only-of-type {\n",
              "        vertical-align: middle;\n",
              "    }\n",
              "\n",
              "    .dataframe tbody tr th {\n",
              "        vertical-align: top;\n",
              "    }\n",
              "\n",
              "    .dataframe thead th {\n",
              "        text-align: right;\n",
              "    }\n",
              "</style>\n",
              "<table border=\"1\" class=\"dataframe\">\n",
              "  <thead>\n",
              "    <tr style=\"text-align: right;\">\n",
              "      <th></th>\n",
              "      <th>Date</th>\n",
              "      <th>City</th>\n",
              "      <th>Score</th>\n",
              "      <th>Daily_Level</th>\n",
              "    </tr>\n",
              "  </thead>\n",
              "  <tbody>\n",
              "    <tr>\n",
              "      <th>0</th>\n",
              "      <td>2020-08-17</td>\n",
              "      <td>Acton</td>\n",
              "      <td>11.005058</td>\n",
              "      <td>2</td>\n",
              "    </tr>\n",
              "    <tr>\n",
              "      <th>1</th>\n",
              "      <td>2020-08-17</td>\n",
              "      <td>Harbor City</td>\n",
              "      <td>16.296023</td>\n",
              "      <td>3</td>\n",
              "    </tr>\n",
              "    <tr>\n",
              "      <th>2</th>\n",
              "      <td>2020-08-17</td>\n",
              "      <td>Hawthorne</td>\n",
              "      <td>9.112158</td>\n",
              "      <td>1</td>\n",
              "    </tr>\n",
              "    <tr>\n",
              "      <th>3</th>\n",
              "      <td>2020-08-17</td>\n",
              "      <td>Hermosa Beach</td>\n",
              "      <td>13.376997</td>\n",
              "      <td>2</td>\n",
              "    </tr>\n",
              "    <tr>\n",
              "      <th>4</th>\n",
              "      <td>2020-08-17</td>\n",
              "      <td>Van Nuys</td>\n",
              "      <td>6.736196</td>\n",
              "      <td>1</td>\n",
              "    </tr>\n",
              "    <tr>\n",
              "      <th>...</th>\n",
              "      <td>...</td>\n",
              "      <td>...</td>\n",
              "      <td>...</td>\n",
              "      <td>...</td>\n",
              "    </tr>\n",
              "    <tr>\n",
              "      <th>535</th>\n",
              "      <td>2020-08-22</td>\n",
              "      <td>Northridge</td>\n",
              "      <td>10.804709</td>\n",
              "      <td>2</td>\n",
              "    </tr>\n",
              "    <tr>\n",
              "      <th>536</th>\n",
              "      <td>2020-08-22</td>\n",
              "      <td>Pacific Palisades</td>\n",
              "      <td>23.225631</td>\n",
              "      <td>4</td>\n",
              "    </tr>\n",
              "    <tr>\n",
              "      <th>537</th>\n",
              "      <td>2020-08-22</td>\n",
              "      <td>Pacoima</td>\n",
              "      <td>6.328671</td>\n",
              "      <td>1</td>\n",
              "    </tr>\n",
              "    <tr>\n",
              "      <th>538</th>\n",
              "      <td>2020-08-22</td>\n",
              "      <td>Lynwood</td>\n",
              "      <td>14.098000</td>\n",
              "      <td>3</td>\n",
              "    </tr>\n",
              "    <tr>\n",
              "      <th>539</th>\n",
              "      <td>2020-08-22</td>\n",
              "      <td>Woodland Hills</td>\n",
              "      <td>17.643645</td>\n",
              "      <td>4</td>\n",
              "    </tr>\n",
              "  </tbody>\n",
              "</table>\n",
              "<p>540 rows × 4 columns</p>\n",
              "</div>"
            ],
            "text/plain": [
              "           Date               City      Score  Daily_Level\n",
              "0    2020-08-17              Acton  11.005058            2\n",
              "1    2020-08-17        Harbor City  16.296023            3\n",
              "2    2020-08-17          Hawthorne   9.112158            1\n",
              "3    2020-08-17      Hermosa Beach  13.376997            2\n",
              "4    2020-08-17           Van Nuys   6.736196            1\n",
              "..          ...                ...        ...          ...\n",
              "535  2020-08-22         Northridge  10.804709            2\n",
              "536  2020-08-22  Pacific Palisades  23.225631            4\n",
              "537  2020-08-22            Pacoima   6.328671            1\n",
              "538  2020-08-22            Lynwood  14.098000            3\n",
              "539  2020-08-22     Woodland Hills  17.643645            4\n",
              "\n",
              "[540 rows x 4 columns]"
            ]
          },
          "metadata": {
            "tags": []
          },
          "execution_count": 492
        }
      ]
    },
    {
      "cell_type": "code",
      "metadata": {
        "id": "Ako25rreTyIU",
        "colab_type": "code",
        "colab": {}
      },
      "source": [
        "# final_risk.to_csv('final_risk_score.csv',index=False)"
      ],
      "execution_count": 489,
      "outputs": []
    }
  ]
}